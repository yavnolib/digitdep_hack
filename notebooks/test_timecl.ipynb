{
 "cells": [
  {
   "cell_type": "code",
   "execution_count": 1,
   "metadata": {},
   "outputs": [],
   "source": [
    "\n",
    "import time\n",
    "import sys\n",
    "sys.path.append('/mnt')\n",
    "from src.cluster.date.app_time import ApplicationTimeClassificator\n",
    "from src.cluster.date.del_time import DeliveryTimeClassificator"
   ]
  },
  {
   "cell_type": "code",
   "execution_count": 2,
   "metadata": {},
   "outputs": [
    {
     "name": "stderr",
     "output_type": "stream",
     "text": [
      "/mnt/src/cluster/date/app_time.py:34: FutureWarning: Downcasting behavior in `replace` is deprecated and will be removed in a future version. To retain the old behavior, explicitly call `result.infer_objects(copy=False)`. To opt-in to the future behavior, set `pd.set_option('future.no_silent_downcasting', True)`\n",
      "  self.df.replace(['nan', 'NaT'], np.nan, inplace=True)\n"
     ]
    }
   ],
   "source": [
    "# Создание кластеров по дате заявки (календарный месяц)\n",
    "ap_time_cl = ApplicationTimeClassificator('/mnt/data/Загрузочный файл.xlsx')\n",
    "ap_time_cl.preprocessing()\n",
    "ap_time_cl.fit()\n",
    "clusters = ap_time_cl.get_clusters()"
   ]
  },
  {
   "cell_type": "code",
   "execution_count": 12,
   "metadata": {},
   "outputs": [],
   "source": [
    "#Создание кластеров по дате доставки (30 дней разницы между заявками)\n",
    "del_time_cl = DeliveryTimeClassificator(30)\n",
    "del_clusters = []\n",
    "for i in range(len(clusters)):\n",
    "    del_time_cl.fit(clusters[i])\n",
    "    del_clusters.append(del_time_cl.get_clusters())"
   ]
  }
 ],
 "metadata": {
  "kernelspec": {
   "display_name": "venv",
   "language": "python",
   "name": "python3"
  },
  "language_info": {
   "codemirror_mode": {
    "name": "ipython",
    "version": 3
   },
   "file_extension": ".py",
   "mimetype": "text/x-python",
   "name": "python",
   "nbconvert_exporter": "python",
   "pygments_lexer": "ipython3",
   "version": "3.12.3"
  }
 },
 "nbformat": 4,
 "nbformat_minor": 2
}
