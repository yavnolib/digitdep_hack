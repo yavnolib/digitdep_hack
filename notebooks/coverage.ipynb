{
 "cells": [
  {
   "cell_type": "code",
   "execution_count": 1,
   "metadata": {},
   "outputs": [],
   "source": [
    "import pandas as pd\n",
    "import numpy as np"
   ]
  },
  {
   "cell_type": "code",
   "execution_count": 8,
   "metadata": {},
   "outputs": [],
   "source": [
    "df = pd.read_excel('/home/yaroslav/progs/digitdep_hack/data/info/buyer.xlsx')\n",
    "df.columns = ['code', 'addr']"
   ]
  },
  {
   "cell_type": "code",
   "execution_count": 136,
   "metadata": {},
   "outputs": [
    {
     "data": {
      "text/html": [
       "<div>\n",
       "<style scoped>\n",
       "    .dataframe tbody tr th:only-of-type {\n",
       "        vertical-align: middle;\n",
       "    }\n",
       "\n",
       "    .dataframe tbody tr th {\n",
       "        vertical-align: top;\n",
       "    }\n",
       "\n",
       "    .dataframe thead th {\n",
       "        text-align: right;\n",
       "    }\n",
       "</style>\n",
       "<table border=\"1\" class=\"dataframe\">\n",
       "  <thead>\n",
       "    <tr style=\"text-align: right;\">\n",
       "      <th></th>\n",
       "      <th>city</th>\n",
       "      <th>region</th>\n",
       "      <th>geo</th>\n",
       "    </tr>\n",
       "  </thead>\n",
       "  <tbody>\n",
       "    <tr>\n",
       "      <th>0</th>\n",
       "      <td>абаза</td>\n",
       "      <td>Хакасия</td>\n",
       "      <td>52.651662,90.088581</td>\n",
       "    </tr>\n",
       "    <tr>\n",
       "      <th>1</th>\n",
       "      <td>абакан</td>\n",
       "      <td>Хакасия</td>\n",
       "      <td>53.721152,91.442396</td>\n",
       "    </tr>\n",
       "    <tr>\n",
       "      <th>2</th>\n",
       "      <td>абдулино</td>\n",
       "      <td>Оренбургская область</td>\n",
       "      <td>53.683962,53.654989</td>\n",
       "    </tr>\n",
       "    <tr>\n",
       "      <th>3</th>\n",
       "      <td>абинск</td>\n",
       "      <td>Краснодарский край</td>\n",
       "      <td>44.866237,38.151288</td>\n",
       "    </tr>\n",
       "    <tr>\n",
       "      <th>4</th>\n",
       "      <td>агидель</td>\n",
       "      <td>Башкортостан</td>\n",
       "      <td>55.899043,53.933439</td>\n",
       "    </tr>\n",
       "    <tr>\n",
       "      <th>...</th>\n",
       "      <td>...</td>\n",
       "      <td>...</td>\n",
       "      <td>...</td>\n",
       "    </tr>\n",
       "    <tr>\n",
       "      <th>1120</th>\n",
       "      <td>ярославль</td>\n",
       "      <td>Ярославская область</td>\n",
       "      <td>57.479957,39.752643</td>\n",
       "    </tr>\n",
       "    <tr>\n",
       "      <th>1121</th>\n",
       "      <td>ярцево</td>\n",
       "      <td>Смоленская область</td>\n",
       "      <td>55.066123,32.688292</td>\n",
       "    </tr>\n",
       "    <tr>\n",
       "      <th>1122</th>\n",
       "      <td>ясногорск</td>\n",
       "      <td>Тульская область</td>\n",
       "      <td>54.479293,37.693354</td>\n",
       "    </tr>\n",
       "    <tr>\n",
       "      <th>1123</th>\n",
       "      <td>ясный</td>\n",
       "      <td>Оренбургская область</td>\n",
       "      <td>51.035711,59.874088</td>\n",
       "    </tr>\n",
       "    <tr>\n",
       "      <th>1124</th>\n",
       "      <td>яхрома</td>\n",
       "      <td>Московская область</td>\n",
       "      <td>56.289890,37.483858</td>\n",
       "    </tr>\n",
       "  </tbody>\n",
       "</table>\n",
       "<p>1125 rows × 3 columns</p>\n",
       "</div>"
      ],
      "text/plain": [
       "           city                region                  geo\n",
       "0         абаза               Хакасия  52.651662,90.088581\n",
       "1        абакан               Хакасия  53.721152,91.442396\n",
       "2      абдулино  Оренбургская область  53.683962,53.654989\n",
       "3        абинск    Краснодарский край  44.866237,38.151288\n",
       "4       агидель          Башкортостан  55.899043,53.933439\n",
       "...         ...                   ...                  ...\n",
       "1120  ярославль   Ярославская область  57.479957,39.752643\n",
       "1121     ярцево    Смоленская область  55.066123,32.688292\n",
       "1122  ясногорск      Тульская область  54.479293,37.693354\n",
       "1123      ясный  Оренбургская область  51.035711,59.874088\n",
       "1124     яхрома    Московская область  56.289890,37.483858\n",
       "\n",
       "[1125 rows x 3 columns]"
      ]
     },
     "execution_count": 136,
     "metadata": {},
     "output_type": "execute_result"
    }
   ],
   "source": [
    "cities = pd.read_csv('geodata/table_geo.csv')\n",
    "cities.city = cities.city.apply(lambda x: x.lower())\n",
    "cities"
   ]
  },
  {
   "cell_type": "code",
   "execution_count": 55,
   "metadata": {},
   "outputs": [],
   "source": [
    "import re\n",
    "\n",
    "IGNORED_WORDS = {\"Россия\", \"РФ\", \"ХМАО\", \"ЯНАО\", \"МО\"}\n",
    "\n",
    "def extract_city(address):\n",
    "    # Регулярное выражение для поиска населенного пункта\n",
    "    city_pattern = (\n",
    "        r'\\b(?:г\\.|город\\s+)?'  # Опционально \"г.\" или \"город\"\n",
    "        r'([А-ЯЁ][а-яё\\-]+(?:\\s+[А-ЯЁ][а-яё\\-]+)*)'  # Название города (включая составные)\n",
    "        r'\\b'  # Границы слова\n",
    "    )\n",
    "    \n",
    "    matches = re.findall(city_pattern, address)\n",
    "    # Фильтрация игнорируемых слов\n",
    "    filtered_matches = [m for m in matches if m not in IGNORED_WORDS]\n",
    "\n",
    "    return filtered_matches[0] if filtered_matches else None\n",
    "\n",
    "\n",
    "# df.addr.apply(lambdaextract_city(addr) for addr in addresses if extract_city(addr)]\n",
    "\n",
    "# # Вывод всех уникальных городов\n",
    "# unique_cities = set(cities)\n",
    "# print(\"Найденные города:\", unique_cities)\n"
   ]
  },
  {
   "cell_type": "code",
   "execution_count": 56,
   "metadata": {},
   "outputs": [],
   "source": [
    "idx = 0"
   ]
  },
  {
   "cell_type": "code",
   "execution_count": 97,
   "metadata": {},
   "outputs": [],
   "source": [
    "import string\n",
    "\n",
    "def custom_strip(text):\n",
    "    # Определяем набор символов для удаления\n",
    "    strip_chars = string.whitespace + string.punctuation\n",
    "    # Удаляем указанные символы с начала и конца строки\n",
    "    return text.strip(strip_chars)\n",
    "\n",
    "def clear_addr(addr):\n",
    "    addr = addr.lower() if isinstance(addr, str) else addr\n",
    "    list_r = list(map(custom_strip, addr.replace('город', 'г.').replace(',', ' ').replace('.', ' ').split()))\n",
    "    if 'г' in list_r:\n",
    "        res_idx = list_r.index('г')\n",
    "    else:\n",
    "        res_idx = 1\n",
    "    return res_idx, list_r"
   ]
  },
  {
   "cell_type": "markdown",
   "metadata": {},
   "source": [
    "проблема: 20 городов с неуникальным названием"
   ]
  },
  {
   "cell_type": "code",
   "execution_count": 139,
   "metadata": {},
   "outputs": [],
   "source": [
    "cities_set = set(cities.city)"
   ]
  },
  {
   "cell_type": "code",
   "execution_count": 184,
   "metadata": {},
   "outputs": [
    {
     "data": {
      "text/plain": [
       "'52.651662,90.088581'"
      ]
     },
     "execution_count": 184,
     "metadata": {},
     "output_type": "execute_result"
    }
   ],
   "source": [
    "cities.query('city == \"абаза\"').geo.values[0]"
   ]
  },
  {
   "cell_type": "code",
   "execution_count": 380,
   "metadata": {},
   "outputs": [],
   "source": [
    "from natasha import (\n",
    "    MorphVocab,\n",
    "    AddrExtractor,\n",
    ")\n",
    "\n",
    "def apply_finder(x):\n",
    "    c_id, list_r = clear_addr(x.lower())\n",
    "    if c_id + 1 < len(list_r):\n",
    "        town = list_r[c_id + 1]\n",
    "    else:\n",
    "        town = 'nan'\n",
    "    # idx += 1\n",
    "    if town in cities_set:\n",
    "        return cities.query(f'city == \"{town}\"').geo.values[0]\n",
    "    else:\n",
    "        return 'nan'\n",
    "\n",
    "\n",
    "def finder_natasha(x):\n",
    "    global c\n",
    "    global green\n",
    "    matches = addr_extractor(x)\n",
    "    town = 'nan'\n",
    "    c += 1\n",
    "    for match in matches:\n",
    "        if match.fact.type == 'город':\n",
    "            town = match.fact.value\n",
    "            break\n",
    "    if town.lower() in cities_set:\n",
    "        green += 1\n",
    "        print(c, green, end='\\r')\n",
    "        res = cities.query(f'city == \"{town.lower()}\"').geo.values\n",
    "        if res.shape[0] > 1:\n",
    "            print(f'{x=}, {res=}')\n",
    "            return 'nan'\n",
    "        return res[0]"
   ]
  },
  {
   "cell_type": "code",
   "execution_count": 189,
   "metadata": {},
   "outputs": [],
   "source": [
    "df['geo'] = 'nan'"
   ]
  },
  {
   "cell_type": "code",
   "execution_count": 201,
   "metadata": {},
   "outputs": [],
   "source": [
    "df['geo'] = df.addr.apply(apply_finder)"
   ]
  },
  {
   "cell_type": "code",
   "execution_count": 381,
   "metadata": {},
   "outputs": [
    {
     "name": "stdout",
     "output_type": "stream",
     "text": [
      "1856\n",
      "x='652780, Кемеровская обл., г. Гурьевск, пер. Нефтяников, д. 2 ', res=array(['54.770401,20.608359', '54.284748,85.932059'], dtype=object)\n",
      "x='ХМАО, г. Радужный, Тагринское м/р, 133 куст ', res=array(['55.995674,40.33194', '62.135232,77.464'], dtype=object)\n",
      "x='652785, Кемеровская обл.-Кузбасс, г. Гурьевск, пер. Нефтяников, д. 2 ', res=array(['54.770401,20.608359', '54.284748,85.932059'], dtype=object)\n",
      "x='453430, Респ. Башкортостан, г. Благовещенск, ул. Чапаева, д. 75', res=array(['55.049854,55.955224', '50.257456,127.534611'], dtype=object)\n",
      "1856 1177\r"
     ]
    }
   ],
   "source": [
    "morph_vocab = MorphVocab()\n",
    "addr_extractor = AddrExtractor(morph_vocab)\n",
    "c = 0\n",
    "green = 0\n",
    "print(df.shape[0])\n",
    "df['geo_v2'] = df.addr.apply(finder_natasha)"
   ]
  },
  {
   "cell_type": "code",
   "execution_count": 391,
   "metadata": {},
   "outputs": [],
   "source": [
    "doubles = ['652780, Кемеровская обл., г. Гурьевск, пер. Нефтяников, д. 2 ', 'ХМАО, г. Радужный, Тагринское м/р, 133 куст ', \n",
    "           '652785, Кемеровская обл.-Кузбасс, г. Гурьевск, пер. Нефтяников, д. 2 ', '453430, Респ. Башкортостан, г. Благовещенск, ул. Чапаева, д. 75']"
   ]
  },
  {
   "cell_type": "code",
   "execution_count": 405,
   "metadata": {},
   "outputs": [
    {
     "data": {
      "text/html": [
       "<div>\n",
       "<style scoped>\n",
       "    .dataframe tbody tr th:only-of-type {\n",
       "        vertical-align: middle;\n",
       "    }\n",
       "\n",
       "    .dataframe tbody tr th {\n",
       "        vertical-align: top;\n",
       "    }\n",
       "\n",
       "    .dataframe thead th {\n",
       "        text-align: right;\n",
       "    }\n",
       "</style>\n",
       "<table border=\"1\" class=\"dataframe\">\n",
       "  <thead>\n",
       "    <tr style=\"text-align: right;\">\n",
       "      <th></th>\n",
       "      <th>city</th>\n",
       "      <th>region</th>\n",
       "      <th>geo</th>\n",
       "    </tr>\n",
       "  </thead>\n",
       "  <tbody>\n",
       "    <tr>\n",
       "      <th>108</th>\n",
       "      <td>благовещенск</td>\n",
       "      <td>Башкортостан</td>\n",
       "      <td>55.049854,55.955224</td>\n",
       "    </tr>\n",
       "    <tr>\n",
       "      <th>109</th>\n",
       "      <td>благовещенск</td>\n",
       "      <td>Амурская область</td>\n",
       "      <td>50.257456,127.534611</td>\n",
       "    </tr>\n",
       "  </tbody>\n",
       "</table>\n",
       "</div>"
      ],
      "text/plain": [
       "             city            region                   geo\n",
       "108  благовещенск      Башкортостан   55.049854,55.955224\n",
       "109  благовещенск  Амурская область  50.257456,127.534611"
      ]
     },
     "execution_count": 405,
     "metadata": {},
     "output_type": "execute_result"
    }
   ],
   "source": [
    "cities[cities.city == 'благовещенск']"
   ]
  },
  {
   "cell_type": "code",
   "execution_count": 404,
   "metadata": {},
   "outputs": [
    {
     "name": "stdout",
     "output_type": "stream",
     "text": [
      "область: Амурская\n"
     ]
    }
   ],
   "source": [
    "\n",
    "for region in cities[cities.city == 'благовещенск'].region:\n",
    "    matches = addr_extractor(f'{region}')\n",
    "    for match in matches:\n",
    "        print(f'{match.fact.type}: {match.fact.value}')"
   ]
  },
  {
   "cell_type": "code",
   "execution_count": 428,
   "metadata": {},
   "outputs": [
    {
     "data": {
      "text/plain": [
       "1506    nan\n",
       "Name: geo, dtype: object"
      ]
     },
     "execution_count": 428,
     "metadata": {},
     "output_type": "execute_result"
    }
   ],
   "source": [
    "# df[df.addr == '453430, Респ. Башкортостан, г. Благовещенск, ул. Чапаева, д. 75'].geo"
   ]
  },
  {
   "cell_type": "code",
   "execution_count": 427,
   "metadata": {},
   "outputs": [],
   "source": [
    "# df.loc[1506, 'geo'] = 'nan'"
   ]
  },
  {
   "cell_type": "code",
   "execution_count": 402,
   "metadata": {},
   "outputs": [
    {
     "name": "stdout",
     "output_type": "stream",
     "text": [
      "индекс: 453430\n",
      "республика: Башкортостан\n",
      "город: Благовещенск\n"
     ]
    }
   ],
   "source": [
    "matches = addr_extractor(doubles[3])\n",
    "for match in matches:\n",
    "    print(f'{match.fact.type}: {match.fact.value}')\n",
    "    if match.fact.type == 'город':\n",
    "        town = match.fact.value\n",
    "        break"
   ]
  },
  {
   "cell_type": "code",
   "execution_count": 409,
   "metadata": {},
   "outputs": [
    {
     "data": {
      "text/html": [
       "<div>\n",
       "<style scoped>\n",
       "    .dataframe tbody tr th:only-of-type {\n",
       "        vertical-align: middle;\n",
       "    }\n",
       "\n",
       "    .dataframe tbody tr th {\n",
       "        vertical-align: top;\n",
       "    }\n",
       "\n",
       "    .dataframe thead th {\n",
       "        text-align: right;\n",
       "    }\n",
       "</style>\n",
       "<table border=\"1\" class=\"dataframe\">\n",
       "  <thead>\n",
       "    <tr style=\"text-align: right;\">\n",
       "      <th></th>\n",
       "      <th>addr</th>\n",
       "      <th>geo_v2</th>\n",
       "    </tr>\n",
       "  </thead>\n",
       "  <tbody>\n",
       "    <tr>\n",
       "      <th>0</th>\n",
       "      <td>644099, Россия, г. Омск. ул. Фрунзе, д.54</td>\n",
       "      <td>54.989347,73.368221</td>\n",
       "    </tr>\n",
       "    <tr>\n",
       "      <th>1</th>\n",
       "      <td>РФ, г. Омск, пр. Губкина, д.1</td>\n",
       "      <td>54.989347,73.368221</td>\n",
       "    </tr>\n",
       "    <tr>\n",
       "      <th>2</th>\n",
       "      <td>г. Екатеринбург, ул. Сакко и Ванцетти, д.61</td>\n",
       "      <td>56.838011,60.597474</td>\n",
       "    </tr>\n",
       "    <tr>\n",
       "      <th>3</th>\n",
       "      <td>Россия, 190900, Санкт-Петербург, box 1283</td>\n",
       "      <td>None</td>\n",
       "    </tr>\n",
       "    <tr>\n",
       "      <th>4</th>\n",
       "      <td>г. Москва, Капотня, 2 квартал, д.1, корп. 3</td>\n",
       "      <td>55.755819,37.617644</td>\n",
       "    </tr>\n",
       "    <tr>\n",
       "      <th>5</th>\n",
       "      <td>628690, Россия, ХМАО-Югра, г.Мегион, пгт.Высокий</td>\n",
       "      <td>61.03289,76.102621</td>\n",
       "    </tr>\n",
       "    <tr>\n",
       "      <th>6</th>\n",
       "      <td>г. Омск, Доковская, д. 23</td>\n",
       "      <td>54.989347,73.368221</td>\n",
       "    </tr>\n",
       "    <tr>\n",
       "      <th>7</th>\n",
       "      <td>РФ, 629800, Ямало-Нененский автономный округ, ...</td>\n",
       "      <td>63.201805,75.450938</td>\n",
       "    </tr>\n",
       "    <tr>\n",
       "      <th>8</th>\n",
       "      <td>Россия, 191014, г. Санкт-Петербург, Виленский ...</td>\n",
       "      <td>59.938676,30.314494</td>\n",
       "    </tr>\n",
       "    <tr>\n",
       "      <th>9</th>\n",
       "      <td>628011, ХМАО-Югра, г. Ханты-Мансийск, ул.Ленин...</td>\n",
       "      <td>61.026144,69.095798</td>\n",
       "    </tr>\n",
       "    <tr>\n",
       "      <th>10</th>\n",
       "      <td>191167 г. Санкт-Петербург, Синопская наб., д. ...</td>\n",
       "      <td>59.938676,30.314494</td>\n",
       "    </tr>\n",
       "    <tr>\n",
       "      <th>11</th>\n",
       "      <td>Россия, 190000, г.Санкт-Петербург, Конногварде...</td>\n",
       "      <td>59.938676,30.314494</td>\n",
       "    </tr>\n",
       "    <tr>\n",
       "      <th>12</th>\n",
       "      <td>Россия, 191167, Санкт-Петербург, Синопская наб...</td>\n",
       "      <td>None</td>\n",
       "    </tr>\n",
       "    <tr>\n",
       "      <th>13</th>\n",
       "      <td>РФ, 117218, г. Москва, ул. Кржижановского д. 1...</td>\n",
       "      <td>55.755819,37.617644</td>\n",
       "    </tr>\n",
       "    <tr>\n",
       "      <th>14</th>\n",
       "      <td>Место нахождение склада: ЯНАО, г. Муравленко, ...</td>\n",
       "      <td>63.795285,74.494457</td>\n",
       "    </tr>\n",
       "    <tr>\n",
       "      <th>15</th>\n",
       "      <td>г. Омск, пр. Губкина, 1</td>\n",
       "      <td>54.989347,73.368221</td>\n",
       "    </tr>\n",
       "    <tr>\n",
       "      <th>16</th>\n",
       "      <td>629320,РФ,ЯНАО,г.Новый Уренгой,район Коротчаево</td>\n",
       "      <td>66.084539,76.680956</td>\n",
       "    </tr>\n",
       "    <tr>\n",
       "      <th>17</th>\n",
       "      <td>РФ, г. Оренбург, ул. Кобозева, д. 1</td>\n",
       "      <td>51.768205,55.097</td>\n",
       "    </tr>\n",
       "    <tr>\n",
       "      <th>18</th>\n",
       "      <td>620904,Екатеринбург, 9-й км правого поворота ...</td>\n",
       "      <td>None</td>\n",
       "    </tr>\n",
       "    <tr>\n",
       "      <th>19</th>\n",
       "      <td>141191, г. Фрязино ул. Озерная, 6а</td>\n",
       "      <td>55.961339,38.042808</td>\n",
       "    </tr>\n",
       "    <tr>\n",
       "      <th>20</th>\n",
       "      <td>629805, РФ, ЯНАО, г. Ноябрьск, промзона, панел...</td>\n",
       "      <td>63.201805,75.450938</td>\n",
       "    </tr>\n",
       "    <tr>\n",
       "      <th>21</th>\n",
       "      <td>107023, г. Москва, ул. Малая Семеновская, д. 3...</td>\n",
       "      <td>55.755819,37.617644</td>\n",
       "    </tr>\n",
       "    <tr>\n",
       "      <th>22</th>\n",
       "      <td>cт.Комбинатcкая, Зап-Сиб.ж/д, код 831504 , код...</td>\n",
       "      <td>None</td>\n",
       "    </tr>\n",
       "    <tr>\n",
       "      <th>23</th>\n",
       "      <td>ООО \"Газпром нефть Шельф\" 197198, РФ, г. Санкт...</td>\n",
       "      <td>59.938676,30.314494</td>\n",
       "    </tr>\n",
       "    <tr>\n",
       "      <th>24</th>\n",
       "      <td>191014, Россия, г. Санкт-Петербург, пер. Вилен...</td>\n",
       "      <td>59.938676,30.314494</td>\n",
       "    </tr>\n",
       "    <tr>\n",
       "      <th>25</th>\n",
       "      <td>460027, г. Оренбург, ул. Чехова, д. 90</td>\n",
       "      <td>51.768205,55.097</td>\n",
       "    </tr>\n",
       "    <tr>\n",
       "      <th>26</th>\n",
       "      <td>143397, город Москва,поселение Первомайское, у...</td>\n",
       "      <td>55.755819,37.617644</td>\n",
       "    </tr>\n",
       "    <tr>\n",
       "      <th>27</th>\n",
       "      <td>644018, г. Омск, пр. Губкина, д. 1</td>\n",
       "      <td>54.989347,73.368221</td>\n",
       "    </tr>\n",
       "    <tr>\n",
       "      <th>28</th>\n",
       "      <td>Россия, 644040, г. Омск  Пр. Губкина, д.1</td>\n",
       "      <td>54.989347,73.368221</td>\n",
       "    </tr>\n",
       "    <tr>\n",
       "      <th>29</th>\n",
       "      <td>183017, г. Мурманск, ул. Адмирала Лобова, д. 1...</td>\n",
       "      <td>68.970663,33.074918</td>\n",
       "    </tr>\n",
       "  </tbody>\n",
       "</table>\n",
       "</div>"
      ],
      "text/plain": [
       "                                                 addr               geo_v2\n",
       "0           644099, Россия, г. Омск. ул. Фрунзе, д.54  54.989347,73.368221\n",
       "1                       РФ, г. Омск, пр. Губкина, д.1  54.989347,73.368221\n",
       "2         г. Екатеринбург, ул. Сакко и Ванцетти, д.61  56.838011,60.597474\n",
       "3           Россия, 190900, Санкт-Петербург, box 1283                 None\n",
       "4         г. Москва, Капотня, 2 квартал, д.1, корп. 3  55.755819,37.617644\n",
       "5    628690, Россия, ХМАО-Югра, г.Мегион, пгт.Высокий   61.03289,76.102621\n",
       "6                           г. Омск, Доковская, д. 23  54.989347,73.368221\n",
       "7   РФ, 629800, Ямало-Нененский автономный округ, ...  63.201805,75.450938\n",
       "8   Россия, 191014, г. Санкт-Петербург, Виленский ...  59.938676,30.314494\n",
       "9   628011, ХМАО-Югра, г. Ханты-Мансийск, ул.Ленин...  61.026144,69.095798\n",
       "10  191167 г. Санкт-Петербург, Синопская наб., д. ...  59.938676,30.314494\n",
       "11  Россия, 190000, г.Санкт-Петербург, Конногварде...  59.938676,30.314494\n",
       "12  Россия, 191167, Санкт-Петербург, Синопская наб...                 None\n",
       "13  РФ, 117218, г. Москва, ул. Кржижановского д. 1...  55.755819,37.617644\n",
       "14  Место нахождение склада: ЯНАО, г. Муравленко, ...  63.795285,74.494457\n",
       "15                            г. Омск, пр. Губкина, 1  54.989347,73.368221\n",
       "16    629320,РФ,ЯНАО,г.Новый Уренгой,район Коротчаево  66.084539,76.680956\n",
       "17                РФ, г. Оренбург, ул. Кобозева, д. 1     51.768205,55.097\n",
       "18   620904,Екатеринбург, 9-й км правого поворота ...                 None\n",
       "19                 141191, г. Фрязино ул. Озерная, 6а  55.961339,38.042808\n",
       "20  629805, РФ, ЯНАО, г. Ноябрьск, промзона, панел...  63.201805,75.450938\n",
       "21  107023, г. Москва, ул. Малая Семеновская, д. 3...  55.755819,37.617644\n",
       "22  cт.Комбинатcкая, Зап-Сиб.ж/д, код 831504 , код...                 None\n",
       "23  ООО \"Газпром нефть Шельф\" 197198, РФ, г. Санкт...  59.938676,30.314494\n",
       "24  191014, Россия, г. Санкт-Петербург, пер. Вилен...  59.938676,30.314494\n",
       "25             460027, г. Оренбург, ул. Чехова, д. 90     51.768205,55.097\n",
       "26  143397, город Москва,поселение Первомайское, у...  55.755819,37.617644\n",
       "27                 644018, г. Омск, пр. Губкина, д. 1  54.989347,73.368221\n",
       "28          Россия, 644040, г. Омск  Пр. Губкина, д.1  54.989347,73.368221\n",
       "29  183017, г. Мурманск, ул. Адмирала Лобова, д. 1...  68.970663,33.074918"
      ]
     },
     "execution_count": 409,
     "metadata": {},
     "output_type": "execute_result"
    }
   ],
   "source": [
    "df[['addr', 'geo_v2']].head(30)"
   ]
  },
  {
   "cell_type": "code",
   "execution_count": 385,
   "metadata": {},
   "outputs": [
    {
     "data": {
      "text/plain": [
       "(683, 1856)"
      ]
     },
     "execution_count": 385,
     "metadata": {},
     "output_type": "execute_result"
    }
   ],
   "source": [
    "(df.geo_v2 =='nan').sum() + df.geo_v2.isna().sum(), df.shape[0]"
   ]
  },
  {
   "cell_type": "code",
   "execution_count": 202,
   "metadata": {},
   "outputs": [
    {
     "data": {
      "text/plain": [
       "(729, 1856)"
      ]
     },
     "execution_count": 202,
     "metadata": {},
     "output_type": "execute_result"
    }
   ],
   "source": [
    "(df.geo == 'nan').sum(), df.shape[0]"
   ]
  },
  {
   "cell_type": "code",
   "execution_count": 222,
   "metadata": {},
   "outputs": [],
   "source": [
    "nan_iter = iter(df[df.geo == 'nan'].values)"
   ]
  },
  {
   "cell_type": "code",
   "execution_count": 205,
   "metadata": {},
   "outputs": [],
   "source": [
    "post_codes = pd.read_csv('geodata/post_codes.csv')\n",
    "post_codes.columns = list(map(str.lower, post_codes.columns.tolist()))\n",
    "post_codes = post_codes[['index', 'region', 'autonom', 'area', 'city', 'city_1']]\n",
    "for col in ['region', 'autonom', 'area', 'city', 'city_1']:\n",
    "    post_codes[col] = post_codes[col].apply(lambda x: x.lower() if isinstance(x, str) else None)"
   ]
  },
  {
   "cell_type": "code",
   "execution_count": 252,
   "metadata": {},
   "outputs": [
    {
     "data": {
      "text/plain": [
       "array([20000537, 'ст. Лабытнанги Северной ж.д. код станции:  289904',\n",
       "       'nan'], dtype=object)"
      ]
     },
     "execution_count": 252,
     "metadata": {},
     "output_type": "execute_result"
    }
   ],
   "source": [
    "next(nan_iter)"
   ]
  },
  {
   "cell_type": "code",
   "execution_count": 255,
   "metadata": {},
   "outputs": [
    {
     "data": {
      "text/plain": [
       "(1856, 729)"
      ]
     },
     "execution_count": 255,
     "metadata": {},
     "output_type": "execute_result"
    }
   ],
   "source": [
    "df.shape[0], df[df.geo == 'nan'].values.shape[0]"
   ]
  },
  {
   "cell_type": "code",
   "execution_count": 258,
   "metadata": {},
   "outputs": [
    {
     "data": {
      "text/plain": [
       "geo\n",
       "nan                    729\n",
       "59.938676,30.314494    153\n",
       "55.755819,37.617644    116\n",
       "54.989347,73.368221     78\n",
       "63.201805,75.450938     62\n",
       "57.152985,65.541227     49\n",
       "51.768205,55.097        40\n",
       "68.970663,33.074918     37\n",
       "56.838011,60.597474     36\n",
       "61.03289,76.102621      31\n",
       "Name: count, dtype: int64"
      ]
     },
     "execution_count": 258,
     "metadata": {},
     "output_type": "execute_result"
    }
   ],
   "source": [
    "df.geo.value_counts()[:10]"
   ]
  },
  {
   "cell_type": "code",
   "execution_count": 240,
   "metadata": {},
   "outputs": [
    {
     "data": {
      "text/html": [
       "<div>\n",
       "<style scoped>\n",
       "    .dataframe tbody tr th:only-of-type {\n",
       "        vertical-align: middle;\n",
       "    }\n",
       "\n",
       "    .dataframe tbody tr th {\n",
       "        vertical-align: top;\n",
       "    }\n",
       "\n",
       "    .dataframe thead th {\n",
       "        text-align: right;\n",
       "    }\n",
       "</style>\n",
       "<table border=\"1\" class=\"dataframe\">\n",
       "  <thead>\n",
       "    <tr style=\"text-align: right;\">\n",
       "      <th></th>\n",
       "      <th>index</th>\n",
       "      <th>region</th>\n",
       "      <th>autonom</th>\n",
       "      <th>area</th>\n",
       "      <th>city</th>\n",
       "      <th>city_1</th>\n",
       "    </tr>\n",
       "  </thead>\n",
       "  <tbody>\n",
       "    <tr>\n",
       "      <th>9145</th>\n",
       "      <td>190000</td>\n",
       "      <td>санкт-петербург</td>\n",
       "      <td>None</td>\n",
       "      <td>None</td>\n",
       "      <td>None</td>\n",
       "      <td>None</td>\n",
       "    </tr>\n",
       "  </tbody>\n",
       "</table>\n",
       "</div>"
      ],
      "text/plain": [
       "       index           region autonom  area  city city_1\n",
       "9145  190000  санкт-петербург    None  None  None   None"
      ]
     },
     "execution_count": 240,
     "metadata": {},
     "output_type": "execute_result"
    }
   ],
   "source": [
    "post_codes[post_codes['index'] == 190000]"
   ]
  },
  {
   "cell_type": "code",
   "execution_count": 269,
   "metadata": {},
   "outputs": [],
   "source": [
    "from src.utils.main_parser import GeoProcessor"
   ]
  },
  {
   "cell_type": "code",
   "execution_count": 270,
   "metadata": {},
   "outputs": [],
   "source": [
    "geopc = GeoProcessor()"
   ]
  },
  {
   "cell_type": "code",
   "execution_count": 276,
   "metadata": {},
   "outputs": [],
   "source": [
    "df.loc[16, 'geo'] = 'nan'"
   ]
  },
  {
   "cell_type": "code",
   "execution_count": 278,
   "metadata": {},
   "outputs": [],
   "source": [
    "from tqdm import tqdm"
   ]
  },
  {
   "cell_type": "code",
   "execution_count": 431,
   "metadata": {},
   "outputs": [],
   "source": [
    "df = df.drop(columns=['geo_v2'])"
   ]
  },
  {
   "cell_type": "code",
   "execution_count": 432,
   "metadata": {},
   "outputs": [
    {
     "name": "stderr",
     "output_type": "stream",
     "text": [
      "100%|██████████| 219/219 [19:39<00:00,  5.39s/it]\n"
     ]
    }
   ],
   "source": [
    "save_path = '/home/yaroslav/progs/digitdep_hack/data/info/buyer.csv'\n",
    "browser = geopc.init_browser_ymaps()\n",
    "\n",
    "count_idx = 0\n",
    "for (df_idx, (code, addr, geo)) in tqdm(zip(df[df.geo == 'nan'].index.tolist(), df[df.geo == 'nan'].values), total=df[df.geo == 'nan'].values.shape[0]):\n",
    "    try:\n",
    "        if geo == 'nan':\n",
    "            count_idx += 1\n",
    "            parse_result = geopc.process_v2(addr, browser=browser)\n",
    "            if isinstance(parse_result, tuple):\n",
    "                parse_result = ','.join(map(str, parse_result))\n",
    "            df.loc[df_idx, 'geo'] = parse_result\n",
    "            if count_idx % 5 == 0:\n",
    "                df.to_csv(save_path, index=False, encoding='UTF-8')\n",
    "    except Exception as e:\n",
    "        print(str(e), f' {parse_result=}, {type(parse_result)}')"
   ]
  },
  {
   "cell_type": "code",
   "execution_count": 433,
   "metadata": {},
   "outputs": [
    {
     "name": "stderr",
     "output_type": "stream",
     "text": [
      "100%|██████████| 45/45 [04:04<00:00,  5.42s/it]\n"
     ]
    }
   ],
   "source": [
    "count_idx = 0\n",
    "for (df_idx, (code, addr, geo)) in tqdm(zip(df[df.geo == 'init'].index.tolist(), df[df.geo == 'init'].values), total=df[df.geo == 'init'].values.shape[0]):\n",
    "    try:\n",
    "        if geo == 'init':\n",
    "            count_idx += 1\n",
    "            parse_result = geopc.process_v2(addr, browser=browser)\n",
    "            if isinstance(parse_result, tuple):\n",
    "                parse_result = ','.join(map(str, parse_result))\n",
    "            df.loc[df_idx, 'geo'] = parse_result\n",
    "            if count_idx % 5 == 0:\n",
    "                df.to_csv(save_path, index=False, encoding='UTF-8')\n",
    "    except Exception as e:\n",
    "        print(str(e), f' {parse_result=}, {type(parse_result)}')"
   ]
  },
  {
   "cell_type": "code",
   "execution_count": 440,
   "metadata": {},
   "outputs": [],
   "source": [
    "values_iter = iter(df[df.geo == 'nan'].addr.values)"
   ]
  },
  {
   "cell_type": "code",
   "execution_count": 497,
   "metadata": {},
   "outputs": [
    {
     "data": {
      "text/plain": [
       "'ст. Коротчаево Свердловской ж/д, код 799101 '"
      ]
     },
     "execution_count": 497,
     "metadata": {},
     "output_type": "execute_result"
    }
   ],
   "source": [
    "next(values_iter)"
   ]
  },
  {
   "cell_type": "code",
   "execution_count": 438,
   "metadata": {},
   "outputs": [],
   "source": [
    "df.to_csv(save_path, index=False, encoding='UTF-8')"
   ]
  }
 ],
 "metadata": {
  "kernelspec": {
   "display_name": "base",
   "language": "python",
   "name": "python3"
  },
  "language_info": {
   "codemirror_mode": {
    "name": "ipython",
    "version": 3
   },
   "file_extension": ".py",
   "mimetype": "text/x-python",
   "name": "python",
   "nbconvert_exporter": "python",
   "pygments_lexer": "ipython3",
   "version": "3.11.7"
  }
 },
 "nbformat": 4,
 "nbformat_minor": 2
}
