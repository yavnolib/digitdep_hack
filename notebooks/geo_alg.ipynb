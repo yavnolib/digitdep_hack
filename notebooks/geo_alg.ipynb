{
 "cells": [
  {
   "cell_type": "code",
   "execution_count": 1,
   "metadata": {},
   "outputs": [],
   "source": [
    "import pandas as pd\n",
    "import numpy as np\n",
    "import math\n",
    "import torch\n",
    "from tqdm import tqdm\n",
    "import matplotlib.pyplot as plt"
   ]
  },
  {
   "cell_type": "code",
   "execution_count": 2,
   "metadata": {},
   "outputs": [],
   "source": [
    "coords = pd.read_csv('/home/kamil/proga/digitdep_hack/geodata/buyer.csv')"
   ]
  },
  {
   "cell_type": "code",
   "execution_count": 3,
   "metadata": {},
   "outputs": [],
   "source": [
    "coords['lat'] = pd.to_numeric(coords.geo.apply(lambda x: str(x).split(',')[0]), errors='coerce')\n",
    "coords['lon'] = pd.to_numeric(coords.geo.apply(lambda x: str(x).split(',')[1] if len(str(x).split(',')) > 1 else np.nan), errors='coerce')\n",
    "coords.dropna(inplace=True)"
   ]
  },
  {
   "cell_type": "code",
   "execution_count": 295,
   "metadata": {},
   "outputs": [],
   "source": [
    "def dist(a, b):\n",
    "    R = 6371.0\n",
    "\n",
    "    a = torch.deg2rad(a)\n",
    "    b = torch.deg2rad(b)\n",
    "\n",
    "    dlat = (b - a)[:, 0]\n",
    "    dlon = (b - a)[:, 1]\n",
    "\n",
    "    if a.dim() == 1:\n",
    "        a1 = torch.sin(dlat / 2)**2 + torch.cos(a[0]) * torch.cos(b[:, 0]) * torch.sin(dlon / 2)**2\n",
    "    else:\n",
    "        a1 = torch.sin(dlat / 2)**2 + torch.cos(a[:, 0]) * torch.cos(b[0]) * torch.sin(dlon / 2)**2\n",
    "    c = 2 * torch.atan2(torch.sqrt(a1), torch.sqrt(1 - a1))\n",
    "\n",
    "    distance = R * c\n",
    "    \n",
    "    return distance"
   ]
  },
  {
   "cell_type": "code",
   "execution_count": 5,
   "metadata": {},
   "outputs": [],
   "source": [
    "def get_neighbours(data, dist_func, point, eps):\n",
    "    dist = dist_func(data, point)\n",
    "    return torch.nonzero(dist <= eps).flatten()"
   ]
  },
  {
   "cell_type": "code",
   "execution_count": 6,
   "metadata": {},
   "outputs": [],
   "source": [
    "def expand(data, dist_func, i, c, eps, min_pts, labels, neighbours):\n",
    "    labels[i] = c\n",
    "\n",
    "    k = 0\n",
    "\n",
    "    while k < len(neighbours):\n",
    "        if labels[neighbours[k]] != -1:\n",
    "            k += 1\n",
    "            continue\n",
    "        labels[neighbours[k]] = c\n",
    "        n_k = get_neighbours(data, dist_func, data[neighbours[k]], eps)\n",
    "        if len(n_k) >= min_pts:\n",
    "            neighbours = torch.unique(torch.cat((neighbours, n_k)))\n",
    "\n",
    "        k += 1 \n",
    "\n",
    "    "
   ]
  },
  {
   "cell_type": "code",
   "execution_count": 7,
   "metadata": {},
   "outputs": [],
   "source": [
    "def dbscan(data, dist_func, eps, min_pts):\n",
    "    c = 0\n",
    "    labels = torch.full((data.shape[0],), -1)\n",
    "    for i in tqdm(range(data.shape[0])):\n",
    "        if labels[i] != -1:\n",
    "            continue # already visited\n",
    "        neighbours = get_neighbours(data, dist_func, data[i], eps)\n",
    "        if len(neighbours) < min_pts:\n",
    "            labels[i] = -2 # label the point as noise\n",
    "            continue\n",
    "        \n",
    "        c += 1\n",
    "        expand(data, dist_func, i, c, eps, min_pts, labels, neighbours)\n",
    "    return labels   \n",
    "                "
   ]
  },
  {
   "cell_type": "code",
   "execution_count": 178,
   "metadata": {},
   "outputs": [],
   "source": [
    "X = torch.tensor(coords[['lat', 'lon']].values, dtype=torch.int32)\n",
    "labels = dbscan(X, dist, 1200, 3)"
   ]
  },
  {
   "cell_type": "code",
   "execution_count": 240,
   "metadata": {},
   "outputs": [
    {
     "data": {
      "text/plain": [
       "{-2: 5, 1: 1550, 2: 40, 3: 7, 4: 12, 5: 21}"
      ]
     },
     "execution_count": 240,
     "metadata": {},
     "output_type": "execute_result"
    }
   ],
   "source": [
    "Q = np.vstack((np.array(X)[:, 0], np.array(X)[:, 1], np.array(labels))).swapaxes(0, 1)\n",
    "lab = np.array(labels)\n",
    "unique, counts = np.unique(lab, return_counts=True)\n",
    "labels_dict = dict(zip(unique, counts))\n",
    "labels_dict"
   ]
  },
  {
   "cell_type": "code",
   "execution_count": 181,
   "metadata": {},
   "outputs": [],
   "source": [
    "coords['label'] = labels"
   ]
  },
  {
   "cell_type": "code",
   "execution_count": 302,
   "metadata": {},
   "outputs": [],
   "source": [
    "second_stage = coords[coords.label== max(labels_dict, key=labels_dict.get)]"
   ]
  },
  {
   "cell_type": "code",
   "execution_count": 303,
   "metadata": {},
   "outputs": [],
   "source": [
    "#coords.loc[coords.label==1, 'label'] = second_stage['test']"
   ]
  },
  {
   "cell_type": "code",
   "execution_count": 333,
   "metadata": {},
   "outputs": [
    {
     "name": "stderr",
     "output_type": "stream",
     "text": [
      "  0%|          | 0/1590 [00:00<?, ?it/s]/tmp/ipykernel_43129/650074921.py:6: UserWarning: To copy construct from a tensor, it is recommended to use sourceTensor.clone().detach() or sourceTensor.clone().detach().requires_grad_(True), rather than torch.tensor(sourceTensor).\n",
      "  a = torch.deg2rad(torch.tensor(a))\n",
      "/tmp/ipykernel_43129/650074921.py:7: UserWarning: To copy construct from a tensor, it is recommended to use sourceTensor.clone().detach() or sourceTensor.clone().detach().requires_grad_(True), rather than torch.tensor(sourceTensor).\n",
      "  b = torch.deg2rad(torch.tensor(b))\n",
      "100%|██████████| 1590/1590 [00:00<00:00, 3912.97it/s]\n"
     ]
    }
   ],
   "source": [
    "second_x = torch.tensor(second_stage[['lat', 'lon']].values, dtype=torch.int32)\n",
    "second_labels = dbscan(second_x, dist, 250, 30)"
   ]
  },
  {
   "cell_type": "code",
   "execution_count": 334,
   "metadata": {},
   "outputs": [
    {
     "data": {
      "text/plain": [
       "{-2: 184,\n",
       " 1: 88,\n",
       " 2: 431,\n",
       " 3: 54,\n",
       " 4: 18,\n",
       " 5: 23,\n",
       " 6: 78,\n",
       " 7: 297,\n",
       " 8: 203,\n",
       " 9: 44,\n",
       " 10: 1,\n",
       " 11: 122,\n",
       " 12: 1,\n",
       " 13: 6,\n",
       " 14: 1,\n",
       " 15: 39}"
      ]
     },
     "execution_count": 334,
     "metadata": {},
     "output_type": "execute_result"
    }
   ],
   "source": [
    "second_Q = np.vstack((np.array(second_x)[:, 0], np.array(second_x)[:, 1], np.array(second_labels))).swapaxes(0, 1)\n",
    "second_lab = np.array(second_labels)\n",
    "second_unique, second_counts = np.unique(second_lab, return_counts=True)\n",
    "dict(zip(second_unique, second_counts))"
   ]
  },
  {
   "cell_type": "code",
   "execution_count": null,
   "metadata": {},
   "outputs": [],
   "source": [
    "second_stage['label'] = second_labels"
   ]
  },
  {
   "cell_type": "code",
   "execution_count": 338,
   "metadata": {},
   "outputs": [],
   "source": [
    "third_stage = second_stage[second_stage.label == min(second_stage.label)]"
   ]
  },
  {
   "cell_type": "code",
   "execution_count": 352,
   "metadata": {},
   "outputs": [
    {
     "name": "stderr",
     "output_type": "stream",
     "text": [
      "  0%|          | 0/162 [00:00<?, ?it/s]/tmp/ipykernel_43129/650074921.py:6: UserWarning: To copy construct from a tensor, it is recommended to use sourceTensor.clone().detach() or sourceTensor.clone().detach().requires_grad_(True), rather than torch.tensor(sourceTensor).\n",
      "  a = torch.deg2rad(torch.tensor(a))\n",
      "/tmp/ipykernel_43129/650074921.py:7: UserWarning: To copy construct from a tensor, it is recommended to use sourceTensor.clone().detach() or sourceTensor.clone().detach().requires_grad_(True), rather than torch.tensor(sourceTensor).\n",
      "  b = torch.deg2rad(torch.tensor(b))\n",
      "100%|██████████| 162/162 [00:00<00:00, 2862.35it/s]\n"
     ]
    },
    {
     "data": {
      "text/plain": [
       "{-2: 2, 1: 50, 2: 51, 3: 3, 4: 8, 5: 29, 6: 7, 7: 1, 8: 11}"
      ]
     },
     "execution_count": 352,
     "metadata": {},
     "output_type": "execute_result"
    }
   ],
   "source": [
    "third_x = torch.tensor(third_stage[['lat', 'lon']].values, dtype=torch.int32)\n",
    "third_labels = dbscan(third_x, dist, 700, 5)\n",
    "third_Q = np.vstack((np.array(third_x)[:, 0], np.array(third_x)[:, 1], np.array(third_labels))).swapaxes(0, 1)\n",
    "third_lab = np.array(third_labels)\n",
    "third_unique, third_counts = np.unique(third_lab, return_counts=True)\n",
    "dict(zip(third_unique, third_counts))"
   ]
  },
  {
   "cell_type": "code",
   "execution_count": 353,
   "metadata": {},
   "outputs": [],
   "source": [
    "import folium\n",
    "import numpy as np\n",
    "import matplotlib.cm as cm\n",
    "import matplotlib.colors as mcolors\n",
    "\n",
    "# Пример данных с числовыми значениями\n",
    "\n",
    "# Нормализация значений для генерации цветов\n",
    "values = [value for _, _, value in third_Q]\n",
    "norm = mcolors.Normalize(vmin=min(values), vmax=max(values))\n",
    "cmap = cm.get_cmap('inferno')  # Выбор цветовой карты\n",
    "\n",
    "# Создаем карту\n",
    "m = folium.Map(location=[54.5, 75.5], zoom_start=3)\n",
    "\n",
    "# Добавляем маркеры с цветами на основе значений\n",
    "for lat, lon, value in third_Q:\n",
    "    color = mcolors.to_hex(cmap(norm(value)))  # Преобразуем в HEX цвет\n",
    "    folium.CircleMarker(\n",
    "        location=[lat, lon],\n",
    "        radius=8,\n",
    "        color=color,\n",
    "        fill=True,\n",
    "        fill_opacity=0.7,\n",
    "        tooltip=str(value)\n",
    "    ).add_to(m)\n",
    "\n",
    "# Сохраняем карту в HTML\n",
    "m.save(\"automatically_colored_markers_map.html\")\n"
   ]
  }
 ],
 "metadata": {
  "kernelspec": {
   "display_name": "Python 3",
   "language": "python",
   "name": "python3"
  },
  "language_info": {
   "codemirror_mode": {
    "name": "ipython",
    "version": 3
   },
   "file_extension": ".py",
   "mimetype": "text/x-python",
   "name": "python",
   "nbconvert_exporter": "python",
   "pygments_lexer": "ipython3",
   "version": "3.10.12"
  }
 },
 "nbformat": 4,
 "nbformat_minor": 2
}
