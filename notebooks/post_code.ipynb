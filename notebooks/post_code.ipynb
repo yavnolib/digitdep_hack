{
 "cells": [
  {
   "cell_type": "code",
   "execution_count": 1,
   "metadata": {},
   "outputs": [],
   "source": [
    "import osrm\n",
    "from googlesearch import search\n",
    "import requests\n",
    "from fake_headers import Headers\n",
    "from bs4 import BeautifulSoup\n",
    "from selenium import webdriver as wd\n",
    "import time\n",
    "from selenium.webdriver.common.by import By\n",
    "from selenium.webdriver.common.keys import Keys\n",
    "from pathlib import Path\n",
    "from tqdm import tqdm\n",
    "from selenium import webdriver as wd\n",
    "from selenium.webdriver.common.by import By\n",
    "from selenium.webdriver.common.keys import Keys\n",
    "from selenium.webdriver.chrome.service import Service\n",
    "import numpy as np\n",
    "import pandas as pd\n",
    "from bs4 import BeautifulSoup\n",
    "import random\n",
    "import time\n",
    "from pathlib import Path\n",
    "import shutil\n",
    "from copy import deepcopy"
   ]
  },
  {
   "cell_type": "code",
   "execution_count": 5,
   "metadata": {},
   "outputs": [
    {
     "name": "stdout",
     "output_type": "stream",
     "text": [
      "Файл успешно сохранен: geodata/post_codes.csv\n"
     ]
    }
   ],
   "source": [
    "# Импорт необходимых библиотек\n",
    "from dbfread import DBF\n",
    "import pandas as pd\n",
    "import chardet\n",
    "\n",
    "# Определение пути к файлу\n",
    "file_path = 'geodata/post_codes.dbf'\n",
    "\n",
    "# Чтение первых 500 байт для определения кодировки\n",
    "with open(file_path, 'rb') as file:\n",
    "    raw_data = file.read(500)\n",
    "\n",
    "# Определение кодировки с помощью chardet\n",
    "encoding_info = chardet.detect(raw_data)\n",
    "detected_encoding = encoding_info['encoding']\n",
    "\n",
    "# Чтение DBF файла с использованием определенной кодировки\n",
    "try:\n",
    "    table = DBF(file_path, encoding=detected_encoding)\n",
    "    df = pd.DataFrame(iter(table))  # Преобразование в DataFrame\n",
    "except Exception as e:\n",
    "    print(f\"Ошибка при чтении DBF: {e}\")\n",
    "\n",
    "# Сохранение DataFrame в CSV\n",
    "csv_path = \"geodata/post_codes.csv\"\n",
    "try:\n",
    "    df.to_csv(csv_path, index=False, encoding='utf-8')\n",
    "    print(f\"Файл успешно сохранен: {csv_path}\")\n",
    "except Exception as e:\n",
    "    print(f\"Ошибка при сохранении CSV: {e}\")\n"
   ]
  },
  {
   "cell_type": "code",
   "execution_count": 6,
   "metadata": {},
   "outputs": [
    {
     "data": {
      "text/html": [
       "<div>\n",
       "<style scoped>\n",
       "    .dataframe tbody tr th:only-of-type {\n",
       "        vertical-align: middle;\n",
       "    }\n",
       "\n",
       "    .dataframe tbody tr th {\n",
       "        vertical-align: top;\n",
       "    }\n",
       "\n",
       "    .dataframe thead th {\n",
       "        text-align: right;\n",
       "    }\n",
       "</style>\n",
       "<table border=\"1\" class=\"dataframe\">\n",
       "  <thead>\n",
       "    <tr style=\"text-align: right;\">\n",
       "      <th></th>\n",
       "      <th>city</th>\n",
       "      <th>region</th>\n",
       "      <th>geo</th>\n",
       "    </tr>\n",
       "  </thead>\n",
       "  <tbody>\n",
       "    <tr>\n",
       "      <th>0</th>\n",
       "      <td>Абаза</td>\n",
       "      <td>Хакасия</td>\n",
       "      <td>52.651662,90.088581</td>\n",
       "    </tr>\n",
       "    <tr>\n",
       "      <th>1</th>\n",
       "      <td>Абакан</td>\n",
       "      <td>Хакасия</td>\n",
       "      <td>53.721152,91.442396</td>\n",
       "    </tr>\n",
       "    <tr>\n",
       "      <th>2</th>\n",
       "      <td>Абдулино</td>\n",
       "      <td>Оренбургская область</td>\n",
       "      <td>53.683962,53.654989</td>\n",
       "    </tr>\n",
       "    <tr>\n",
       "      <th>3</th>\n",
       "      <td>Абинск</td>\n",
       "      <td>Краснодарский край</td>\n",
       "      <td>44.866237,38.151288</td>\n",
       "    </tr>\n",
       "    <tr>\n",
       "      <th>4</th>\n",
       "      <td>Агидель</td>\n",
       "      <td>Башкортостан</td>\n",
       "      <td>55.899043,53.933439</td>\n",
       "    </tr>\n",
       "    <tr>\n",
       "      <th>...</th>\n",
       "      <td>...</td>\n",
       "      <td>...</td>\n",
       "      <td>...</td>\n",
       "    </tr>\n",
       "    <tr>\n",
       "      <th>1120</th>\n",
       "      <td>Ярославль</td>\n",
       "      <td>Ярославская область</td>\n",
       "      <td>57.479957,39.752643</td>\n",
       "    </tr>\n",
       "    <tr>\n",
       "      <th>1121</th>\n",
       "      <td>Ярцево</td>\n",
       "      <td>Смоленская область</td>\n",
       "      <td>55.066123,32.688292</td>\n",
       "    </tr>\n",
       "    <tr>\n",
       "      <th>1122</th>\n",
       "      <td>Ясногорск</td>\n",
       "      <td>Тульская область</td>\n",
       "      <td>54.479293,37.693354</td>\n",
       "    </tr>\n",
       "    <tr>\n",
       "      <th>1123</th>\n",
       "      <td>Ясный</td>\n",
       "      <td>Оренбургская область</td>\n",
       "      <td>51.035711,59.874088</td>\n",
       "    </tr>\n",
       "    <tr>\n",
       "      <th>1124</th>\n",
       "      <td>Яхрома</td>\n",
       "      <td>Московская область</td>\n",
       "      <td>56.289890,37.483858</td>\n",
       "    </tr>\n",
       "  </tbody>\n",
       "</table>\n",
       "<p>1125 rows × 3 columns</p>\n",
       "</div>"
      ],
      "text/plain": [
       "           city                region                  geo\n",
       "0         Абаза               Хакасия  52.651662,90.088581\n",
       "1        Абакан               Хакасия  53.721152,91.442396\n",
       "2      Абдулино  Оренбургская область  53.683962,53.654989\n",
       "3        Абинск    Краснодарский край  44.866237,38.151288\n",
       "4       Агидель          Башкортостан  55.899043,53.933439\n",
       "...         ...                   ...                  ...\n",
       "1120  Ярославль   Ярославская область  57.479957,39.752643\n",
       "1121     Ярцево    Смоленская область  55.066123,32.688292\n",
       "1122  Ясногорск      Тульская область  54.479293,37.693354\n",
       "1123      Ясный  Оренбургская область  51.035711,59.874088\n",
       "1124     Яхрома    Московская область  56.289890,37.483858\n",
       "\n",
       "[1125 rows x 3 columns]"
      ]
     },
     "execution_count": 6,
     "metadata": {},
     "output_type": "execute_result"
    }
   ],
   "source": [
    "cities = pd.read_csv('geodata/table_geo.csv')\n",
    "cities.city = cities.city.apply(lambda x: x.lower())\n",
    "cities"
   ]
  },
  {
   "cell_type": "code",
   "execution_count": 25,
   "metadata": {},
   "outputs": [],
   "source": [
    "post_codes = pd.read_csv('geodata/post_codes.csv')\n",
    "post_codes.columns = list(map(str.lower, post_codes.columns.tolist()))\n",
    "post_codes = post_codes[['index', 'region', 'autonom', 'area', 'city', 'city_1']]\n",
    "for col in ['region', 'autonom', 'area', 'city', 'city_1']:\n",
    "    post_codes[col] = post_codes[col].apply(lambda x: x.lower() if isinstance(x, str) else None)"
   ]
  },
  {
   "cell_type": "code",
   "execution_count": 26,
   "metadata": {},
   "outputs": [
    {
     "data": {
      "text/html": [
       "<div>\n",
       "<style scoped>\n",
       "    .dataframe tbody tr th:only-of-type {\n",
       "        vertical-align: middle;\n",
       "    }\n",
       "\n",
       "    .dataframe tbody tr th {\n",
       "        vertical-align: top;\n",
       "    }\n",
       "\n",
       "    .dataframe thead th {\n",
       "        text-align: right;\n",
       "    }\n",
       "</style>\n",
       "<table border=\"1\" class=\"dataframe\">\n",
       "  <thead>\n",
       "    <tr style=\"text-align: right;\">\n",
       "      <th></th>\n",
       "      <th>index</th>\n",
       "      <th>region</th>\n",
       "      <th>autonom</th>\n",
       "      <th>area</th>\n",
       "      <th>city</th>\n",
       "      <th>city_1</th>\n",
       "    </tr>\n",
       "  </thead>\n",
       "  <tbody>\n",
       "    <tr>\n",
       "      <th>0</th>\n",
       "      <td>101000</td>\n",
       "      <td>москва</td>\n",
       "      <td>None</td>\n",
       "      <td>None</td>\n",
       "      <td>None</td>\n",
       "      <td>None</td>\n",
       "    </tr>\n",
       "    <tr>\n",
       "      <th>1</th>\n",
       "      <td>101300</td>\n",
       "      <td>москва</td>\n",
       "      <td>None</td>\n",
       "      <td>None</td>\n",
       "      <td>None</td>\n",
       "      <td>None</td>\n",
       "    </tr>\n",
       "    <tr>\n",
       "      <th>2</th>\n",
       "      <td>101700</td>\n",
       "      <td>москва</td>\n",
       "      <td>None</td>\n",
       "      <td>None</td>\n",
       "      <td>None</td>\n",
       "      <td>None</td>\n",
       "    </tr>\n",
       "    <tr>\n",
       "      <th>3</th>\n",
       "      <td>101701</td>\n",
       "      <td>москва</td>\n",
       "      <td>None</td>\n",
       "      <td>марушкинское</td>\n",
       "      <td>шарапово</td>\n",
       "      <td>None</td>\n",
       "    </tr>\n",
       "    <tr>\n",
       "      <th>4</th>\n",
       "      <td>101702</td>\n",
       "      <td>москва</td>\n",
       "      <td>None</td>\n",
       "      <td>None</td>\n",
       "      <td>None</td>\n",
       "      <td>None</td>\n",
       "    </tr>\n",
       "    <tr>\n",
       "      <th>...</th>\n",
       "      <td>...</td>\n",
       "      <td>...</td>\n",
       "      <td>...</td>\n",
       "      <td>...</td>\n",
       "      <td>...</td>\n",
       "      <td>...</td>\n",
       "    </tr>\n",
       "    <tr>\n",
       "      <th>60243</th>\n",
       "      <td>918042</td>\n",
       "      <td>московская область</td>\n",
       "      <td>None</td>\n",
       "      <td>None</td>\n",
       "      <td>химки</td>\n",
       "      <td>None</td>\n",
       "    </tr>\n",
       "    <tr>\n",
       "      <th>60244</th>\n",
       "      <td>918336</td>\n",
       "      <td>санкт-петербург</td>\n",
       "      <td>None</td>\n",
       "      <td>None</td>\n",
       "      <td>шушары</td>\n",
       "      <td>None</td>\n",
       "    </tr>\n",
       "    <tr>\n",
       "      <th>60245</th>\n",
       "      <td>990516</td>\n",
       "      <td>москва</td>\n",
       "      <td>None</td>\n",
       "      <td>сосенское</td>\n",
       "      <td>коммунарка</td>\n",
       "      <td>None</td>\n",
       "    </tr>\n",
       "    <tr>\n",
       "      <th>60246</th>\n",
       "      <td>150067</td>\n",
       "      <td>ярославская область</td>\n",
       "      <td>None</td>\n",
       "      <td>None</td>\n",
       "      <td>ярославль</td>\n",
       "      <td>None</td>\n",
       "    </tr>\n",
       "    <tr>\n",
       "      <th>60247</th>\n",
       "      <td>624308</td>\n",
       "      <td>свердловская область</td>\n",
       "      <td>None</td>\n",
       "      <td>None</td>\n",
       "      <td>кушва</td>\n",
       "      <td>None</td>\n",
       "    </tr>\n",
       "  </tbody>\n",
       "</table>\n",
       "<p>60248 rows × 6 columns</p>\n",
       "</div>"
      ],
      "text/plain": [
       "        index                region autonom          area        city city_1\n",
       "0      101000                москва    None          None        None   None\n",
       "1      101300                москва    None          None        None   None\n",
       "2      101700                москва    None          None        None   None\n",
       "3      101701                москва    None  марушкинское    шарапово   None\n",
       "4      101702                москва    None          None        None   None\n",
       "...       ...                   ...     ...           ...         ...    ...\n",
       "60243  918042    московская область    None          None       химки   None\n",
       "60244  918336       санкт-петербург    None          None      шушары   None\n",
       "60245  990516                москва    None     сосенское  коммунарка   None\n",
       "60246  150067   ярославская область    None          None   ярославль   None\n",
       "60247  624308  свердловская область    None          None       кушва   None\n",
       "\n",
       "[60248 rows x 6 columns]"
      ]
     },
     "execution_count": 26,
     "metadata": {},
     "output_type": "execute_result"
    }
   ],
   "source": [
    "post_codes"
   ]
  },
  {
   "cell_type": "code",
   "execution_count": 36,
   "metadata": {},
   "outputs": [
    {
     "data": {
      "text/plain": [
       "True"
      ]
     },
     "execution_count": 36,
     "metadata": {},
     "output_type": "execute_result"
    }
   ],
   "source": [
    "'уфа' in cities.city.values"
   ]
  },
  {
   "cell_type": "code",
   "execution_count": 66,
   "metadata": {},
   "outputs": [],
   "source": [
    "not_parsed = set()\n",
    "for city, region in zip(post_codes.city.values, post_codes.region.values):\n",
    "    if (city is not None) and (city not in cities.city.values):\n",
    "        if region is None:\n",
    "            region = ''\n",
    "        if city is None:\n",
    "            city = ''\n",
    "        not_parsed.add((city, region))"
   ]
  },
  {
   "cell_type": "code",
   "execution_count": 86,
   "metadata": {},
   "outputs": [],
   "source": [
    "not_parsed_unique = np.unique(list(not_parsed), axis=0)"
   ]
  },
  {
   "cell_type": "code",
   "execution_count": 89,
   "metadata": {},
   "outputs": [
    {
     "data": {
      "text/plain": [
       "array([['1-го отделения совхоза \"краснопольский\"', 'воронежская область'],\n",
       "       ['1-го отделения совхоза \"масловский\"', 'воронежская область'],\n",
       "       ['1-го отделения совхоза \"новоусманский\"', 'воронежская область'],\n",
       "       ...,\n",
       "       ['ёнский', 'мурманская область'],\n",
       "       ['ёрмица', 'коми республика'],\n",
       "       ['ёртом', 'коми республика']], dtype='<U53')"
      ]
     },
     "execution_count": 89,
     "metadata": {},
     "output_type": "execute_result"
    }
   ],
   "source": [
    "not_parsed_unique"
   ]
  },
  {
   "cell_type": "code",
   "execution_count": 90,
   "metadata": {},
   "outputs": [
    {
     "data": {
      "text/plain": [
       "(27157, 27157)"
      ]
     },
     "execution_count": 90,
     "metadata": {},
     "output_type": "execute_result"
    }
   ],
   "source": [
    "not_parsed_unique.shape[0], len(not_parsed)"
   ]
  },
  {
   "cell_type": "code",
   "execution_count": 91,
   "metadata": {},
   "outputs": [
    {
     "data": {
      "text/plain": [
       "array([['1-го отделения совхоза \"краснопольский\"', 'воронежская область'],\n",
       "       ['1-го отделения совхоза \"масловский\"', 'воронежская область'],\n",
       "       ['1-го отделения совхоза \"новоусманский\"', 'воронежская область'],\n",
       "       ...,\n",
       "       ['ёнский', 'мурманская область'],\n",
       "       ['ёрмица', 'коми республика'],\n",
       "       ['ёртом', 'коми республика']], dtype='<U53')"
      ]
     },
     "execution_count": 91,
     "metadata": {},
     "output_type": "execute_result"
    }
   ],
   "source": [
    "not_parsed_unique"
   ]
  },
  {
   "cell_type": "code",
   "execution_count": 92,
   "metadata": {},
   "outputs": [],
   "source": [
    "unique_addr = iter(not_parsed_unique)"
   ]
  },
  {
   "cell_type": "code",
   "execution_count": 94,
   "metadata": {},
   "outputs": [
    {
     "data": {
      "text/plain": [
       "'1-го отделения совхоза \"масловский\" воронежская область'"
      ]
     },
     "execution_count": 94,
     "metadata": {},
     "output_type": "execute_result"
    }
   ],
   "source": [
    "' '.join(next(unique_addr))"
   ]
  }
 ],
 "metadata": {
  "kernelspec": {
   "display_name": "base",
   "language": "python",
   "name": "python3"
  },
  "language_info": {
   "codemirror_mode": {
    "name": "ipython",
    "version": 3
   },
   "file_extension": ".py",
   "mimetype": "text/x-python",
   "name": "python",
   "nbconvert_exporter": "python",
   "pygments_lexer": "ipython3",
   "version": "3.11.7"
  }
 },
 "nbformat": 4,
 "nbformat_minor": 2
}
