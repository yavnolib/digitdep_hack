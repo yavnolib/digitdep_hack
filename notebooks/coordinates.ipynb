{
 "cells": [
  {
   "cell_type": "code",
   "execution_count": 1,
   "metadata": {},
   "outputs": [],
   "source": [
    "import numpy as np\n",
    "import pandas as pd\n",
    "import matplotlib.pyplot as plt\n",
    "import seaborn as sns\n",
    "import plotly.express as px\n",
    "import plotly"
   ]
  },
  {
   "cell_type": "code",
   "execution_count": 2,
   "metadata": {},
   "outputs": [],
   "source": [
    "buyer = pd.read_excel('../info/buyer.xlsx')\n",
    "buyer.columns = ['buyer_id', 'address']"
   ]
  },
  {
   "cell_type": "code",
   "execution_count": 3,
   "metadata": {},
   "outputs": [],
   "source": [
    "seller = pd.read_excel('../info/seller.xlsx')\n",
    "seller.columns = ['company_id', 'postcode', 'city']"
   ]
  },
  {
   "cell_type": "code",
   "execution_count": 4,
   "metadata": {},
   "outputs": [
    {
     "data": {
      "text/plain": [
       "'193/1856 duplicates. Percentage of duplicates: 10.40%. Number of unique companies: 1663'"
      ]
     },
     "execution_count": 4,
     "metadata": {},
     "output_type": "execute_result"
    }
   ],
   "source": [
    "# 328 дупликатов адреса\n",
    "buyer_address = pd.DataFrame(buyer.address.value_counts()).reset_index()\n",
    "buyer_address_iter = iter(buyer_address.address.values)\n",
    "\"{}/{} duplicates. Percentage of duplicates: {}. Number of unique companies: {}\".format(dup:=buyer_address['count'].apply(lambda x: x - 1 if x > 1 else 0).sum(), buyer.shape[0], f'{dup/buyer.shape[0]*100:.2f}%', buyer_address.shape[0])"
   ]
  },
  {
   "cell_type": "code",
   "execution_count": 67,
   "metadata": {},
   "outputs": [
    {
     "data": {
      "text/plain": [
       "'191014, г. Санкт-Петербург, ул. Парадная, д. 3, корп. 1 '"
      ]
     },
     "execution_count": 67,
     "metadata": {},
     "output_type": "execute_result"
    }
   ],
   "source": [
    "next(buyer_address_iter)"
   ]
  },
  {
   "cell_type": "markdown",
   "metadata": {},
   "source": [
    "# Class with implementation of obtaining coordinates by address-line and calculating the distance between two geo-points"
   ]
  },
  {
   "cell_type": "code",
   "execution_count": 133,
   "metadata": {},
   "outputs": [],
   "source": [
    "import osrm\n",
    "from googlesearch import search\n",
    "import requests\n",
    "from fake_headers import Headers\n",
    "from bs4 import BeautifulSoup\n",
    "from selenium import webdriver as wd\n",
    "import time\n",
    "from selenium.webdriver.common.by import By\n",
    "from selenium.webdriver.common.keys import Keys\n",
    "from pathlib import Path\n",
    "from tqdm import tqdm\n",
    "from selenium import webdriver as wd\n",
    "from selenium.webdriver.common.by import By\n",
    "from selenium.webdriver.common.keys import Keys\n",
    "from selenium.webdriver.chrome.service import Service\n",
    "from bs4 import BeautifulSoup\n",
    "import random\n",
    "import time\n",
    "from pathlib import Path\n",
    "import shutil\n",
    "from copy import deepcopy\n",
    "\n",
    "\n",
    "\n",
    "coordinates = [[55.7522, 37.6156], [55.7887, 49.1221], [55.3949, 43.8399]]\n",
    "tgt_coord = [55.7254, 52.4112]\n",
    "\n",
    "\n",
    "class GeoProcessor:\n",
    "    def __init__(self):\n",
    "        self.osrm_client = osrm.Client(host='http://router.project-osrm.org')\n",
    "        self.headers = Headers(\n",
    "                os=\"mac\",  # Generate ony Windows platform\n",
    "                headers=True  # generate misc headers\n",
    "        ).generate()\n",
    "        \n",
    "        self.options = wd.ChromeOptions()\n",
    "        self.options.add_argument(\"--enable-javascript\")\n",
    "        self.options.add_argument(\"--disable-blink-features=AutomationControlled\")  # Скрываем признак автоматизации\n",
    "        self.options.add_argument(\"--disable-infobars\")  # Отключаем инфо-бар Selenium\n",
    "        self.options.add_argument(\"--start-maximized\")  # Полноэкранный режим для имитации реального пользователя\n",
    "        self.options.add_argument(\"user-agent=Mozilla/5.0 (Windows NT 10.0; Win64; x64) AppleWebKit/537.36 (KHTML, like Gecko) Chrome/94.0.4606.81 Safari/537.36\")  # Задаем реальный User-Agent\n",
    "\n",
    "        # Отключаем дополнительные всплывающие окна и уведомления\n",
    "        prefs = {\"profile.default_content_setting_values.notifications\": 2, \n",
    "                \"profile.default_content_setting_values.geolocation\": 2}\n",
    "        self.options.add_experimental_option(\"prefs\", prefs)\n",
    "\n",
    "    def distance(self, from_coords, tgt_coords):\n",
    "        \"\"\" (широта, долгота) \"\"\"\n",
    "        coordinates_osrm = [from_coords[::-1], tgt_coords[::-1]] # lat, lon\n",
    "        osrm_response = self.osrm_client.route(coordinates=coordinates_osrm, overview=osrm.overview.full)\n",
    "        dist_osrm = osrm_response.get('routes')[0].get('distance')/1000 # in km\n",
    "        print('distance using OSRM: ', dist_osrm)\n",
    "        return dist_osrm\n",
    "    \n",
    "    def google_address(self, addr: str, num_results=5, proxy=None, banned=False, captcha_sleep=2):\n",
    "        if banned:\n",
    "            res = list(self.search_selenium(addr, num_results=num_results, captcha_sleep=captcha_sleep))\n",
    "        else:\n",
    "            res = list(search(addr, sleep_interval=1, num_results=num_results, proxy=proxy))\n",
    "        return res\n",
    "    \n",
    "\n",
    "    def search_selenium(self, address: str, num_results=5, captcha_sleep=2):\n",
    "        options = deepcopy(geopc.options)\n",
    "        options.page_load_strategy = 'eager'\n",
    "\n",
    "        browser = wd.Chrome(options=options)\n",
    "        browser.get('https://www.google.com/search')\n",
    "        textarea = browser.find_element(By.XPATH, \"/html/body/div[1]/div[3]/form/div[1]/div[1]/div[1]/div/div[2]/textarea\")\n",
    "        textarea.send_keys(address)\n",
    "        textarea.send_keys(Keys.ENTER)\n",
    "        time.sleep(captcha_sleep)\n",
    "        html = browser.page_source\n",
    "        soup = BeautifulSoup(html, \"html.parser\")\n",
    "        return self.parse_soup(soup, num_results=num_results)\n",
    "            \n",
    "    def parse_soup(self, soup, num_results=5):\n",
    "        fetched_results = 0\n",
    "        while fetched_results < num_results:\n",
    "            result_block = soup.find_all(\"div\", attrs={\"class\": \"g\"})\n",
    "            new_results = 0  # Keep track of new results in this iteration\n",
    "\n",
    "            for result in result_block:\n",
    "                # Find link, title, description\n",
    "                link = result.find(\"a\", href=True)\n",
    "                title = result.find(\"h3\")\n",
    "                description_box = result.find(\"div\", {\"style\": \"-webkit-line-clamp:2\"})\n",
    "\n",
    "                if link and title and description_box:\n",
    "                    description = description_box.text\n",
    "                    fetched_results += 1\n",
    "                    new_results += 1\n",
    "                    # if advanced:\n",
    "                        # yield SearchResult(link[\"href\"], title.text, description)\n",
    "                    # else:\n",
    "                    yield link[\"href\"]\n",
    "\n",
    "                if fetched_results >= num_results:\n",
    "                    break  # Stop if we have fetched the desired number of results\n",
    "\n",
    "            if new_results == 0:\n",
    "                break\n",
    "\n",
    "\n",
    "    def parse_freicon(self, freicon_url: str='https://online.freicon.ru/info/stations/799101'):\n",
    "        \"\"\" If alta not in urls \"\"\"\n",
    "        try:\n",
    "            browser = wd.Chrome(options=self.options)\n",
    "            browser.get(freicon_url)\n",
    "            lat = float(browser.find_element(By.XPATH, '/html/body/app-root/app-admin-layout/div/main/app-info/app-station-details/section/div[1]/div[13]/div[1]/span').text)\n",
    "            lon = float(browser.find_element(By.XPATH, '/html/body/app-root/app-admin-layout/div/main/app-info/app-station-details/section/div[1]/div[13]/div[2]/span').text)\n",
    "            return lat, lon\n",
    "        except:\n",
    "            return None\n",
    "    \n",
    "    def parse_alta(self, alta_url: str='https://www.alta.ru/railway/station/81200/'):\n",
    "        \"\"\" More prioitised than freicon.ru\"\"\"\n",
    "        try:\n",
    "            soup = BeautifulSoup(requests.get(alta_url, headers=self.headers).text, 'html.parser')\n",
    "            lon = float(soup.find('div', class_='dib pl-10').text.split(':')[1].strip())\n",
    "            lat = float(soup.find('div', class_='dib pr-10').text.split(':')[1].strip())\n",
    "            lat, lon\n",
    "            return lat, lon\n",
    "        except:\n",
    "            return None\n",
    "    \n",
    "    def parse_yandex(self, ya_url: str='https://yandex.ru/maps/970/novorossiysk/house/krasnaya_ulitsa_108/Z04YcQVgSUYDQFpufXt2dHlhZA==/', soup=None):\n",
    "        \"\"\" Best if object is not a railway station \"\"\"\n",
    "        try:\n",
    "            if soup is None:\n",
    "                soup = BeautifulSoup(requests.get(ya_url, headers=self.headers).text, 'html.parser')\n",
    "            lat, lon = map(float, map(str.strip, soup.find('div', class_='toponym-card-title-view__coords-badge').text.split(',')))\n",
    "            return lat, lon\n",
    "        except:\n",
    "            return None\n",
    "        \n",
    "    def parse_yandex_final(self, ya_url: str='https://yandex.ru/maps/org/otdeleniye_pochtovoy_svyazi_644040/170954544743/'):\n",
    "        try:\n",
    "            browser = wd.Chrome(options=self.options)\n",
    "            browser.get(ya_url)\n",
    "\n",
    "            num_try = 0\n",
    "            while ('?ll=' not in self.basename) and (num_try < 5):\n",
    "                time.sleep(0.2)\n",
    "                self.basename = Path(browser.current_url).name\n",
    "                num_try += 1\n",
    "            lon = self.basename.split('ll=')[1].split('%2C')[0]\n",
    "            lat = self.basename.split('%2C')[1].split('&')[0]\n",
    "            try:\n",
    "                lon = float(lon)\n",
    "                lat = float(lat)\n",
    "            except:\n",
    "                pass\n",
    "            return lat, lon\n",
    "        except:\n",
    "            return None\n",
    "    \n",
    "    def parse_2gis(self, gis_url: str='https://2gis.ru/noyabrsk/search/%D0%A2%D1%80%D1%83%D0%B1%D0%BD%D0%B0%D1%8F%20%D0%B1%D0%B0%D0%B7%D0%B0'):\n",
    "        \"\"\"\n",
    "            https://2gis.ru/krasnodar/directions/points/%7C39.086777%2C45.043662%3B3237597887345181\n",
    "\n",
    "            template: %7C{lon}%2C{lat}%{hash}'\n",
    "            swap => lat, lon\n",
    "        \"\"\"\n",
    "        try:\n",
    "            browser = wd.Chrome(options=self.options)\n",
    "            browser.get(gis_url)\n",
    "            try:\n",
    "                elem = browser.find_element(By.XPATH, '/html/body/div[2]/div/div/div[1]/div[1]/div[3]/div/div/div[2]/div/div/div[2]/div[2]/div/div[1]/div/div/div/div/div[1]/div[2]/div[3]/a')\n",
    "            except:\n",
    "                browser.find_element(By.XPATH, '/html/body/div[2]/div/div/div[1]/div[1]/div[3]/div/div/div[2]/div/div/div/div[2]/div[2]/div[1]/div/div/div/div[2]/div/div/div').click()\n",
    "                elem = browser.find_element(By.XPATH, '/html/body/div[2]/div/div/div[1]/div[1]/div[3]/div[2]/div/div/div/div/div[2]/div[2]/div/div[1]/div/div/div/div/div[1]/div[1]/div[3]/a')\n",
    "            elem.click()\n",
    "            self.basename = Path(browser.current_url).name\n",
    "            while '%7C' not in self.basename:\n",
    "                time.sleep(0.2)\n",
    "                self.basename = Path(browser.current_url).name\n",
    "            lon = float(self.basename.split('%7C')[1].split('%2C')[0])\n",
    "            lat = float(self.basename.split('%2C')[1].split('%')[0])\n",
    "            return lat, lon\n",
    "        except:\n",
    "            return None\n",
    "    \n",
    "    def network_sleep(self, flag, delay) -> None:\n",
    "        if flag:\n",
    "            time.sleep(delay)\n",
    "\n",
    "    def try_parse_by_one(self, idx, pattern, parsing_func, exist_check, stage_delay, matrix, urls, network_busy):\n",
    "        \"\"\" Попытаться распарсить url соответствующим методом \"\"\"\n",
    "        if exist_check[pattern]:\n",
    "            network_busy |= True\n",
    "            cur_urls = np.array(urls)[matrix[idx]].tolist()\n",
    "            for cur_url in cur_urls:\n",
    "                res = parsing_func(cur_url)\n",
    "                if res is not None:\n",
    "                    return res, exist_check, pattern\n",
    "                \n",
    "        self.network_sleep(network_busy, stage_delay)\n",
    "        return network_busy\n",
    "\n",
    "    def process(self, addr, num_results=10, google_delay=2, stage_delay=2, proxy=None, banned=False, captcha_sleep=2):\n",
    "        \"\"\"\n",
    "        1. Если есть alta, то альта\n",
    "            если она none, то freicon если есть\n",
    "                если none, то yandex\n",
    "                    если none то 2gis => далее none тк none\n",
    "        2. Если нет alta, есть freicon, то freicon\n",
    "            если none, то yandex\n",
    "                если none то 2 gis => далее none тк none\n",
    "        3. если нет ни alta ни freicon, то yandex\n",
    "            если none то 2gis => далее none тк none\n",
    "\n",
    "        :return: returned value must be in ['banned', 'nan', (lat, lon)]\n",
    "        \"\"\"\n",
    "        self.patterns = ['yandex.ru', '2gis.ru', 'alta.ru', 'freicon.ru']\n",
    "        self.funcs = [self.parse_yandex, self.parse_2gis, self.parse_alta, self.parse_freicon]\n",
    "\n",
    "        try:\n",
    "            urls = self.google_address(addr=addr, num_results=num_results, proxy=proxy, banned=banned, captcha_sleep=captcha_sleep)\n",
    "            matrix = np.array([[pattern in url.lower() for url in urls] for pattern in self.patterns])\n",
    "\n",
    "            if (len(urls) < 2) or (matrix.sum() < 1):\n",
    "                time.sleep(google_delay)\n",
    "                \n",
    "                urls = self.google_address(addr=addr[:int(len(addr)/2)], num_results=num_results, proxy=proxy, banned=banned, captcha_sleep=captcha_sleep)\n",
    "                matrix = np.array([[pattern in url.lower() for url in urls] for pattern in self.patterns])\n",
    "                if (matrix.sum() < 1):\n",
    "                    time.sleep(google_delay)\n",
    "                    urls = self.google_address(addr=addr[int(len(addr)/2):], num_results=num_results, proxy=proxy, banned=banned, captcha_sleep=captcha_sleep)\n",
    "                    matrix = np.array([[pattern in url.lower() for url in urls] for pattern in self.patterns])\n",
    "                    if (matrix.sum() < 1):\n",
    "                        time.sleep(google_delay)\n",
    "                        sp = addr.split()\n",
    "                        urls = self.google_address(addr=' '.join(sp[2:len(sp)-1]), num_results=num_results, proxy=proxy, banned=banned, captcha_sleep=captcha_sleep)\n",
    "                        matrix = np.array([[pattern in url.lower() for url in urls] for pattern in self.patterns])\n",
    "                        if (matrix.sum() < 1):\n",
    "                            self.matrix = matrix\n",
    "                            self.urls = urls\n",
    "                            return 'nan'\n",
    "        except Exception as e:\n",
    "            print(f'Probably, banned! {e}')\n",
    "            return 'banned'\n",
    "\n",
    "        exist_check = {k:v for k, v in zip(self.patterns, matrix.sum(axis=1).tolist())}\n",
    "        network_busy = False\n",
    "        list_enumerate = list(enumerate(zip(self.patterns, self.funcs)))\n",
    "\n",
    "        # shuffle `list_enumerate` in right order and execute\n",
    "        for idx, (pattern, parsing_func) in list_enumerate[2:-1] + list_enumerate[:2] + [list_enumerate[-1]]:\n",
    "            result = self.try_parse_by_one(idx, pattern, parsing_func, exist_check, stage_delay, matrix, urls, network_busy)\n",
    "            if isinstance(result, tuple):\n",
    "                return result\n",
    "            network_busy = result\n",
    "\n",
    "        self.matrix = matrix\n",
    "        self.urls = urls\n",
    "        return 'nan'\n",
    "    \n",
    "    def process_v2(self, addr_iter):\n",
    "        ya_home_url = 'https://yandex.ru/maps'\n",
    "        browser = wd.Chrome(options=self.options)\n",
    "        browser.execute_script(\"Object.defineProperty(navigator, 'webdriver', {get: () => undefined})\")\n",
    "        browser.get(ya_home_url)\n",
    "        time.sleep(10)\n",
    "        try:\n",
    "            results = []\n",
    "            for addr in addr_iter:\n",
    "                elem = browser.find_element(By.CSS_SELECTOR, 'input[placeholder=\"Поиск мест и адресов\"]')\n",
    "                elem.send_keys(addr)\n",
    "                # for char in addr:\n",
    "                #     elem.send_keys(char)\n",
    "                #     time.sleep(random.uniform(0.1, 0.5))  # Случайная задержка\n",
    "\n",
    "                elem.send_keys(Keys.ENTER)\n",
    "\n",
    "                # Ожидаем загрузку результатов с рандомной задержкой\n",
    "                time.sleep(random.uniform(1, 4))\n",
    "\n",
    "                # Получаем HTML код страницы\n",
    "                html = browser.page_source\n",
    "                soup = BeautifulSoup(html, \"html.parser\")\n",
    "\n",
    "                # Парсим результат\n",
    "                result_v1 = self.parse_yandex(soup=soup)\n",
    "                if result_v1 is None:\n",
    "                    print('Parsing v2 and nan')\n",
    "                    try:\n",
    "                        route = browser.find_element(By.XPATH, '/html/body/div[1]/div[2]/div[10]/div[1]/div[1]/div[1]/div/div[1]/div/div/div[3]/div[3]/div/div[7]/div/div/div/div/div/div[1]/div/button')\n",
    "                        route.click()\n",
    "                    except KeyboardInterrupt:\n",
    "                        return results\n",
    "                    except:\n",
    "                        try:\n",
    "                            route = browser.find_element(By.CSS_SELECTOR, 'input[placeholder=\"Поиск мест и адресов\"]')\n",
    "                            route.click()\n",
    "                            time.sleep(random.uniform(0.1, 0.3))\n",
    "                            html = browser.page_source\n",
    "                            soup = BeautifulSoup(html, \"html.parser\")\n",
    "                            s = soup.find('li', class_='search-snippet-view')\n",
    "                            divs = s.findAll('div')\n",
    "                            for div in divs:\n",
    "                                if div.has_attr('data-coordinates'):\n",
    "                                    results.append(','.join(div['data-coordinates'].split(',')[::-1]))\n",
    "                                break\n",
    "                            # time.sleep(random.uniform(1, 3))\n",
    "                            try:\n",
    "                                clear_button = browser.find_element(By.CSS_SELECTOR, \"button[aria-label='Закрыть']\")\n",
    "                                clear_button.click()\n",
    "                                print('go back')\n",
    "                            except KeyboardInterrupt:\n",
    "                                return results\n",
    "                            except:\n",
    "                                print('go back failed')\n",
    "                        except KeyboardInterrupt:\n",
    "                            return results\n",
    "                        except:\n",
    "                            \"\"\" возможно вышел лист адресов \"\"\"\n",
    "                            try:\n",
    "                                html = browser.page_source\n",
    "                                soup = BeautifulSoup(html, \"html.parser\")\n",
    "                                s = soup.find('li', class_='search-snippet-view')\n",
    "                                divs = s.findAll('div')\n",
    "                                for div in divs:\n",
    "                                    if div.has_attr('data-coordinates'):\n",
    "                                        results.append(','.join(div['data-coordinates'].split(',')[::-1]))\n",
    "                                    break\n",
    "                                print('closing addr')\n",
    "                                # time.sleep(random.uniform(0.5, 4))\n",
    "                                clear_button = browser.find_element(By.CSS_SELECTOR, \"button[aria-label='Закрыть']\")\n",
    "                                clear_button.click()\n",
    "                                # time.sleep(random.uniform(0.5, 4))\n",
    "                            except:\n",
    "                                print(f'Не кликнулось, {addr=}')\n",
    "                                try:\n",
    "                                    clear_button = browser.find_element(By.CSS_SELECTOR, \"button[aria-label='Закрыть']\")\n",
    "                                    clear_button.click()\n",
    "                                except:\n",
    "                                    print('WARNING: НЕ СРАБОТАЛО ЗАКРЫТИЕ')\n",
    "                                results.append('nan')\n",
    "                        \n",
    "                else:\n",
    "                    # time.sleep(random.uniform(0.5, 4))\n",
    "                    clear_button = browser.find_element(By.CSS_SELECTOR, \"button[aria-label='Закрыть']\")\n",
    "                    clear_button.click()\n",
    "                    # time.sleep(random.uniform(0.5, 4))\n",
    "                    results.append(result_v1)\n",
    "                print(f'{results=}')\n",
    "                time.sleep(random.uniform(1, 2.5))\n",
    "        except KeyboardInterrupt:\n",
    "            return results\n",
    "        return results\n",
    "        \n",
    "\n",
    "geopc = GeoProcessor()"
   ]
  },
  {
   "cell_type": "markdown",
   "metadata": {},
   "source": [
    "## testing"
   ]
  },
  {
   "cell_type": "code",
   "execution_count": 74,
   "metadata": {},
   "outputs": [
    {
     "name": "stdout",
     "output_type": "stream",
     "text": [
      "distance using OSRM:  1040.1744\n"
     ]
    },
    {
     "data": {
      "text/plain": [
       "1040.1744"
      ]
     },
     "execution_count": 74,
     "metadata": {},
     "output_type": "execute_result"
    }
   ],
   "source": [
    "geopc.distance(coordinates[0], tgt_coord)"
   ]
  },
  {
   "cell_type": "code",
   "execution_count": 75,
   "metadata": {},
   "outputs": [
    {
     "data": {
      "text/plain": [
       "'Урманское месторождение '"
      ]
     },
     "execution_count": 75,
     "metadata": {},
     "output_type": "execute_result"
    }
   ],
   "source": [
    "query = next(buyer_address_iter)\n",
    "query"
   ]
  },
  {
   "cell_type": "code",
   "execution_count": 76,
   "metadata": {},
   "outputs": [
    {
     "data": {
      "text/plain": [
       "'nan'"
      ]
     },
     "execution_count": 76,
     "metadata": {},
     "output_type": "execute_result"
    }
   ],
   "source": [
    "geopc.process(query, banned=True)"
   ]
  },
  {
   "cell_type": "code",
   "execution_count": 134,
   "metadata": {},
   "outputs": [
    {
     "name": "stdout",
     "output_type": "stream",
     "text": [
      "results=[(61.166542, 75.967595)]\n",
      "Parsing v2 and nan\n",
      "go back\n",
      "results=[(61.166542, 75.967595), '68.486525,73.557826']\n",
      "results=[(61.166542, 75.967595), '68.486525,73.557826', (59.942462, 30.370567)]\n",
      "results=[(61.166542, 75.967595), '68.486525,73.557826', (59.942462, 30.370567), (55.654198, 37.55602)]\n",
      "Parsing v2 and nan\n",
      "Не кликнулось, addr='ст. Лабытнанги, Северной ж.д., код 289904 '\n",
      "results=[(61.166542, 75.967595), '68.486525,73.557826', (59.942462, 30.370567), (55.654198, 37.55602), 'nan']\n",
      "Parsing v2 and nan\n",
      "go back\n",
      "results=[(61.166542, 75.967595), '68.486525,73.557826', (59.942462, 30.370567), (55.654198, 37.55602), 'nan', '66.024437,57.547413']\n",
      "Parsing v2 and nan\n",
      "Не кликнулось, addr='Регион Центр '\n",
      "results=[(61.166542, 75.967595), '68.486525,73.557826', (59.942462, 30.370567), (55.654198, 37.55602), 'nan', '66.024437,57.547413', 'nan']\n",
      "results=[(61.166542, 75.967595), '68.486525,73.557826', (59.942462, 30.370567), (55.654198, 37.55602), 'nan', '66.024437,57.547413', 'nan', (55.074113, 61.327796)]\n",
      "results=[(61.166542, 75.967595), '68.486525,73.557826', (59.942462, 30.370567), (55.654198, 37.55602), 'nan', '66.024437,57.547413', 'nan', (55.074113, 61.327796), (51.764927, 55.10292)]\n",
      "results=[(61.166542, 75.967595), '68.486525,73.557826', (59.942462, 30.370567), (55.654198, 37.55602), 'nan', '66.024437,57.547413', 'nan', (55.074113, 61.327796), (51.764927, 55.10292), (63.790542, 74.541717)]\n",
      "results=[(61.166542, 75.967595), '68.486525,73.557826', (59.942462, 30.370567), (55.654198, 37.55602), 'nan', '66.024437,57.547413', 'nan', (55.074113, 61.327796), (51.764927, 55.10292), (63.790542, 74.541717), (56.728178, 61.359434)]\n",
      "results=[(61.166542, 75.967595), '68.486525,73.557826', (59.942462, 30.370567), (55.654198, 37.55602), 'nan', '66.024437,57.547413', 'nan', (55.074113, 61.327796), (51.764927, 55.10292), (63.790542, 74.541717), (56.728178, 61.359434), (64.480468, 40.731196)]\n",
      "Parsing v2 and nan\n",
      "Не кликнулось, addr='629809, ЯНАО, г. Ноябрьск, промузел Пелей, панель 16, промзона'\n",
      "results=[(61.166542, 75.967595), '68.486525,73.557826', (59.942462, 30.370567), (55.654198, 37.55602), 'nan', '66.024437,57.547413', 'nan', (55.074113, 61.327796), (51.764927, 55.10292), (63.790542, 74.541717), (56.728178, 61.359434), (64.480468, 40.731196), 'nan']\n",
      "results=[(61.166542, 75.967595), '68.486525,73.557826', (59.942462, 30.370567), (55.654198, 37.55602), 'nan', '66.024437,57.547413', 'nan', (55.074113, 61.327796), (51.764927, 55.10292), (63.790542, 74.541717), (56.728178, 61.359434), (64.480468, 40.731196), 'nan', (59.598925, 60.544088)]\n",
      "results=[(61.166542, 75.967595), '68.486525,73.557826', (59.942462, 30.370567), (55.654198, 37.55602), 'nan', '66.024437,57.547413', 'nan', (55.074113, 61.327796), (51.764927, 55.10292), (63.790542, 74.541717), (56.728178, 61.359434), (64.480468, 40.731196), 'nan', (59.598925, 60.544088), (56.558869, 84.922927)]\n",
      "results=[(61.166542, 75.967595), '68.486525,73.557826', (59.942462, 30.370567), (55.654198, 37.55602), 'nan', '66.024437,57.547413', 'nan', (55.074113, 61.327796), (51.764927, 55.10292), (63.790542, 74.541717), (56.728178, 61.359434), (64.480468, 40.731196), 'nan', (59.598925, 60.544088), (56.558869, 84.922927), (61.037321, 76.083226)]\n",
      "results=[(61.166542, 75.967595), '68.486525,73.557826', (59.942462, 30.370567), (55.654198, 37.55602), 'nan', '66.024437,57.547413', 'nan', (55.074113, 61.327796), (51.764927, 55.10292), (63.790542, 74.541717), (56.728178, 61.359434), (64.480468, 40.731196), 'nan', (59.598925, 60.544088), (56.558869, 84.922927), (61.037321, 76.083226), (57.164744, 65.84978)]\n",
      "Parsing v2 and nan\n",
      "go back\n",
      "results=[(61.166542, 75.967595), '68.486525,73.557826', (59.942462, 30.370567), (55.654198, 37.55602), 'nan', '66.024437,57.547413', 'nan', (55.074113, 61.327796), (51.764927, 55.10292), (63.790542, 74.541717), (56.728178, 61.359434), (64.480468, 40.731196), 'nan', (59.598925, 60.544088), (56.558869, 84.922927), (61.037321, 76.083226), (57.164744, 65.84978), '63.203882,75.439467']\n",
      "Parsing v2 and nan\n",
      "Не кликнулось, addr='634000, Томская обл., Томский р-н, окр.Ж.д.станц. Копылово, стр. 10 '\n",
      "results=[(61.166542, 75.967595), '68.486525,73.557826', (59.942462, 30.370567), (55.654198, 37.55602), 'nan', '66.024437,57.547413', 'nan', (55.074113, 61.327796), (51.764927, 55.10292), (63.790542, 74.541717), (56.728178, 61.359434), (64.480468, 40.731196), 'nan', (59.598925, 60.544088), (56.558869, 84.922927), (61.037321, 76.083226), (57.164744, 65.84978), '63.203882,75.439467', 'nan']\n",
      "Parsing v2 and nan\n",
      "Не кликнулось, addr='397160, Воронежская обл., г. Борисоглебск, Аэродром '\n",
      "results=[(61.166542, 75.967595), '68.486525,73.557826', (59.942462, 30.370567), (55.654198, 37.55602), 'nan', '66.024437,57.547413', 'nan', (55.074113, 61.327796), (51.764927, 55.10292), (63.790542, 74.541717), (56.728178, 61.359434), (64.480468, 40.731196), 'nan', (59.598925, 60.544088), (56.558869, 84.922927), (61.037321, 76.083226), (57.164744, 65.84978), '63.203882,75.439467', 'nan', 'nan']\n",
      "results=[(61.166542, 75.967595), '68.486525,73.557826', (59.942462, 30.370567), (55.654198, 37.55602), 'nan', '66.024437,57.547413', 'nan', (55.074113, 61.327796), (51.764927, 55.10292), (63.790542, 74.541717), (56.728178, 61.359434), (64.480468, 40.731196), 'nan', (59.598925, 60.544088), (56.558869, 84.922927), (61.037321, 76.083226), (57.164744, 65.84978), '63.203882,75.439467', 'nan', 'nan', (50.79968, 40.624943)]\n",
      "results=[(61.166542, 75.967595), '68.486525,73.557826', (59.942462, 30.370567), (55.654198, 37.55602), 'nan', '66.024437,57.547413', 'nan', (55.074113, 61.327796), (51.764927, 55.10292), (63.790542, 74.541717), (56.728178, 61.359434), (64.480468, 40.731196), 'nan', (59.598925, 60.544088), (56.558869, 84.922927), (61.037321, 76.083226), (57.164744, 65.84978), '63.203882,75.439467', 'nan', 'nan', (50.79968, 40.624943), (55.074113, 61.327796)]\n",
      "results=[(61.166542, 75.967595), '68.486525,73.557826', (59.942462, 30.370567), (55.654198, 37.55602), 'nan', '66.024437,57.547413', 'nan', (55.074113, 61.327796), (51.764927, 55.10292), (63.790542, 74.541717), (56.728178, 61.359434), (64.480468, 40.731196), 'nan', (59.598925, 60.544088), (56.558869, 84.922927), (61.037321, 76.083226), (57.164744, 65.84978), '63.203882,75.439467', 'nan', 'nan', (50.79968, 40.624943), (55.074113, 61.327796), (58.054203, 63.664233)]\n",
      "Parsing v2 and nan\n",
      "Не кликнулось, addr='ст. Нягань, Свердловской ж/д, код 779201 '\n",
      "results=[(61.166542, 75.967595), '68.486525,73.557826', (59.942462, 30.370567), (55.654198, 37.55602), 'nan', '66.024437,57.547413', 'nan', (55.074113, 61.327796), (51.764927, 55.10292), (63.790542, 74.541717), (56.728178, 61.359434), (64.480468, 40.731196), 'nan', (59.598925, 60.544088), (56.558869, 84.922927), (61.037321, 76.083226), (57.164744, 65.84978), '63.203882,75.439467', 'nan', 'nan', (50.79968, 40.624943), (55.074113, 61.327796), (58.054203, 63.664233), 'nan']\n",
      "results=[(61.166542, 75.967595), '68.486525,73.557826', (59.942462, 30.370567), (55.654198, 37.55602), 'nan', '66.024437,57.547413', 'nan', (55.074113, 61.327796), (51.764927, 55.10292), (63.790542, 74.541717), (56.728178, 61.359434), (64.480468, 40.731196), 'nan', (59.598925, 60.544088), (56.558869, 84.922927), (61.037321, 76.083226), (57.164744, 65.84978), '63.203882,75.439467', 'nan', 'nan', (50.79968, 40.624943), (55.074113, 61.327796), (58.054203, 63.664233), 'nan', (55.274857, 61.401458)]\n",
      "results=[(61.166542, 75.967595), '68.486525,73.557826', (59.942462, 30.370567), (55.654198, 37.55602), 'nan', '66.024437,57.547413', 'nan', (55.074113, 61.327796), (51.764927, 55.10292), (63.790542, 74.541717), (56.728178, 61.359434), (64.480468, 40.731196), 'nan', (59.598925, 60.544088), (56.558869, 84.922927), (61.037321, 76.083226), (57.164744, 65.84978), '63.203882,75.439467', 'nan', 'nan', (50.79968, 40.624943), (55.074113, 61.327796), (58.054203, 63.664233), 'nan', (55.274857, 61.401458), (55.708577, 37.806156)]\n",
      "results=[(61.166542, 75.967595), '68.486525,73.557826', (59.942462, 30.370567), (55.654198, 37.55602), 'nan', '66.024437,57.547413', 'nan', (55.074113, 61.327796), (51.764927, 55.10292), (63.790542, 74.541717), (56.728178, 61.359434), (64.480468, 40.731196), 'nan', (59.598925, 60.544088), (56.558869, 84.922927), (61.037321, 76.083226), (57.164744, 65.84978), '63.203882,75.439467', 'nan', 'nan', (50.79968, 40.624943), (55.074113, 61.327796), (58.054203, 63.664233), 'nan', (55.274857, 61.401458), (55.708577, 37.806156), (55.086425, 73.233007)]\n",
      "results=[(61.166542, 75.967595), '68.486525,73.557826', (59.942462, 30.370567), (55.654198, 37.55602), 'nan', '66.024437,57.547413', 'nan', (55.074113, 61.327796), (51.764927, 55.10292), (63.790542, 74.541717), (56.728178, 61.359434), (64.480468, 40.731196), 'nan', (59.598925, 60.544088), (56.558869, 84.922927), (61.037321, 76.083226), (57.164744, 65.84978), '63.203882,75.439467', 'nan', 'nan', (50.79968, 40.624943), (55.074113, 61.327796), (58.054203, 63.664233), 'nan', (55.274857, 61.401458), (55.708577, 37.806156), (55.086425, 73.233007), (57.141984, 65.598692)]\n",
      "results=[(61.166542, 75.967595), '68.486525,73.557826', (59.942462, 30.370567), (55.654198, 37.55602), 'nan', '66.024437,57.547413', 'nan', (55.074113, 61.327796), (51.764927, 55.10292), (63.790542, 74.541717), (56.728178, 61.359434), (64.480468, 40.731196), 'nan', (59.598925, 60.544088), (56.558869, 84.922927), (61.037321, 76.083226), (57.164744, 65.84978), '63.203882,75.439467', 'nan', 'nan', (50.79968, 40.624943), (55.074113, 61.327796), (58.054203, 63.664233), 'nan', (55.274857, 61.401458), (55.708577, 37.806156), (55.086425, 73.233007), (57.141984, 65.598692), (57.148424, 65.558933)]\n",
      "results=[(61.166542, 75.967595), '68.486525,73.557826', (59.942462, 30.370567), (55.654198, 37.55602), 'nan', '66.024437,57.547413', 'nan', (55.074113, 61.327796), (51.764927, 55.10292), (63.790542, 74.541717), (56.728178, 61.359434), (64.480468, 40.731196), 'nan', (59.598925, 60.544088), (56.558869, 84.922927), (61.037321, 76.083226), (57.164744, 65.84978), '63.203882,75.439467', 'nan', 'nan', (50.79968, 40.624943), (55.074113, 61.327796), (58.054203, 63.664233), 'nan', (55.274857, 61.401458), (55.708577, 37.806156), (55.086425, 73.233007), (57.141984, 65.598692), (57.148424, 65.558933), (61.004008, 69.03756)]\n",
      "results=[(61.166542, 75.967595), '68.486525,73.557826', (59.942462, 30.370567), (55.654198, 37.55602), 'nan', '66.024437,57.547413', 'nan', (55.074113, 61.327796), (51.764927, 55.10292), (63.790542, 74.541717), (56.728178, 61.359434), (64.480468, 40.731196), 'nan', (59.598925, 60.544088), (56.558869, 84.922927), (61.037321, 76.083226), (57.164744, 65.84978), '63.203882,75.439467', 'nan', 'nan', (50.79968, 40.624943), (55.074113, 61.327796), (58.054203, 63.664233), 'nan', (55.274857, 61.401458), (55.708577, 37.806156), (55.086425, 73.233007), (57.141984, 65.598692), (57.148424, 65.558933), (61.004008, 69.03756), (56.112312, 69.501171)]\n",
      "results=[(61.166542, 75.967595), '68.486525,73.557826', (59.942462, 30.370567), (55.654198, 37.55602), 'nan', '66.024437,57.547413', 'nan', (55.074113, 61.327796), (51.764927, 55.10292), (63.790542, 74.541717), (56.728178, 61.359434), (64.480468, 40.731196), 'nan', (59.598925, 60.544088), (56.558869, 84.922927), (61.037321, 76.083226), (57.164744, 65.84978), '63.203882,75.439467', 'nan', 'nan', (50.79968, 40.624943), (55.074113, 61.327796), (58.054203, 63.664233), 'nan', (55.274857, 61.401458), (55.708577, 37.806156), (55.086425, 73.233007), (57.141984, 65.598692), (57.148424, 65.558933), (61.004008, 69.03756), (56.112312, 69.501171), (59.932703, 30.29818)]\n",
      "results=[(61.166542, 75.967595), '68.486525,73.557826', (59.942462, 30.370567), (55.654198, 37.55602), 'nan', '66.024437,57.547413', 'nan', (55.074113, 61.327796), (51.764927, 55.10292), (63.790542, 74.541717), (56.728178, 61.359434), (64.480468, 40.731196), 'nan', (59.598925, 60.544088), (56.558869, 84.922927), (61.037321, 76.083226), (57.164744, 65.84978), '63.203882,75.439467', 'nan', 'nan', (50.79968, 40.624943), (55.074113, 61.327796), (58.054203, 63.664233), 'nan', (55.274857, 61.401458), (55.708577, 37.806156), (55.086425, 73.233007), (57.141984, 65.598692), (57.148424, 65.558933), (61.004008, 69.03756), (56.112312, 69.501171), (59.932703, 30.29818), (57.569672, 39.805213)]\n",
      "results=[(61.166542, 75.967595), '68.486525,73.557826', (59.942462, 30.370567), (55.654198, 37.55602), 'nan', '66.024437,57.547413', 'nan', (55.074113, 61.327796), (51.764927, 55.10292), (63.790542, 74.541717), (56.728178, 61.359434), (64.480468, 40.731196), 'nan', (59.598925, 60.544088), (56.558869, 84.922927), (61.037321, 76.083226), (57.164744, 65.84978), '63.203882,75.439467', 'nan', 'nan', (50.79968, 40.624943), (55.074113, 61.327796), (58.054203, 63.664233), 'nan', (55.274857, 61.401458), (55.708577, 37.806156), (55.086425, 73.233007), (57.141984, 65.598692), (57.148424, 65.558933), (61.004008, 69.03756), (56.112312, 69.501171), (59.932703, 30.29818), (57.569672, 39.805213), (59.961219, 30.368617)]\n",
      "results=[(61.166542, 75.967595), '68.486525,73.557826', (59.942462, 30.370567), (55.654198, 37.55602), 'nan', '66.024437,57.547413', 'nan', (55.074113, 61.327796), (51.764927, 55.10292), (63.790542, 74.541717), (56.728178, 61.359434), (64.480468, 40.731196), 'nan', (59.598925, 60.544088), (56.558869, 84.922927), (61.037321, 76.083226), (57.164744, 65.84978), '63.203882,75.439467', 'nan', 'nan', (50.79968, 40.624943), (55.074113, 61.327796), (58.054203, 63.664233), 'nan', (55.274857, 61.401458), (55.708577, 37.806156), (55.086425, 73.233007), (57.141984, 65.598692), (57.148424, 65.558933), (61.004008, 69.03756), (56.112312, 69.501171), (59.932703, 30.29818), (57.569672, 39.805213), (59.961219, 30.368617), (53.213526, 34.182738)]\n",
      "results=[(61.166542, 75.967595), '68.486525,73.557826', (59.942462, 30.370567), (55.654198, 37.55602), 'nan', '66.024437,57.547413', 'nan', (55.074113, 61.327796), (51.764927, 55.10292), (63.790542, 74.541717), (56.728178, 61.359434), (64.480468, 40.731196), 'nan', (59.598925, 60.544088), (56.558869, 84.922927), (61.037321, 76.083226), (57.164744, 65.84978), '63.203882,75.439467', 'nan', 'nan', (50.79968, 40.624943), (55.074113, 61.327796), (58.054203, 63.664233), 'nan', (55.274857, 61.401458), (55.708577, 37.806156), (55.086425, 73.233007), (57.141984, 65.598692), (57.148424, 65.558933), (61.004008, 69.03756), (56.112312, 69.501171), (59.932703, 30.29818), (57.569672, 39.805213), (59.961219, 30.368617), (53.213526, 34.182738), (64.751575, 77.354073)]\n",
      "results=[(61.166542, 75.967595), '68.486525,73.557826', (59.942462, 30.370567), (55.654198, 37.55602), 'nan', '66.024437,57.547413', 'nan', (55.074113, 61.327796), (51.764927, 55.10292), (63.790542, 74.541717), (56.728178, 61.359434), (64.480468, 40.731196), 'nan', (59.598925, 60.544088), (56.558869, 84.922927), (61.037321, 76.083226), (57.164744, 65.84978), '63.203882,75.439467', 'nan', 'nan', (50.79968, 40.624943), (55.074113, 61.327796), (58.054203, 63.664233), 'nan', (55.274857, 61.401458), (55.708577, 37.806156), (55.086425, 73.233007), (57.141984, 65.598692), (57.148424, 65.558933), (61.004008, 69.03756), (56.112312, 69.501171), (59.932703, 30.29818), (57.569672, 39.805213), (59.961219, 30.368617), (53.213526, 34.182738), (64.751575, 77.354073), (46.446839, 41.612749)]\n",
      "results=[(61.166542, 75.967595), '68.486525,73.557826', (59.942462, 30.370567), (55.654198, 37.55602), 'nan', '66.024437,57.547413', 'nan', (55.074113, 61.327796), (51.764927, 55.10292), (63.790542, 74.541717), (56.728178, 61.359434), (64.480468, 40.731196), 'nan', (59.598925, 60.544088), (56.558869, 84.922927), (61.037321, 76.083226), (57.164744, 65.84978), '63.203882,75.439467', 'nan', 'nan', (50.79968, 40.624943), (55.074113, 61.327796), (58.054203, 63.664233), 'nan', (55.274857, 61.401458), (55.708577, 37.806156), (55.086425, 73.233007), (57.141984, 65.598692), (57.148424, 65.558933), (61.004008, 69.03756), (56.112312, 69.501171), (59.932703, 30.29818), (57.569672, 39.805213), (59.961219, 30.368617), (53.213526, 34.182738), (64.751575, 77.354073), (46.446839, 41.612749), (55.858544, 37.685889)]\n",
      "results=[(61.166542, 75.967595), '68.486525,73.557826', (59.942462, 30.370567), (55.654198, 37.55602), 'nan', '66.024437,57.547413', 'nan', (55.074113, 61.327796), (51.764927, 55.10292), (63.790542, 74.541717), (56.728178, 61.359434), (64.480468, 40.731196), 'nan', (59.598925, 60.544088), (56.558869, 84.922927), (61.037321, 76.083226), (57.164744, 65.84978), '63.203882,75.439467', 'nan', 'nan', (50.79968, 40.624943), (55.074113, 61.327796), (58.054203, 63.664233), 'nan', (55.274857, 61.401458), (55.708577, 37.806156), (55.086425, 73.233007), (57.141984, 65.598692), (57.148424, 65.558933), (61.004008, 69.03756), (56.112312, 69.501171), (59.932703, 30.29818), (57.569672, 39.805213), (59.961219, 30.368617), (53.213526, 34.182738), (64.751575, 77.354073), (46.446839, 41.612749), (55.858544, 37.685889), (55.166248, 61.410396)]\n",
      "results=[(61.166542, 75.967595), '68.486525,73.557826', (59.942462, 30.370567), (55.654198, 37.55602), 'nan', '66.024437,57.547413', 'nan', (55.074113, 61.327796), (51.764927, 55.10292), (63.790542, 74.541717), (56.728178, 61.359434), (64.480468, 40.731196), 'nan', (59.598925, 60.544088), (56.558869, 84.922927), (61.037321, 76.083226), (57.164744, 65.84978), '63.203882,75.439467', 'nan', 'nan', (50.79968, 40.624943), (55.074113, 61.327796), (58.054203, 63.664233), 'nan', (55.274857, 61.401458), (55.708577, 37.806156), (55.086425, 73.233007), (57.141984, 65.598692), (57.148424, 65.558933), (61.004008, 69.03756), (56.112312, 69.501171), (59.932703, 30.29818), (57.569672, 39.805213), (59.961219, 30.368617), (53.213526, 34.182738), (64.751575, 77.354073), (46.446839, 41.612749), (55.858544, 37.685889), (55.166248, 61.410396), (57.158052, 65.509759)]\n",
      "results=[(61.166542, 75.967595), '68.486525,73.557826', (59.942462, 30.370567), (55.654198, 37.55602), 'nan', '66.024437,57.547413', 'nan', (55.074113, 61.327796), (51.764927, 55.10292), (63.790542, 74.541717), (56.728178, 61.359434), (64.480468, 40.731196), 'nan', (59.598925, 60.544088), (56.558869, 84.922927), (61.037321, 76.083226), (57.164744, 65.84978), '63.203882,75.439467', 'nan', 'nan', (50.79968, 40.624943), (55.074113, 61.327796), (58.054203, 63.664233), 'nan', (55.274857, 61.401458), (55.708577, 37.806156), (55.086425, 73.233007), (57.141984, 65.598692), (57.148424, 65.558933), (61.004008, 69.03756), (56.112312, 69.501171), (59.932703, 30.29818), (57.569672, 39.805213), (59.961219, 30.368617), (53.213526, 34.182738), (64.751575, 77.354073), (46.446839, 41.612749), (55.858544, 37.685889), (55.166248, 61.410396), (57.158052, 65.509759), (57.569363, 39.935801)]\n",
      "results=[(61.166542, 75.967595), '68.486525,73.557826', (59.942462, 30.370567), (55.654198, 37.55602), 'nan', '66.024437,57.547413', 'nan', (55.074113, 61.327796), (51.764927, 55.10292), (63.790542, 74.541717), (56.728178, 61.359434), (64.480468, 40.731196), 'nan', (59.598925, 60.544088), (56.558869, 84.922927), (61.037321, 76.083226), (57.164744, 65.84978), '63.203882,75.439467', 'nan', 'nan', (50.79968, 40.624943), (55.074113, 61.327796), (58.054203, 63.664233), 'nan', (55.274857, 61.401458), (55.708577, 37.806156), (55.086425, 73.233007), (57.141984, 65.598692), (57.148424, 65.558933), (61.004008, 69.03756), (56.112312, 69.501171), (59.932703, 30.29818), (57.569672, 39.805213), (59.961219, 30.368617), (53.213526, 34.182738), (64.751575, 77.354073), (46.446839, 41.612749), (55.858544, 37.685889), (55.166248, 61.410396), (57.158052, 65.509759), (57.569363, 39.935801), (71.179568, 66.8644)]\n",
      "results=[(61.166542, 75.967595), '68.486525,73.557826', (59.942462, 30.370567), (55.654198, 37.55602), 'nan', '66.024437,57.547413', 'nan', (55.074113, 61.327796), (51.764927, 55.10292), (63.790542, 74.541717), (56.728178, 61.359434), (64.480468, 40.731196), 'nan', (59.598925, 60.544088), (56.558869, 84.922927), (61.037321, 76.083226), (57.164744, 65.84978), '63.203882,75.439467', 'nan', 'nan', (50.79968, 40.624943), (55.074113, 61.327796), (58.054203, 63.664233), 'nan', (55.274857, 61.401458), (55.708577, 37.806156), (55.086425, 73.233007), (57.141984, 65.598692), (57.148424, 65.558933), (61.004008, 69.03756), (56.112312, 69.501171), (59.932703, 30.29818), (57.569672, 39.805213), (59.961219, 30.368617), (53.213526, 34.182738), (64.751575, 77.354073), (46.446839, 41.612749), (55.858544, 37.685889), (55.166248, 61.410396), (57.158052, 65.509759), (57.569363, 39.935801), (71.179568, 66.8644), (57.018884, 40.990046)]\n",
      "results=[(61.166542, 75.967595), '68.486525,73.557826', (59.942462, 30.370567), (55.654198, 37.55602), 'nan', '66.024437,57.547413', 'nan', (55.074113, 61.327796), (51.764927, 55.10292), (63.790542, 74.541717), (56.728178, 61.359434), (64.480468, 40.731196), 'nan', (59.598925, 60.544088), (56.558869, 84.922927), (61.037321, 76.083226), (57.164744, 65.84978), '63.203882,75.439467', 'nan', 'nan', (50.79968, 40.624943), (55.074113, 61.327796), (58.054203, 63.664233), 'nan', (55.274857, 61.401458), (55.708577, 37.806156), (55.086425, 73.233007), (57.141984, 65.598692), (57.148424, 65.558933), (61.004008, 69.03756), (56.112312, 69.501171), (59.932703, 30.29818), (57.569672, 39.805213), (59.961219, 30.368617), (53.213526, 34.182738), (64.751575, 77.354073), (46.446839, 41.612749), (55.858544, 37.685889), (55.166248, 61.410396), (57.158052, 65.509759), (57.569363, 39.935801), (71.179568, 66.8644), (57.018884, 40.990046), (55.643896, 37.796939)]\n",
      "results=[(61.166542, 75.967595), '68.486525,73.557826', (59.942462, 30.370567), (55.654198, 37.55602), 'nan', '66.024437,57.547413', 'nan', (55.074113, 61.327796), (51.764927, 55.10292), (63.790542, 74.541717), (56.728178, 61.359434), (64.480468, 40.731196), 'nan', (59.598925, 60.544088), (56.558869, 84.922927), (61.037321, 76.083226), (57.164744, 65.84978), '63.203882,75.439467', 'nan', 'nan', (50.79968, 40.624943), (55.074113, 61.327796), (58.054203, 63.664233), 'nan', (55.274857, 61.401458), (55.708577, 37.806156), (55.086425, 73.233007), (57.141984, 65.598692), (57.148424, 65.558933), (61.004008, 69.03756), (56.112312, 69.501171), (59.932703, 30.29818), (57.569672, 39.805213), (59.961219, 30.368617), (53.213526, 34.182738), (64.751575, 77.354073), (46.446839, 41.612749), (55.858544, 37.685889), (55.166248, 61.410396), (57.158052, 65.509759), (57.569363, 39.935801), (71.179568, 66.8644), (57.018884, 40.990046), (55.643896, 37.796939), (56.052572, 92.922937)]\n",
      "results=[(61.166542, 75.967595), '68.486525,73.557826', (59.942462, 30.370567), (55.654198, 37.55602), 'nan', '66.024437,57.547413', 'nan', (55.074113, 61.327796), (51.764927, 55.10292), (63.790542, 74.541717), (56.728178, 61.359434), (64.480468, 40.731196), 'nan', (59.598925, 60.544088), (56.558869, 84.922927), (61.037321, 76.083226), (57.164744, 65.84978), '63.203882,75.439467', 'nan', 'nan', (50.79968, 40.624943), (55.074113, 61.327796), (58.054203, 63.664233), 'nan', (55.274857, 61.401458), (55.708577, 37.806156), (55.086425, 73.233007), (57.141984, 65.598692), (57.148424, 65.558933), (61.004008, 69.03756), (56.112312, 69.501171), (59.932703, 30.29818), (57.569672, 39.805213), (59.961219, 30.368617), (53.213526, 34.182738), (64.751575, 77.354073), (46.446839, 41.612749), (55.858544, 37.685889), (55.166248, 61.410396), (57.158052, 65.509759), (57.569363, 39.935801), (71.179568, 66.8644), (57.018884, 40.990046), (55.643896, 37.796939), (56.052572, 92.922937), (64.480468, 40.731196)]\n",
      "results=[(61.166542, 75.967595), '68.486525,73.557826', (59.942462, 30.370567), (55.654198, 37.55602), 'nan', '66.024437,57.547413', 'nan', (55.074113, 61.327796), (51.764927, 55.10292), (63.790542, 74.541717), (56.728178, 61.359434), (64.480468, 40.731196), 'nan', (59.598925, 60.544088), (56.558869, 84.922927), (61.037321, 76.083226), (57.164744, 65.84978), '63.203882,75.439467', 'nan', 'nan', (50.79968, 40.624943), (55.074113, 61.327796), (58.054203, 63.664233), 'nan', (55.274857, 61.401458), (55.708577, 37.806156), (55.086425, 73.233007), (57.141984, 65.598692), (57.148424, 65.558933), (61.004008, 69.03756), (56.112312, 69.501171), (59.932703, 30.29818), (57.569672, 39.805213), (59.961219, 30.368617), (53.213526, 34.182738), (64.751575, 77.354073), (46.446839, 41.612749), (55.858544, 37.685889), (55.166248, 61.410396), (57.158052, 65.509759), (57.569363, 39.935801), (71.179568, 66.8644), (57.018884, 40.990046), (55.643896, 37.796939), (56.052572, 92.922937), (64.480468, 40.731196), (57.926741, 59.990923)]\n",
      "results=[(61.166542, 75.967595), '68.486525,73.557826', (59.942462, 30.370567), (55.654198, 37.55602), 'nan', '66.024437,57.547413', 'nan', (55.074113, 61.327796), (51.764927, 55.10292), (63.790542, 74.541717), (56.728178, 61.359434), (64.480468, 40.731196), 'nan', (59.598925, 60.544088), (56.558869, 84.922927), (61.037321, 76.083226), (57.164744, 65.84978), '63.203882,75.439467', 'nan', 'nan', (50.79968, 40.624943), (55.074113, 61.327796), (58.054203, 63.664233), 'nan', (55.274857, 61.401458), (55.708577, 37.806156), (55.086425, 73.233007), (57.141984, 65.598692), (57.148424, 65.558933), (61.004008, 69.03756), (56.112312, 69.501171), (59.932703, 30.29818), (57.569672, 39.805213), (59.961219, 30.368617), (53.213526, 34.182738), (64.751575, 77.354073), (46.446839, 41.612749), (55.858544, 37.685889), (55.166248, 61.410396), (57.158052, 65.509759), (57.569363, 39.935801), (71.179568, 66.8644), (57.018884, 40.990046), (55.643896, 37.796939), (56.052572, 92.922937), (64.480468, 40.731196), (57.926741, 59.990923), (59.92878, 30.440411)]\n",
      "results=[(61.166542, 75.967595), '68.486525,73.557826', (59.942462, 30.370567), (55.654198, 37.55602), 'nan', '66.024437,57.547413', 'nan', (55.074113, 61.327796), (51.764927, 55.10292), (63.790542, 74.541717), (56.728178, 61.359434), (64.480468, 40.731196), 'nan', (59.598925, 60.544088), (56.558869, 84.922927), (61.037321, 76.083226), (57.164744, 65.84978), '63.203882,75.439467', 'nan', 'nan', (50.79968, 40.624943), (55.074113, 61.327796), (58.054203, 63.664233), 'nan', (55.274857, 61.401458), (55.708577, 37.806156), (55.086425, 73.233007), (57.141984, 65.598692), (57.148424, 65.558933), (61.004008, 69.03756), (56.112312, 69.501171), (59.932703, 30.29818), (57.569672, 39.805213), (59.961219, 30.368617), (53.213526, 34.182738), (64.751575, 77.354073), (46.446839, 41.612749), (55.858544, 37.685889), (55.166248, 61.410396), (57.158052, 65.509759), (57.569363, 39.935801), (71.179568, 66.8644), (57.018884, 40.990046), (55.643896, 37.796939), (56.052572, 92.922937), (64.480468, 40.731196), (57.926741, 59.990923), (59.92878, 30.440411), (58.519737, 68.721865)]\n",
      "results=[(61.166542, 75.967595), '68.486525,73.557826', (59.942462, 30.370567), (55.654198, 37.55602), 'nan', '66.024437,57.547413', 'nan', (55.074113, 61.327796), (51.764927, 55.10292), (63.790542, 74.541717), (56.728178, 61.359434), (64.480468, 40.731196), 'nan', (59.598925, 60.544088), (56.558869, 84.922927), (61.037321, 76.083226), (57.164744, 65.84978), '63.203882,75.439467', 'nan', 'nan', (50.79968, 40.624943), (55.074113, 61.327796), (58.054203, 63.664233), 'nan', (55.274857, 61.401458), (55.708577, 37.806156), (55.086425, 73.233007), (57.141984, 65.598692), (57.148424, 65.558933), (61.004008, 69.03756), (56.112312, 69.501171), (59.932703, 30.29818), (57.569672, 39.805213), (59.961219, 30.368617), (53.213526, 34.182738), (64.751575, 77.354073), (46.446839, 41.612749), (55.858544, 37.685889), (55.166248, 61.410396), (57.158052, 65.509759), (57.569363, 39.935801), (71.179568, 66.8644), (57.018884, 40.990046), (55.643896, 37.796939), (56.052572, 92.922937), (64.480468, 40.731196), (57.926741, 59.990923), (59.92878, 30.440411), (58.519737, 68.721865), (61.276375, 73.44456)]\n",
      "Parsing v2 and nan\n",
      "Не кликнулось, addr='430018, респ. Мордовия, г. Саранск, Аэропорт '\n",
      "results=[(61.166542, 75.967595), '68.486525,73.557826', (59.942462, 30.370567), (55.654198, 37.55602), 'nan', '66.024437,57.547413', 'nan', (55.074113, 61.327796), (51.764927, 55.10292), (63.790542, 74.541717), (56.728178, 61.359434), (64.480468, 40.731196), 'nan', (59.598925, 60.544088), (56.558869, 84.922927), (61.037321, 76.083226), (57.164744, 65.84978), '63.203882,75.439467', 'nan', 'nan', (50.79968, 40.624943), (55.074113, 61.327796), (58.054203, 63.664233), 'nan', (55.274857, 61.401458), (55.708577, 37.806156), (55.086425, 73.233007), (57.141984, 65.598692), (57.148424, 65.558933), (61.004008, 69.03756), (56.112312, 69.501171), (59.932703, 30.29818), (57.569672, 39.805213), (59.961219, 30.368617), (53.213526, 34.182738), (64.751575, 77.354073), (46.446839, 41.612749), (55.858544, 37.685889), (55.166248, 61.410396), (57.158052, 65.509759), (57.569363, 39.935801), (71.179568, 66.8644), (57.018884, 40.990046), (55.643896, 37.796939), (56.052572, 92.922937), (64.480468, 40.731196), (57.926741, 59.990923), (59.92878, 30.440411), (58.519737, 68.721865), (61.276375, 73.44456), 'nan']\n",
      "results=[(61.166542, 75.967595), '68.486525,73.557826', (59.942462, 30.370567), (55.654198, 37.55602), 'nan', '66.024437,57.547413', 'nan', (55.074113, 61.327796), (51.764927, 55.10292), (63.790542, 74.541717), (56.728178, 61.359434), (64.480468, 40.731196), 'nan', (59.598925, 60.544088), (56.558869, 84.922927), (61.037321, 76.083226), (57.164744, 65.84978), '63.203882,75.439467', 'nan', 'nan', (50.79968, 40.624943), (55.074113, 61.327796), (58.054203, 63.664233), 'nan', (55.274857, 61.401458), (55.708577, 37.806156), (55.086425, 73.233007), (57.141984, 65.598692), (57.148424, 65.558933), (61.004008, 69.03756), (56.112312, 69.501171), (59.932703, 30.29818), (57.569672, 39.805213), (59.961219, 30.368617), (53.213526, 34.182738), (64.751575, 77.354073), (46.446839, 41.612749), (55.858544, 37.685889), (55.166248, 61.410396), (57.158052, 65.509759), (57.569363, 39.935801), (71.179568, 66.8644), (57.018884, 40.990046), (55.643896, 37.796939), (56.052572, 92.922937), (64.480468, 40.731196), (57.926741, 59.990923), (59.92878, 30.440411), (58.519737, 68.721865), (61.276375, 73.44456), 'nan', (65.930333, 78.177415)]\n",
      "results=[(61.166542, 75.967595), '68.486525,73.557826', (59.942462, 30.370567), (55.654198, 37.55602), 'nan', '66.024437,57.547413', 'nan', (55.074113, 61.327796), (51.764927, 55.10292), (63.790542, 74.541717), (56.728178, 61.359434), (64.480468, 40.731196), 'nan', (59.598925, 60.544088), (56.558869, 84.922927), (61.037321, 76.083226), (57.164744, 65.84978), '63.203882,75.439467', 'nan', 'nan', (50.79968, 40.624943), (55.074113, 61.327796), (58.054203, 63.664233), 'nan', (55.274857, 61.401458), (55.708577, 37.806156), (55.086425, 73.233007), (57.141984, 65.598692), (57.148424, 65.558933), (61.004008, 69.03756), (56.112312, 69.501171), (59.932703, 30.29818), (57.569672, 39.805213), (59.961219, 30.368617), (53.213526, 34.182738), (64.751575, 77.354073), (46.446839, 41.612749), (55.858544, 37.685889), (55.166248, 61.410396), (57.158052, 65.509759), (57.569363, 39.935801), (71.179568, 66.8644), (57.018884, 40.990046), (55.643896, 37.796939), (56.052572, 92.922937), (64.480468, 40.731196), (57.926741, 59.990923), (59.92878, 30.440411), (58.519737, 68.721865), (61.276375, 73.44456), 'nan', (65.930333, 78.177415), (67.47286, 78.701384)]\n",
      "Parsing v2 and nan\n",
      "go back\n",
      "results=[(61.166542, 75.967595), '68.486525,73.557826', (59.942462, 30.370567), (55.654198, 37.55602), 'nan', '66.024437,57.547413', 'nan', (55.074113, 61.327796), (51.764927, 55.10292), (63.790542, 74.541717), (56.728178, 61.359434), (64.480468, 40.731196), 'nan', (59.598925, 60.544088), (56.558869, 84.922927), (61.037321, 76.083226), (57.164744, 65.84978), '63.203882,75.439467', 'nan', 'nan', (50.79968, 40.624943), (55.074113, 61.327796), (58.054203, 63.664233), 'nan', (55.274857, 61.401458), (55.708577, 37.806156), (55.086425, 73.233007), (57.141984, 65.598692), (57.148424, 65.558933), (61.004008, 69.03756), (56.112312, 69.501171), (59.932703, 30.29818), (57.569672, 39.805213), (59.961219, 30.368617), (53.213526, 34.182738), (64.751575, 77.354073), (46.446839, 41.612749), (55.858544, 37.685889), (55.166248, 61.410396), (57.158052, 65.509759), (57.569363, 39.935801), (71.179568, 66.8644), (57.018884, 40.990046), (55.643896, 37.796939), (56.052572, 92.922937), (64.480468, 40.731196), (57.926741, 59.990923), (59.92878, 30.440411), (58.519737, 68.721865), (61.276375, 73.44456), 'nan', (65.930333, 78.177415), (67.47286, 78.701384), '67.474185,78.724820']\n",
      "results=[(61.166542, 75.967595), '68.486525,73.557826', (59.942462, 30.370567), (55.654198, 37.55602), 'nan', '66.024437,57.547413', 'nan', (55.074113, 61.327796), (51.764927, 55.10292), (63.790542, 74.541717), (56.728178, 61.359434), (64.480468, 40.731196), 'nan', (59.598925, 60.544088), (56.558869, 84.922927), (61.037321, 76.083226), (57.164744, 65.84978), '63.203882,75.439467', 'nan', 'nan', (50.79968, 40.624943), (55.074113, 61.327796), (58.054203, 63.664233), 'nan', (55.274857, 61.401458), (55.708577, 37.806156), (55.086425, 73.233007), (57.141984, 65.598692), (57.148424, 65.558933), (61.004008, 69.03756), (56.112312, 69.501171), (59.932703, 30.29818), (57.569672, 39.805213), (59.961219, 30.368617), (53.213526, 34.182738), (64.751575, 77.354073), (46.446839, 41.612749), (55.858544, 37.685889), (55.166248, 61.410396), (57.158052, 65.509759), (57.569363, 39.935801), (71.179568, 66.8644), (57.018884, 40.990046), (55.643896, 37.796939), (56.052572, 92.922937), (64.480468, 40.731196), (57.926741, 59.990923), (59.92878, 30.440411), (58.519737, 68.721865), (61.276375, 73.44456), 'nan', (65.930333, 78.177415), (67.47286, 78.701384), '67.474185,78.724820', (59.644145, 30.856798)]\n",
      "results=[(61.166542, 75.967595), '68.486525,73.557826', (59.942462, 30.370567), (55.654198, 37.55602), 'nan', '66.024437,57.547413', 'nan', (55.074113, 61.327796), (51.764927, 55.10292), (63.790542, 74.541717), (56.728178, 61.359434), (64.480468, 40.731196), 'nan', (59.598925, 60.544088), (56.558869, 84.922927), (61.037321, 76.083226), (57.164744, 65.84978), '63.203882,75.439467', 'nan', 'nan', (50.79968, 40.624943), (55.074113, 61.327796), (58.054203, 63.664233), 'nan', (55.274857, 61.401458), (55.708577, 37.806156), (55.086425, 73.233007), (57.141984, 65.598692), (57.148424, 65.558933), (61.004008, 69.03756), (56.112312, 69.501171), (59.932703, 30.29818), (57.569672, 39.805213), (59.961219, 30.368617), (53.213526, 34.182738), (64.751575, 77.354073), (46.446839, 41.612749), (55.858544, 37.685889), (55.166248, 61.410396), (57.158052, 65.509759), (57.569363, 39.935801), (71.179568, 66.8644), (57.018884, 40.990046), (55.643896, 37.796939), (56.052572, 92.922937), (64.480468, 40.731196), (57.926741, 59.990923), (59.92878, 30.440411), (58.519737, 68.721865), (61.276375, 73.44456), 'nan', (65.930333, 78.177415), (67.47286, 78.701384), '67.474185,78.724820', (59.644145, 30.856798), (56.48464, 84.947649)]\n",
      "Parsing v2 and nan\n",
      "results=[(61.166542, 75.967595), '68.486525,73.557826', (59.942462, 30.370567), (55.654198, 37.55602), 'nan', '66.024437,57.547413', 'nan', (55.074113, 61.327796), (51.764927, 55.10292), (63.790542, 74.541717), (56.728178, 61.359434), (64.480468, 40.731196), 'nan', (59.598925, 60.544088), (56.558869, 84.922927), (61.037321, 76.083226), (57.164744, 65.84978), '63.203882,75.439467', 'nan', 'nan', (50.79968, 40.624943), (55.074113, 61.327796), (58.054203, 63.664233), 'nan', (55.274857, 61.401458), (55.708577, 37.806156), (55.086425, 73.233007), (57.141984, 65.598692), (57.148424, 65.558933), (61.004008, 69.03756), (56.112312, 69.501171), (59.932703, 30.29818), (57.569672, 39.805213), (59.961219, 30.368617), (53.213526, 34.182738), (64.751575, 77.354073), (46.446839, 41.612749), (55.858544, 37.685889), (55.166248, 61.410396), (57.158052, 65.509759), (57.569363, 39.935801), (71.179568, 66.8644), (57.018884, 40.990046), (55.643896, 37.796939), (56.052572, 92.922937), (64.480468, 40.731196), (57.926741, 59.990923), (59.92878, 30.440411), (58.519737, 68.721865), (61.276375, 73.44456), 'nan', (65.930333, 78.177415), (67.47286, 78.701384), '67.474185,78.724820', (59.644145, 30.856798), (56.48464, 84.947649)]\n",
      "Parsing v2 and nan\n",
      "results=[(61.166542, 75.967595), '68.486525,73.557826', (59.942462, 30.370567), (55.654198, 37.55602), 'nan', '66.024437,57.547413', 'nan', (55.074113, 61.327796), (51.764927, 55.10292), (63.790542, 74.541717), (56.728178, 61.359434), (64.480468, 40.731196), 'nan', (59.598925, 60.544088), (56.558869, 84.922927), (61.037321, 76.083226), (57.164744, 65.84978), '63.203882,75.439467', 'nan', 'nan', (50.79968, 40.624943), (55.074113, 61.327796), (58.054203, 63.664233), 'nan', (55.274857, 61.401458), (55.708577, 37.806156), (55.086425, 73.233007), (57.141984, 65.598692), (57.148424, 65.558933), (61.004008, 69.03756), (56.112312, 69.501171), (59.932703, 30.29818), (57.569672, 39.805213), (59.961219, 30.368617), (53.213526, 34.182738), (64.751575, 77.354073), (46.446839, 41.612749), (55.858544, 37.685889), (55.166248, 61.410396), (57.158052, 65.509759), (57.569363, 39.935801), (71.179568, 66.8644), (57.018884, 40.990046), (55.643896, 37.796939), (56.052572, 92.922937), (64.480468, 40.731196), (57.926741, 59.990923), (59.92878, 30.440411), (58.519737, 68.721865), (61.276375, 73.44456), 'nan', (65.930333, 78.177415), (67.47286, 78.701384), '67.474185,78.724820', (59.644145, 30.856798), (56.48464, 84.947649)]\n",
      "Parsing v2 and nan\n",
      "Не кликнулось, addr='620107, г. Екатеринбург, ул. Машинистов, д. 10, пом. 17 '\n",
      "results=[(61.166542, 75.967595), '68.486525,73.557826', (59.942462, 30.370567), (55.654198, 37.55602), 'nan', '66.024437,57.547413', 'nan', (55.074113, 61.327796), (51.764927, 55.10292), (63.790542, 74.541717), (56.728178, 61.359434), (64.480468, 40.731196), 'nan', (59.598925, 60.544088), (56.558869, 84.922927), (61.037321, 76.083226), (57.164744, 65.84978), '63.203882,75.439467', 'nan', 'nan', (50.79968, 40.624943), (55.074113, 61.327796), (58.054203, 63.664233), 'nan', (55.274857, 61.401458), (55.708577, 37.806156), (55.086425, 73.233007), (57.141984, 65.598692), (57.148424, 65.558933), (61.004008, 69.03756), (56.112312, 69.501171), (59.932703, 30.29818), (57.569672, 39.805213), (59.961219, 30.368617), (53.213526, 34.182738), (64.751575, 77.354073), (46.446839, 41.612749), (55.858544, 37.685889), (55.166248, 61.410396), (57.158052, 65.509759), (57.569363, 39.935801), (71.179568, 66.8644), (57.018884, 40.990046), (55.643896, 37.796939), (56.052572, 92.922937), (64.480468, 40.731196), (57.926741, 59.990923), (59.92878, 30.440411), (58.519737, 68.721865), (61.276375, 73.44456), 'nan', (65.930333, 78.177415), (67.47286, 78.701384), '67.474185,78.724820', (59.644145, 30.856798), (56.48464, 84.947649), 'nan']\n",
      "results=[(61.166542, 75.967595), '68.486525,73.557826', (59.942462, 30.370567), (55.654198, 37.55602), 'nan', '66.024437,57.547413', 'nan', (55.074113, 61.327796), (51.764927, 55.10292), (63.790542, 74.541717), (56.728178, 61.359434), (64.480468, 40.731196), 'nan', (59.598925, 60.544088), (56.558869, 84.922927), (61.037321, 76.083226), (57.164744, 65.84978), '63.203882,75.439467', 'nan', 'nan', (50.79968, 40.624943), (55.074113, 61.327796), (58.054203, 63.664233), 'nan', (55.274857, 61.401458), (55.708577, 37.806156), (55.086425, 73.233007), (57.141984, 65.598692), (57.148424, 65.558933), (61.004008, 69.03756), (56.112312, 69.501171), (59.932703, 30.29818), (57.569672, 39.805213), (59.961219, 30.368617), (53.213526, 34.182738), (64.751575, 77.354073), (46.446839, 41.612749), (55.858544, 37.685889), (55.166248, 61.410396), (57.158052, 65.509759), (57.569363, 39.935801), (71.179568, 66.8644), (57.018884, 40.990046), (55.643896, 37.796939), (56.052572, 92.922937), (64.480468, 40.731196), (57.926741, 59.990923), (59.92878, 30.440411), (58.519737, 68.721865), (61.276375, 73.44456), 'nan', (65.930333, 78.177415), (67.47286, 78.701384), '67.474185,78.724820', (59.644145, 30.856798), (56.48464, 84.947649), 'nan', (62.549286, 65.648198)]\n",
      "results=[(61.166542, 75.967595), '68.486525,73.557826', (59.942462, 30.370567), (55.654198, 37.55602), 'nan', '66.024437,57.547413', 'nan', (55.074113, 61.327796), (51.764927, 55.10292), (63.790542, 74.541717), (56.728178, 61.359434), (64.480468, 40.731196), 'nan', (59.598925, 60.544088), (56.558869, 84.922927), (61.037321, 76.083226), (57.164744, 65.84978), '63.203882,75.439467', 'nan', 'nan', (50.79968, 40.624943), (55.074113, 61.327796), (58.054203, 63.664233), 'nan', (55.274857, 61.401458), (55.708577, 37.806156), (55.086425, 73.233007), (57.141984, 65.598692), (57.148424, 65.558933), (61.004008, 69.03756), (56.112312, 69.501171), (59.932703, 30.29818), (57.569672, 39.805213), (59.961219, 30.368617), (53.213526, 34.182738), (64.751575, 77.354073), (46.446839, 41.612749), (55.858544, 37.685889), (55.166248, 61.410396), (57.158052, 65.509759), (57.569363, 39.935801), (71.179568, 66.8644), (57.018884, 40.990046), (55.643896, 37.796939), (56.052572, 92.922937), (64.480468, 40.731196), (57.926741, 59.990923), (59.92878, 30.440411), (58.519737, 68.721865), (61.276375, 73.44456), 'nan', (65.930333, 78.177415), (67.47286, 78.701384), '67.474185,78.724820', (59.644145, 30.856798), (56.48464, 84.947649), 'nan', (62.549286, 65.648198), (61.00318, 69.018902)]\n",
      "Parsing v2 and nan\n",
      "go back\n",
      "results=[(61.166542, 75.967595), '68.486525,73.557826', (59.942462, 30.370567), (55.654198, 37.55602), 'nan', '66.024437,57.547413', 'nan', (55.074113, 61.327796), (51.764927, 55.10292), (63.790542, 74.541717), (56.728178, 61.359434), (64.480468, 40.731196), 'nan', (59.598925, 60.544088), (56.558869, 84.922927), (61.037321, 76.083226), (57.164744, 65.84978), '63.203882,75.439467', 'nan', 'nan', (50.79968, 40.624943), (55.074113, 61.327796), (58.054203, 63.664233), 'nan', (55.274857, 61.401458), (55.708577, 37.806156), (55.086425, 73.233007), (57.141984, 65.598692), (57.148424, 65.558933), (61.004008, 69.03756), (56.112312, 69.501171), (59.932703, 30.29818), (57.569672, 39.805213), (59.961219, 30.368617), (53.213526, 34.182738), (64.751575, 77.354073), (46.446839, 41.612749), (55.858544, 37.685889), (55.166248, 61.410396), (57.158052, 65.509759), (57.569363, 39.935801), (71.179568, 66.8644), (57.018884, 40.990046), (55.643896, 37.796939), (56.052572, 92.922937), (64.480468, 40.731196), (57.926741, 59.990923), (59.92878, 30.440411), (58.519737, 68.721865), (61.276375, 73.44456), 'nan', (65.930333, 78.177415), (67.47286, 78.701384), '67.474185,78.724820', (59.644145, 30.856798), (56.48464, 84.947649), 'nan', (62.549286, 65.648198), (61.00318, 69.018902), '67.470746,78.712259']\n",
      "results=[(61.166542, 75.967595), '68.486525,73.557826', (59.942462, 30.370567), (55.654198, 37.55602), 'nan', '66.024437,57.547413', 'nan', (55.074113, 61.327796), (51.764927, 55.10292), (63.790542, 74.541717), (56.728178, 61.359434), (64.480468, 40.731196), 'nan', (59.598925, 60.544088), (56.558869, 84.922927), (61.037321, 76.083226), (57.164744, 65.84978), '63.203882,75.439467', 'nan', 'nan', (50.79968, 40.624943), (55.074113, 61.327796), (58.054203, 63.664233), 'nan', (55.274857, 61.401458), (55.708577, 37.806156), (55.086425, 73.233007), (57.141984, 65.598692), (57.148424, 65.558933), (61.004008, 69.03756), (56.112312, 69.501171), (59.932703, 30.29818), (57.569672, 39.805213), (59.961219, 30.368617), (53.213526, 34.182738), (64.751575, 77.354073), (46.446839, 41.612749), (55.858544, 37.685889), (55.166248, 61.410396), (57.158052, 65.509759), (57.569363, 39.935801), (71.179568, 66.8644), (57.018884, 40.990046), (55.643896, 37.796939), (56.052572, 92.922937), (64.480468, 40.731196), (57.926741, 59.990923), (59.92878, 30.440411), (58.519737, 68.721865), (61.276375, 73.44456), 'nan', (65.930333, 78.177415), (67.47286, 78.701384), '67.474185,78.724820', (59.644145, 30.856798), (56.48464, 84.947649), 'nan', (62.549286, 65.648198), (61.00318, 69.018902), '67.470746,78.712259', (55.027325, 82.924768)]\n",
      "results=[(61.166542, 75.967595), '68.486525,73.557826', (59.942462, 30.370567), (55.654198, 37.55602), 'nan', '66.024437,57.547413', 'nan', (55.074113, 61.327796), (51.764927, 55.10292), (63.790542, 74.541717), (56.728178, 61.359434), (64.480468, 40.731196), 'nan', (59.598925, 60.544088), (56.558869, 84.922927), (61.037321, 76.083226), (57.164744, 65.84978), '63.203882,75.439467', 'nan', 'nan', (50.79968, 40.624943), (55.074113, 61.327796), (58.054203, 63.664233), 'nan', (55.274857, 61.401458), (55.708577, 37.806156), (55.086425, 73.233007), (57.141984, 65.598692), (57.148424, 65.558933), (61.004008, 69.03756), (56.112312, 69.501171), (59.932703, 30.29818), (57.569672, 39.805213), (59.961219, 30.368617), (53.213526, 34.182738), (64.751575, 77.354073), (46.446839, 41.612749), (55.858544, 37.685889), (55.166248, 61.410396), (57.158052, 65.509759), (57.569363, 39.935801), (71.179568, 66.8644), (57.018884, 40.990046), (55.643896, 37.796939), (56.052572, 92.922937), (64.480468, 40.731196), (57.926741, 59.990923), (59.92878, 30.440411), (58.519737, 68.721865), (61.276375, 73.44456), 'nan', (65.930333, 78.177415), (67.47286, 78.701384), '67.474185,78.724820', (59.644145, 30.856798), (56.48464, 84.947649), 'nan', (62.549286, 65.648198), (61.00318, 69.018902), '67.470746,78.712259', (55.027325, 82.924768), (56.70335, 60.747843)]\n",
      "results=[(61.166542, 75.967595), '68.486525,73.557826', (59.942462, 30.370567), (55.654198, 37.55602), 'nan', '66.024437,57.547413', 'nan', (55.074113, 61.327796), (51.764927, 55.10292), (63.790542, 74.541717), (56.728178, 61.359434), (64.480468, 40.731196), 'nan', (59.598925, 60.544088), (56.558869, 84.922927), (61.037321, 76.083226), (57.164744, 65.84978), '63.203882,75.439467', 'nan', 'nan', (50.79968, 40.624943), (55.074113, 61.327796), (58.054203, 63.664233), 'nan', (55.274857, 61.401458), (55.708577, 37.806156), (55.086425, 73.233007), (57.141984, 65.598692), (57.148424, 65.558933), (61.004008, 69.03756), (56.112312, 69.501171), (59.932703, 30.29818), (57.569672, 39.805213), (59.961219, 30.368617), (53.213526, 34.182738), (64.751575, 77.354073), (46.446839, 41.612749), (55.858544, 37.685889), (55.166248, 61.410396), (57.158052, 65.509759), (57.569363, 39.935801), (71.179568, 66.8644), (57.018884, 40.990046), (55.643896, 37.796939), (56.052572, 92.922937), (64.480468, 40.731196), (57.926741, 59.990923), (59.92878, 30.440411), (58.519737, 68.721865), (61.276375, 73.44456), 'nan', (65.930333, 78.177415), (67.47286, 78.701384), '67.474185,78.724820', (59.644145, 30.856798), (56.48464, 84.947649), 'nan', (62.549286, 65.648198), (61.00318, 69.018902), '67.470746,78.712259', (55.027325, 82.924768), (56.70335, 60.747843), (55.024585, 82.923583)]\n",
      "results=[(61.166542, 75.967595), '68.486525,73.557826', (59.942462, 30.370567), (55.654198, 37.55602), 'nan', '66.024437,57.547413', 'nan', (55.074113, 61.327796), (51.764927, 55.10292), (63.790542, 74.541717), (56.728178, 61.359434), (64.480468, 40.731196), 'nan', (59.598925, 60.544088), (56.558869, 84.922927), (61.037321, 76.083226), (57.164744, 65.84978), '63.203882,75.439467', 'nan', 'nan', (50.79968, 40.624943), (55.074113, 61.327796), (58.054203, 63.664233), 'nan', (55.274857, 61.401458), (55.708577, 37.806156), (55.086425, 73.233007), (57.141984, 65.598692), (57.148424, 65.558933), (61.004008, 69.03756), (56.112312, 69.501171), (59.932703, 30.29818), (57.569672, 39.805213), (59.961219, 30.368617), (53.213526, 34.182738), (64.751575, 77.354073), (46.446839, 41.612749), (55.858544, 37.685889), (55.166248, 61.410396), (57.158052, 65.509759), (57.569363, 39.935801), (71.179568, 66.8644), (57.018884, 40.990046), (55.643896, 37.796939), (56.052572, 92.922937), (64.480468, 40.731196), (57.926741, 59.990923), (59.92878, 30.440411), (58.519737, 68.721865), (61.276375, 73.44456), 'nan', (65.930333, 78.177415), (67.47286, 78.701384), '67.474185,78.724820', (59.644145, 30.856798), (56.48464, 84.947649), 'nan', (62.549286, 65.648198), (61.00318, 69.018902), '67.470746,78.712259', (55.027325, 82.924768), (56.70335, 60.747843), (55.024585, 82.923583), (59.840216, 30.306256)]\n",
      "results=[(61.166542, 75.967595), '68.486525,73.557826', (59.942462, 30.370567), (55.654198, 37.55602), 'nan', '66.024437,57.547413', 'nan', (55.074113, 61.327796), (51.764927, 55.10292), (63.790542, 74.541717), (56.728178, 61.359434), (64.480468, 40.731196), 'nan', (59.598925, 60.544088), (56.558869, 84.922927), (61.037321, 76.083226), (57.164744, 65.84978), '63.203882,75.439467', 'nan', 'nan', (50.79968, 40.624943), (55.074113, 61.327796), (58.054203, 63.664233), 'nan', (55.274857, 61.401458), (55.708577, 37.806156), (55.086425, 73.233007), (57.141984, 65.598692), (57.148424, 65.558933), (61.004008, 69.03756), (56.112312, 69.501171), (59.932703, 30.29818), (57.569672, 39.805213), (59.961219, 30.368617), (53.213526, 34.182738), (64.751575, 77.354073), (46.446839, 41.612749), (55.858544, 37.685889), (55.166248, 61.410396), (57.158052, 65.509759), (57.569363, 39.935801), (71.179568, 66.8644), (57.018884, 40.990046), (55.643896, 37.796939), (56.052572, 92.922937), (64.480468, 40.731196), (57.926741, 59.990923), (59.92878, 30.440411), (58.519737, 68.721865), (61.276375, 73.44456), 'nan', (65.930333, 78.177415), (67.47286, 78.701384), '67.474185,78.724820', (59.644145, 30.856798), (56.48464, 84.947649), 'nan', (62.549286, 65.648198), (61.00318, 69.018902), '67.470746,78.712259', (55.027325, 82.924768), (56.70335, 60.747843), (55.024585, 82.923583), (59.840216, 30.306256), (57.057866, 63.711044)]\n",
      "results=[(61.166542, 75.967595), '68.486525,73.557826', (59.942462, 30.370567), (55.654198, 37.55602), 'nan', '66.024437,57.547413', 'nan', (55.074113, 61.327796), (51.764927, 55.10292), (63.790542, 74.541717), (56.728178, 61.359434), (64.480468, 40.731196), 'nan', (59.598925, 60.544088), (56.558869, 84.922927), (61.037321, 76.083226), (57.164744, 65.84978), '63.203882,75.439467', 'nan', 'nan', (50.79968, 40.624943), (55.074113, 61.327796), (58.054203, 63.664233), 'nan', (55.274857, 61.401458), (55.708577, 37.806156), (55.086425, 73.233007), (57.141984, 65.598692), (57.148424, 65.558933), (61.004008, 69.03756), (56.112312, 69.501171), (59.932703, 30.29818), (57.569672, 39.805213), (59.961219, 30.368617), (53.213526, 34.182738), (64.751575, 77.354073), (46.446839, 41.612749), (55.858544, 37.685889), (55.166248, 61.410396), (57.158052, 65.509759), (57.569363, 39.935801), (71.179568, 66.8644), (57.018884, 40.990046), (55.643896, 37.796939), (56.052572, 92.922937), (64.480468, 40.731196), (57.926741, 59.990923), (59.92878, 30.440411), (58.519737, 68.721865), (61.276375, 73.44456), 'nan', (65.930333, 78.177415), (67.47286, 78.701384), '67.474185,78.724820', (59.644145, 30.856798), (56.48464, 84.947649), 'nan', (62.549286, 65.648198), (61.00318, 69.018902), '67.470746,78.712259', (55.027325, 82.924768), (56.70335, 60.747843), (55.024585, 82.923583), (59.840216, 30.306256), (57.057866, 63.711044), (45.044635, 39.087162)]\n",
      "results=[(61.166542, 75.967595), '68.486525,73.557826', (59.942462, 30.370567), (55.654198, 37.55602), 'nan', '66.024437,57.547413', 'nan', (55.074113, 61.327796), (51.764927, 55.10292), (63.790542, 74.541717), (56.728178, 61.359434), (64.480468, 40.731196), 'nan', (59.598925, 60.544088), (56.558869, 84.922927), (61.037321, 76.083226), (57.164744, 65.84978), '63.203882,75.439467', 'nan', 'nan', (50.79968, 40.624943), (55.074113, 61.327796), (58.054203, 63.664233), 'nan', (55.274857, 61.401458), (55.708577, 37.806156), (55.086425, 73.233007), (57.141984, 65.598692), (57.148424, 65.558933), (61.004008, 69.03756), (56.112312, 69.501171), (59.932703, 30.29818), (57.569672, 39.805213), (59.961219, 30.368617), (53.213526, 34.182738), (64.751575, 77.354073), (46.446839, 41.612749), (55.858544, 37.685889), (55.166248, 61.410396), (57.158052, 65.509759), (57.569363, 39.935801), (71.179568, 66.8644), (57.018884, 40.990046), (55.643896, 37.796939), (56.052572, 92.922937), (64.480468, 40.731196), (57.926741, 59.990923), (59.92878, 30.440411), (58.519737, 68.721865), (61.276375, 73.44456), 'nan', (65.930333, 78.177415), (67.47286, 78.701384), '67.474185,78.724820', (59.644145, 30.856798), (56.48464, 84.947649), 'nan', (62.549286, 65.648198), (61.00318, 69.018902), '67.470746,78.712259', (55.027325, 82.924768), (56.70335, 60.747843), (55.024585, 82.923583), (59.840216, 30.306256), (57.057866, 63.711044), (45.044635, 39.087162), (54.286471, 85.994276)]\n",
      "results=[(61.166542, 75.967595), '68.486525,73.557826', (59.942462, 30.370567), (55.654198, 37.55602), 'nan', '66.024437,57.547413', 'nan', (55.074113, 61.327796), (51.764927, 55.10292), (63.790542, 74.541717), (56.728178, 61.359434), (64.480468, 40.731196), 'nan', (59.598925, 60.544088), (56.558869, 84.922927), (61.037321, 76.083226), (57.164744, 65.84978), '63.203882,75.439467', 'nan', 'nan', (50.79968, 40.624943), (55.074113, 61.327796), (58.054203, 63.664233), 'nan', (55.274857, 61.401458), (55.708577, 37.806156), (55.086425, 73.233007), (57.141984, 65.598692), (57.148424, 65.558933), (61.004008, 69.03756), (56.112312, 69.501171), (59.932703, 30.29818), (57.569672, 39.805213), (59.961219, 30.368617), (53.213526, 34.182738), (64.751575, 77.354073), (46.446839, 41.612749), (55.858544, 37.685889), (55.166248, 61.410396), (57.158052, 65.509759), (57.569363, 39.935801), (71.179568, 66.8644), (57.018884, 40.990046), (55.643896, 37.796939), (56.052572, 92.922937), (64.480468, 40.731196), (57.926741, 59.990923), (59.92878, 30.440411), (58.519737, 68.721865), (61.276375, 73.44456), 'nan', (65.930333, 78.177415), (67.47286, 78.701384), '67.474185,78.724820', (59.644145, 30.856798), (56.48464, 84.947649), 'nan', (62.549286, 65.648198), (61.00318, 69.018902), '67.470746,78.712259', (55.027325, 82.924768), (56.70335, 60.747843), (55.024585, 82.923583), (59.840216, 30.306256), (57.057866, 63.711044), (45.044635, 39.087162), (54.286471, 85.994276), (55.345022, 78.376895)]\n",
      "results=[(61.166542, 75.967595), '68.486525,73.557826', (59.942462, 30.370567), (55.654198, 37.55602), 'nan', '66.024437,57.547413', 'nan', (55.074113, 61.327796), (51.764927, 55.10292), (63.790542, 74.541717), (56.728178, 61.359434), (64.480468, 40.731196), 'nan', (59.598925, 60.544088), (56.558869, 84.922927), (61.037321, 76.083226), (57.164744, 65.84978), '63.203882,75.439467', 'nan', 'nan', (50.79968, 40.624943), (55.074113, 61.327796), (58.054203, 63.664233), 'nan', (55.274857, 61.401458), (55.708577, 37.806156), (55.086425, 73.233007), (57.141984, 65.598692), (57.148424, 65.558933), (61.004008, 69.03756), (56.112312, 69.501171), (59.932703, 30.29818), (57.569672, 39.805213), (59.961219, 30.368617), (53.213526, 34.182738), (64.751575, 77.354073), (46.446839, 41.612749), (55.858544, 37.685889), (55.166248, 61.410396), (57.158052, 65.509759), (57.569363, 39.935801), (71.179568, 66.8644), (57.018884, 40.990046), (55.643896, 37.796939), (56.052572, 92.922937), (64.480468, 40.731196), (57.926741, 59.990923), (59.92878, 30.440411), (58.519737, 68.721865), (61.276375, 73.44456), 'nan', (65.930333, 78.177415), (67.47286, 78.701384), '67.474185,78.724820', (59.644145, 30.856798), (56.48464, 84.947649), 'nan', (62.549286, 65.648198), (61.00318, 69.018902), '67.470746,78.712259', (55.027325, 82.924768), (56.70335, 60.747843), (55.024585, 82.923583), (59.840216, 30.306256), (57.057866, 63.711044), (45.044635, 39.087162), (54.286471, 85.994276), (55.345022, 78.376895), (57.152384, 65.567152)]\n",
      "results=[(61.166542, 75.967595), '68.486525,73.557826', (59.942462, 30.370567), (55.654198, 37.55602), 'nan', '66.024437,57.547413', 'nan', (55.074113, 61.327796), (51.764927, 55.10292), (63.790542, 74.541717), (56.728178, 61.359434), (64.480468, 40.731196), 'nan', (59.598925, 60.544088), (56.558869, 84.922927), (61.037321, 76.083226), (57.164744, 65.84978), '63.203882,75.439467', 'nan', 'nan', (50.79968, 40.624943), (55.074113, 61.327796), (58.054203, 63.664233), 'nan', (55.274857, 61.401458), (55.708577, 37.806156), (55.086425, 73.233007), (57.141984, 65.598692), (57.148424, 65.558933), (61.004008, 69.03756), (56.112312, 69.501171), (59.932703, 30.29818), (57.569672, 39.805213), (59.961219, 30.368617), (53.213526, 34.182738), (64.751575, 77.354073), (46.446839, 41.612749), (55.858544, 37.685889), (55.166248, 61.410396), (57.158052, 65.509759), (57.569363, 39.935801), (71.179568, 66.8644), (57.018884, 40.990046), (55.643896, 37.796939), (56.052572, 92.922937), (64.480468, 40.731196), (57.926741, 59.990923), (59.92878, 30.440411), (58.519737, 68.721865), (61.276375, 73.44456), 'nan', (65.930333, 78.177415), (67.47286, 78.701384), '67.474185,78.724820', (59.644145, 30.856798), (56.48464, 84.947649), 'nan', (62.549286, 65.648198), (61.00318, 69.018902), '67.470746,78.712259', (55.027325, 82.924768), (56.70335, 60.747843), (55.024585, 82.923583), (59.840216, 30.306256), (57.057866, 63.711044), (45.044635, 39.087162), (54.286471, 85.994276), (55.345022, 78.376895), (57.152384, 65.567152), (59.92901, 30.387823)]\n",
      "results=[(61.166542, 75.967595), '68.486525,73.557826', (59.942462, 30.370567), (55.654198, 37.55602), 'nan', '66.024437,57.547413', 'nan', (55.074113, 61.327796), (51.764927, 55.10292), (63.790542, 74.541717), (56.728178, 61.359434), (64.480468, 40.731196), 'nan', (59.598925, 60.544088), (56.558869, 84.922927), (61.037321, 76.083226), (57.164744, 65.84978), '63.203882,75.439467', 'nan', 'nan', (50.79968, 40.624943), (55.074113, 61.327796), (58.054203, 63.664233), 'nan', (55.274857, 61.401458), (55.708577, 37.806156), (55.086425, 73.233007), (57.141984, 65.598692), (57.148424, 65.558933), (61.004008, 69.03756), (56.112312, 69.501171), (59.932703, 30.29818), (57.569672, 39.805213), (59.961219, 30.368617), (53.213526, 34.182738), (64.751575, 77.354073), (46.446839, 41.612749), (55.858544, 37.685889), (55.166248, 61.410396), (57.158052, 65.509759), (57.569363, 39.935801), (71.179568, 66.8644), (57.018884, 40.990046), (55.643896, 37.796939), (56.052572, 92.922937), (64.480468, 40.731196), (57.926741, 59.990923), (59.92878, 30.440411), (58.519737, 68.721865), (61.276375, 73.44456), 'nan', (65.930333, 78.177415), (67.47286, 78.701384), '67.474185,78.724820', (59.644145, 30.856798), (56.48464, 84.947649), 'nan', (62.549286, 65.648198), (61.00318, 69.018902), '67.470746,78.712259', (55.027325, 82.924768), (56.70335, 60.747843), (55.024585, 82.923583), (59.840216, 30.306256), (57.057866, 63.711044), (45.044635, 39.087162), (54.286471, 85.994276), (55.345022, 78.376895), (57.152384, 65.567152), (59.92901, 30.387823), (56.105636, 69.527546)]\n",
      "results=[(61.166542, 75.967595), '68.486525,73.557826', (59.942462, 30.370567), (55.654198, 37.55602), 'nan', '66.024437,57.547413', 'nan', (55.074113, 61.327796), (51.764927, 55.10292), (63.790542, 74.541717), (56.728178, 61.359434), (64.480468, 40.731196), 'nan', (59.598925, 60.544088), (56.558869, 84.922927), (61.037321, 76.083226), (57.164744, 65.84978), '63.203882,75.439467', 'nan', 'nan', (50.79968, 40.624943), (55.074113, 61.327796), (58.054203, 63.664233), 'nan', (55.274857, 61.401458), (55.708577, 37.806156), (55.086425, 73.233007), (57.141984, 65.598692), (57.148424, 65.558933), (61.004008, 69.03756), (56.112312, 69.501171), (59.932703, 30.29818), (57.569672, 39.805213), (59.961219, 30.368617), (53.213526, 34.182738), (64.751575, 77.354073), (46.446839, 41.612749), (55.858544, 37.685889), (55.166248, 61.410396), (57.158052, 65.509759), (57.569363, 39.935801), (71.179568, 66.8644), (57.018884, 40.990046), (55.643896, 37.796939), (56.052572, 92.922937), (64.480468, 40.731196), (57.926741, 59.990923), (59.92878, 30.440411), (58.519737, 68.721865), (61.276375, 73.44456), 'nan', (65.930333, 78.177415), (67.47286, 78.701384), '67.474185,78.724820', (59.644145, 30.856798), (56.48464, 84.947649), 'nan', (62.549286, 65.648198), (61.00318, 69.018902), '67.470746,78.712259', (55.027325, 82.924768), (56.70335, 60.747843), (55.024585, 82.923583), (59.840216, 30.306256), (57.057866, 63.711044), (45.044635, 39.087162), (54.286471, 85.994276), (55.345022, 78.376895), (57.152384, 65.567152), (59.92901, 30.387823), (56.105636, 69.527546), (57.123842, 65.606319)]\n",
      "results=[(61.166542, 75.967595), '68.486525,73.557826', (59.942462, 30.370567), (55.654198, 37.55602), 'nan', '66.024437,57.547413', 'nan', (55.074113, 61.327796), (51.764927, 55.10292), (63.790542, 74.541717), (56.728178, 61.359434), (64.480468, 40.731196), 'nan', (59.598925, 60.544088), (56.558869, 84.922927), (61.037321, 76.083226), (57.164744, 65.84978), '63.203882,75.439467', 'nan', 'nan', (50.79968, 40.624943), (55.074113, 61.327796), (58.054203, 63.664233), 'nan', (55.274857, 61.401458), (55.708577, 37.806156), (55.086425, 73.233007), (57.141984, 65.598692), (57.148424, 65.558933), (61.004008, 69.03756), (56.112312, 69.501171), (59.932703, 30.29818), (57.569672, 39.805213), (59.961219, 30.368617), (53.213526, 34.182738), (64.751575, 77.354073), (46.446839, 41.612749), (55.858544, 37.685889), (55.166248, 61.410396), (57.158052, 65.509759), (57.569363, 39.935801), (71.179568, 66.8644), (57.018884, 40.990046), (55.643896, 37.796939), (56.052572, 92.922937), (64.480468, 40.731196), (57.926741, 59.990923), (59.92878, 30.440411), (58.519737, 68.721865), (61.276375, 73.44456), 'nan', (65.930333, 78.177415), (67.47286, 78.701384), '67.474185,78.724820', (59.644145, 30.856798), (56.48464, 84.947649), 'nan', (62.549286, 65.648198), (61.00318, 69.018902), '67.470746,78.712259', (55.027325, 82.924768), (56.70335, 60.747843), (55.024585, 82.923583), (59.840216, 30.306256), (57.057866, 63.711044), (45.044635, 39.087162), (54.286471, 85.994276), (55.345022, 78.376895), (57.152384, 65.567152), (59.92901, 30.387823), (56.105636, 69.527546), (57.123842, 65.606319), (51.779841, 55.152184)]\n",
      "results=[(61.166542, 75.967595), '68.486525,73.557826', (59.942462, 30.370567), (55.654198, 37.55602), 'nan', '66.024437,57.547413', 'nan', (55.074113, 61.327796), (51.764927, 55.10292), (63.790542, 74.541717), (56.728178, 61.359434), (64.480468, 40.731196), 'nan', (59.598925, 60.544088), (56.558869, 84.922927), (61.037321, 76.083226), (57.164744, 65.84978), '63.203882,75.439467', 'nan', 'nan', (50.79968, 40.624943), (55.074113, 61.327796), (58.054203, 63.664233), 'nan', (55.274857, 61.401458), (55.708577, 37.806156), (55.086425, 73.233007), (57.141984, 65.598692), (57.148424, 65.558933), (61.004008, 69.03756), (56.112312, 69.501171), (59.932703, 30.29818), (57.569672, 39.805213), (59.961219, 30.368617), (53.213526, 34.182738), (64.751575, 77.354073), (46.446839, 41.612749), (55.858544, 37.685889), (55.166248, 61.410396), (57.158052, 65.509759), (57.569363, 39.935801), (71.179568, 66.8644), (57.018884, 40.990046), (55.643896, 37.796939), (56.052572, 92.922937), (64.480468, 40.731196), (57.926741, 59.990923), (59.92878, 30.440411), (58.519737, 68.721865), (61.276375, 73.44456), 'nan', (65.930333, 78.177415), (67.47286, 78.701384), '67.474185,78.724820', (59.644145, 30.856798), (56.48464, 84.947649), 'nan', (62.549286, 65.648198), (61.00318, 69.018902), '67.470746,78.712259', (55.027325, 82.924768), (56.70335, 60.747843), (55.024585, 82.923583), (59.840216, 30.306256), (57.057866, 63.711044), (45.044635, 39.087162), (54.286471, 85.994276), (55.345022, 78.376895), (57.152384, 65.567152), (59.92901, 30.387823), (56.105636, 69.527546), (57.123842, 65.606319), (51.779841, 55.152184), (61.031282, 76.121521)]\n",
      "results=[(61.166542, 75.967595), '68.486525,73.557826', (59.942462, 30.370567), (55.654198, 37.55602), 'nan', '66.024437,57.547413', 'nan', (55.074113, 61.327796), (51.764927, 55.10292), (63.790542, 74.541717), (56.728178, 61.359434), (64.480468, 40.731196), 'nan', (59.598925, 60.544088), (56.558869, 84.922927), (61.037321, 76.083226), (57.164744, 65.84978), '63.203882,75.439467', 'nan', 'nan', (50.79968, 40.624943), (55.074113, 61.327796), (58.054203, 63.664233), 'nan', (55.274857, 61.401458), (55.708577, 37.806156), (55.086425, 73.233007), (57.141984, 65.598692), (57.148424, 65.558933), (61.004008, 69.03756), (56.112312, 69.501171), (59.932703, 30.29818), (57.569672, 39.805213), (59.961219, 30.368617), (53.213526, 34.182738), (64.751575, 77.354073), (46.446839, 41.612749), (55.858544, 37.685889), (55.166248, 61.410396), (57.158052, 65.509759), (57.569363, 39.935801), (71.179568, 66.8644), (57.018884, 40.990046), (55.643896, 37.796939), (56.052572, 92.922937), (64.480468, 40.731196), (57.926741, 59.990923), (59.92878, 30.440411), (58.519737, 68.721865), (61.276375, 73.44456), 'nan', (65.930333, 78.177415), (67.47286, 78.701384), '67.474185,78.724820', (59.644145, 30.856798), (56.48464, 84.947649), 'nan', (62.549286, 65.648198), (61.00318, 69.018902), '67.470746,78.712259', (55.027325, 82.924768), (56.70335, 60.747843), (55.024585, 82.923583), (59.840216, 30.306256), (57.057866, 63.711044), (45.044635, 39.087162), (54.286471, 85.994276), (55.345022, 78.376895), (57.152384, 65.567152), (59.92901, 30.387823), (56.105636, 69.527546), (57.123842, 65.606319), (51.779841, 55.152184), (61.031282, 76.121521), (63.192228, 75.436763)]\n",
      "results=[(61.166542, 75.967595), '68.486525,73.557826', (59.942462, 30.370567), (55.654198, 37.55602), 'nan', '66.024437,57.547413', 'nan', (55.074113, 61.327796), (51.764927, 55.10292), (63.790542, 74.541717), (56.728178, 61.359434), (64.480468, 40.731196), 'nan', (59.598925, 60.544088), (56.558869, 84.922927), (61.037321, 76.083226), (57.164744, 65.84978), '63.203882,75.439467', 'nan', 'nan', (50.79968, 40.624943), (55.074113, 61.327796), (58.054203, 63.664233), 'nan', (55.274857, 61.401458), (55.708577, 37.806156), (55.086425, 73.233007), (57.141984, 65.598692), (57.148424, 65.558933), (61.004008, 69.03756), (56.112312, 69.501171), (59.932703, 30.29818), (57.569672, 39.805213), (59.961219, 30.368617), (53.213526, 34.182738), (64.751575, 77.354073), (46.446839, 41.612749), (55.858544, 37.685889), (55.166248, 61.410396), (57.158052, 65.509759), (57.569363, 39.935801), (71.179568, 66.8644), (57.018884, 40.990046), (55.643896, 37.796939), (56.052572, 92.922937), (64.480468, 40.731196), (57.926741, 59.990923), (59.92878, 30.440411), (58.519737, 68.721865), (61.276375, 73.44456), 'nan', (65.930333, 78.177415), (67.47286, 78.701384), '67.474185,78.724820', (59.644145, 30.856798), (56.48464, 84.947649), 'nan', (62.549286, 65.648198), (61.00318, 69.018902), '67.470746,78.712259', (55.027325, 82.924768), (56.70335, 60.747843), (55.024585, 82.923583), (59.840216, 30.306256), (57.057866, 63.711044), (45.044635, 39.087162), (54.286471, 85.994276), (55.345022, 78.376895), (57.152384, 65.567152), (59.92901, 30.387823), (56.105636, 69.527546), (57.123842, 65.606319), (51.779841, 55.152184), (61.031282, 76.121521), (63.192228, 75.436763), (54.502878, 36.304801)]\n",
      "results=[(61.166542, 75.967595), '68.486525,73.557826', (59.942462, 30.370567), (55.654198, 37.55602), 'nan', '66.024437,57.547413', 'nan', (55.074113, 61.327796), (51.764927, 55.10292), (63.790542, 74.541717), (56.728178, 61.359434), (64.480468, 40.731196), 'nan', (59.598925, 60.544088), (56.558869, 84.922927), (61.037321, 76.083226), (57.164744, 65.84978), '63.203882,75.439467', 'nan', 'nan', (50.79968, 40.624943), (55.074113, 61.327796), (58.054203, 63.664233), 'nan', (55.274857, 61.401458), (55.708577, 37.806156), (55.086425, 73.233007), (57.141984, 65.598692), (57.148424, 65.558933), (61.004008, 69.03756), (56.112312, 69.501171), (59.932703, 30.29818), (57.569672, 39.805213), (59.961219, 30.368617), (53.213526, 34.182738), (64.751575, 77.354073), (46.446839, 41.612749), (55.858544, 37.685889), (55.166248, 61.410396), (57.158052, 65.509759), (57.569363, 39.935801), (71.179568, 66.8644), (57.018884, 40.990046), (55.643896, 37.796939), (56.052572, 92.922937), (64.480468, 40.731196), (57.926741, 59.990923), (59.92878, 30.440411), (58.519737, 68.721865), (61.276375, 73.44456), 'nan', (65.930333, 78.177415), (67.47286, 78.701384), '67.474185,78.724820', (59.644145, 30.856798), (56.48464, 84.947649), 'nan', (62.549286, 65.648198), (61.00318, 69.018902), '67.470746,78.712259', (55.027325, 82.924768), (56.70335, 60.747843), (55.024585, 82.923583), (59.840216, 30.306256), (57.057866, 63.711044), (45.044635, 39.087162), (54.286471, 85.994276), (55.345022, 78.376895), (57.152384, 65.567152), (59.92901, 30.387823), (56.105636, 69.527546), (57.123842, 65.606319), (51.779841, 55.152184), (61.031282, 76.121521), (63.192228, 75.436763), (54.502878, 36.304801), (56.1726, 91.408171)]\n",
      "results=[(61.166542, 75.967595), '68.486525,73.557826', (59.942462, 30.370567), (55.654198, 37.55602), 'nan', '66.024437,57.547413', 'nan', (55.074113, 61.327796), (51.764927, 55.10292), (63.790542, 74.541717), (56.728178, 61.359434), (64.480468, 40.731196), 'nan', (59.598925, 60.544088), (56.558869, 84.922927), (61.037321, 76.083226), (57.164744, 65.84978), '63.203882,75.439467', 'nan', 'nan', (50.79968, 40.624943), (55.074113, 61.327796), (58.054203, 63.664233), 'nan', (55.274857, 61.401458), (55.708577, 37.806156), (55.086425, 73.233007), (57.141984, 65.598692), (57.148424, 65.558933), (61.004008, 69.03756), (56.112312, 69.501171), (59.932703, 30.29818), (57.569672, 39.805213), (59.961219, 30.368617), (53.213526, 34.182738), (64.751575, 77.354073), (46.446839, 41.612749), (55.858544, 37.685889), (55.166248, 61.410396), (57.158052, 65.509759), (57.569363, 39.935801), (71.179568, 66.8644), (57.018884, 40.990046), (55.643896, 37.796939), (56.052572, 92.922937), (64.480468, 40.731196), (57.926741, 59.990923), (59.92878, 30.440411), (58.519737, 68.721865), (61.276375, 73.44456), 'nan', (65.930333, 78.177415), (67.47286, 78.701384), '67.474185,78.724820', (59.644145, 30.856798), (56.48464, 84.947649), 'nan', (62.549286, 65.648198), (61.00318, 69.018902), '67.470746,78.712259', (55.027325, 82.924768), (56.70335, 60.747843), (55.024585, 82.923583), (59.840216, 30.306256), (57.057866, 63.711044), (45.044635, 39.087162), (54.286471, 85.994276), (55.345022, 78.376895), (57.152384, 65.567152), (59.92901, 30.387823), (56.105636, 69.527546), (57.123842, 65.606319), (51.779841, 55.152184), (61.031282, 76.121521), (63.192228, 75.436763), (54.502878, 36.304801), (56.1726, 91.408171), (51.768099, 55.109541)]\n",
      "Parsing v2 and nan\n",
      "go back\n",
      "results=[(61.166542, 75.967595), '68.486525,73.557826', (59.942462, 30.370567), (55.654198, 37.55602), 'nan', '66.024437,57.547413', 'nan', (55.074113, 61.327796), (51.764927, 55.10292), (63.790542, 74.541717), (56.728178, 61.359434), (64.480468, 40.731196), 'nan', (59.598925, 60.544088), (56.558869, 84.922927), (61.037321, 76.083226), (57.164744, 65.84978), '63.203882,75.439467', 'nan', 'nan', (50.79968, 40.624943), (55.074113, 61.327796), (58.054203, 63.664233), 'nan', (55.274857, 61.401458), (55.708577, 37.806156), (55.086425, 73.233007), (57.141984, 65.598692), (57.148424, 65.558933), (61.004008, 69.03756), (56.112312, 69.501171), (59.932703, 30.29818), (57.569672, 39.805213), (59.961219, 30.368617), (53.213526, 34.182738), (64.751575, 77.354073), (46.446839, 41.612749), (55.858544, 37.685889), (55.166248, 61.410396), (57.158052, 65.509759), (57.569363, 39.935801), (71.179568, 66.8644), (57.018884, 40.990046), (55.643896, 37.796939), (56.052572, 92.922937), (64.480468, 40.731196), (57.926741, 59.990923), (59.92878, 30.440411), (58.519737, 68.721865), (61.276375, 73.44456), 'nan', (65.930333, 78.177415), (67.47286, 78.701384), '67.474185,78.724820', (59.644145, 30.856798), (56.48464, 84.947649), 'nan', (62.549286, 65.648198), (61.00318, 69.018902), '67.470746,78.712259', (55.027325, 82.924768), (56.70335, 60.747843), (55.024585, 82.923583), (59.840216, 30.306256), (57.057866, 63.711044), (45.044635, 39.087162), (54.286471, 85.994276), (55.345022, 78.376895), (57.152384, 65.567152), (59.92901, 30.387823), (56.105636, 69.527546), (57.123842, 65.606319), (51.779841, 55.152184), (61.031282, 76.121521), (63.192228, 75.436763), (54.502878, 36.304801), (56.1726, 91.408171), (51.768099, 55.109541), '45.261029,39.013357']\n",
      "results=[(61.166542, 75.967595), '68.486525,73.557826', (59.942462, 30.370567), (55.654198, 37.55602), 'nan', '66.024437,57.547413', 'nan', (55.074113, 61.327796), (51.764927, 55.10292), (63.790542, 74.541717), (56.728178, 61.359434), (64.480468, 40.731196), 'nan', (59.598925, 60.544088), (56.558869, 84.922927), (61.037321, 76.083226), (57.164744, 65.84978), '63.203882,75.439467', 'nan', 'nan', (50.79968, 40.624943), (55.074113, 61.327796), (58.054203, 63.664233), 'nan', (55.274857, 61.401458), (55.708577, 37.806156), (55.086425, 73.233007), (57.141984, 65.598692), (57.148424, 65.558933), (61.004008, 69.03756), (56.112312, 69.501171), (59.932703, 30.29818), (57.569672, 39.805213), (59.961219, 30.368617), (53.213526, 34.182738), (64.751575, 77.354073), (46.446839, 41.612749), (55.858544, 37.685889), (55.166248, 61.410396), (57.158052, 65.509759), (57.569363, 39.935801), (71.179568, 66.8644), (57.018884, 40.990046), (55.643896, 37.796939), (56.052572, 92.922937), (64.480468, 40.731196), (57.926741, 59.990923), (59.92878, 30.440411), (58.519737, 68.721865), (61.276375, 73.44456), 'nan', (65.930333, 78.177415), (67.47286, 78.701384), '67.474185,78.724820', (59.644145, 30.856798), (56.48464, 84.947649), 'nan', (62.549286, 65.648198), (61.00318, 69.018902), '67.470746,78.712259', (55.027325, 82.924768), (56.70335, 60.747843), (55.024585, 82.923583), (59.840216, 30.306256), (57.057866, 63.711044), (45.044635, 39.087162), (54.286471, 85.994276), (55.345022, 78.376895), (57.152384, 65.567152), (59.92901, 30.387823), (56.105636, 69.527546), (57.123842, 65.606319), (51.779841, 55.152184), (61.031282, 76.121521), (63.192228, 75.436763), (54.502878, 36.304801), (56.1726, 91.408171), (51.768099, 55.109541), '45.261029,39.013357', (54.989936, 73.377941)]\n",
      "results=[(61.166542, 75.967595), '68.486525,73.557826', (59.942462, 30.370567), (55.654198, 37.55602), 'nan', '66.024437,57.547413', 'nan', (55.074113, 61.327796), (51.764927, 55.10292), (63.790542, 74.541717), (56.728178, 61.359434), (64.480468, 40.731196), 'nan', (59.598925, 60.544088), (56.558869, 84.922927), (61.037321, 76.083226), (57.164744, 65.84978), '63.203882,75.439467', 'nan', 'nan', (50.79968, 40.624943), (55.074113, 61.327796), (58.054203, 63.664233), 'nan', (55.274857, 61.401458), (55.708577, 37.806156), (55.086425, 73.233007), (57.141984, 65.598692), (57.148424, 65.558933), (61.004008, 69.03756), (56.112312, 69.501171), (59.932703, 30.29818), (57.569672, 39.805213), (59.961219, 30.368617), (53.213526, 34.182738), (64.751575, 77.354073), (46.446839, 41.612749), (55.858544, 37.685889), (55.166248, 61.410396), (57.158052, 65.509759), (57.569363, 39.935801), (71.179568, 66.8644), (57.018884, 40.990046), (55.643896, 37.796939), (56.052572, 92.922937), (64.480468, 40.731196), (57.926741, 59.990923), (59.92878, 30.440411), (58.519737, 68.721865), (61.276375, 73.44456), 'nan', (65.930333, 78.177415), (67.47286, 78.701384), '67.474185,78.724820', (59.644145, 30.856798), (56.48464, 84.947649), 'nan', (62.549286, 65.648198), (61.00318, 69.018902), '67.470746,78.712259', (55.027325, 82.924768), (56.70335, 60.747843), (55.024585, 82.923583), (59.840216, 30.306256), (57.057866, 63.711044), (45.044635, 39.087162), (54.286471, 85.994276), (55.345022, 78.376895), (57.152384, 65.567152), (59.92901, 30.387823), (56.105636, 69.527546), (57.123842, 65.606319), (51.779841, 55.152184), (61.031282, 76.121521), (63.192228, 75.436763), (54.502878, 36.304801), (56.1726, 91.408171), (51.768099, 55.109541), '45.261029,39.013357', (54.989936, 73.377941), (57.933465, 59.997355)]\n",
      "results=[(61.166542, 75.967595), '68.486525,73.557826', (59.942462, 30.370567), (55.654198, 37.55602), 'nan', '66.024437,57.547413', 'nan', (55.074113, 61.327796), (51.764927, 55.10292), (63.790542, 74.541717), (56.728178, 61.359434), (64.480468, 40.731196), 'nan', (59.598925, 60.544088), (56.558869, 84.922927), (61.037321, 76.083226), (57.164744, 65.84978), '63.203882,75.439467', 'nan', 'nan', (50.79968, 40.624943), (55.074113, 61.327796), (58.054203, 63.664233), 'nan', (55.274857, 61.401458), (55.708577, 37.806156), (55.086425, 73.233007), (57.141984, 65.598692), (57.148424, 65.558933), (61.004008, 69.03756), (56.112312, 69.501171), (59.932703, 30.29818), (57.569672, 39.805213), (59.961219, 30.368617), (53.213526, 34.182738), (64.751575, 77.354073), (46.446839, 41.612749), (55.858544, 37.685889), (55.166248, 61.410396), (57.158052, 65.509759), (57.569363, 39.935801), (71.179568, 66.8644), (57.018884, 40.990046), (55.643896, 37.796939), (56.052572, 92.922937), (64.480468, 40.731196), (57.926741, 59.990923), (59.92878, 30.440411), (58.519737, 68.721865), (61.276375, 73.44456), 'nan', (65.930333, 78.177415), (67.47286, 78.701384), '67.474185,78.724820', (59.644145, 30.856798), (56.48464, 84.947649), 'nan', (62.549286, 65.648198), (61.00318, 69.018902), '67.470746,78.712259', (55.027325, 82.924768), (56.70335, 60.747843), (55.024585, 82.923583), (59.840216, 30.306256), (57.057866, 63.711044), (45.044635, 39.087162), (54.286471, 85.994276), (55.345022, 78.376895), (57.152384, 65.567152), (59.92901, 30.387823), (56.105636, 69.527546), (57.123842, 65.606319), (51.779841, 55.152184), (61.031282, 76.121521), (63.192228, 75.436763), (54.502878, 36.304801), (56.1726, 91.408171), (51.768099, 55.109541), '45.261029,39.013357', (54.989936, 73.377941), (57.933465, 59.997355), (56.822607, 60.651751)]\n",
      "results=[(61.166542, 75.967595), '68.486525,73.557826', (59.942462, 30.370567), (55.654198, 37.55602), 'nan', '66.024437,57.547413', 'nan', (55.074113, 61.327796), (51.764927, 55.10292), (63.790542, 74.541717), (56.728178, 61.359434), (64.480468, 40.731196), 'nan', (59.598925, 60.544088), (56.558869, 84.922927), (61.037321, 76.083226), (57.164744, 65.84978), '63.203882,75.439467', 'nan', 'nan', (50.79968, 40.624943), (55.074113, 61.327796), (58.054203, 63.664233), 'nan', (55.274857, 61.401458), (55.708577, 37.806156), (55.086425, 73.233007), (57.141984, 65.598692), (57.148424, 65.558933), (61.004008, 69.03756), (56.112312, 69.501171), (59.932703, 30.29818), (57.569672, 39.805213), (59.961219, 30.368617), (53.213526, 34.182738), (64.751575, 77.354073), (46.446839, 41.612749), (55.858544, 37.685889), (55.166248, 61.410396), (57.158052, 65.509759), (57.569363, 39.935801), (71.179568, 66.8644), (57.018884, 40.990046), (55.643896, 37.796939), (56.052572, 92.922937), (64.480468, 40.731196), (57.926741, 59.990923), (59.92878, 30.440411), (58.519737, 68.721865), (61.276375, 73.44456), 'nan', (65.930333, 78.177415), (67.47286, 78.701384), '67.474185,78.724820', (59.644145, 30.856798), (56.48464, 84.947649), 'nan', (62.549286, 65.648198), (61.00318, 69.018902), '67.470746,78.712259', (55.027325, 82.924768), (56.70335, 60.747843), (55.024585, 82.923583), (59.840216, 30.306256), (57.057866, 63.711044), (45.044635, 39.087162), (54.286471, 85.994276), (55.345022, 78.376895), (57.152384, 65.567152), (59.92901, 30.387823), (56.105636, 69.527546), (57.123842, 65.606319), (51.779841, 55.152184), (61.031282, 76.121521), (63.192228, 75.436763), (54.502878, 36.304801), (56.1726, 91.408171), (51.768099, 55.109541), '45.261029,39.013357', (54.989936, 73.377941), (57.933465, 59.997355), (56.822607, 60.651751), (59.930232, 30.253426)]\n",
      "results=[(61.166542, 75.967595), '68.486525,73.557826', (59.942462, 30.370567), (55.654198, 37.55602), 'nan', '66.024437,57.547413', 'nan', (55.074113, 61.327796), (51.764927, 55.10292), (63.790542, 74.541717), (56.728178, 61.359434), (64.480468, 40.731196), 'nan', (59.598925, 60.544088), (56.558869, 84.922927), (61.037321, 76.083226), (57.164744, 65.84978), '63.203882,75.439467', 'nan', 'nan', (50.79968, 40.624943), (55.074113, 61.327796), (58.054203, 63.664233), 'nan', (55.274857, 61.401458), (55.708577, 37.806156), (55.086425, 73.233007), (57.141984, 65.598692), (57.148424, 65.558933), (61.004008, 69.03756), (56.112312, 69.501171), (59.932703, 30.29818), (57.569672, 39.805213), (59.961219, 30.368617), (53.213526, 34.182738), (64.751575, 77.354073), (46.446839, 41.612749), (55.858544, 37.685889), (55.166248, 61.410396), (57.158052, 65.509759), (57.569363, 39.935801), (71.179568, 66.8644), (57.018884, 40.990046), (55.643896, 37.796939), (56.052572, 92.922937), (64.480468, 40.731196), (57.926741, 59.990923), (59.92878, 30.440411), (58.519737, 68.721865), (61.276375, 73.44456), 'nan', (65.930333, 78.177415), (67.47286, 78.701384), '67.474185,78.724820', (59.644145, 30.856798), (56.48464, 84.947649), 'nan', (62.549286, 65.648198), (61.00318, 69.018902), '67.470746,78.712259', (55.027325, 82.924768), (56.70335, 60.747843), (55.024585, 82.923583), (59.840216, 30.306256), (57.057866, 63.711044), (45.044635, 39.087162), (54.286471, 85.994276), (55.345022, 78.376895), (57.152384, 65.567152), (59.92901, 30.387823), (56.105636, 69.527546), (57.123842, 65.606319), (51.779841, 55.152184), (61.031282, 76.121521), (63.192228, 75.436763), (54.502878, 36.304801), (56.1726, 91.408171), (51.768099, 55.109541), '45.261029,39.013357', (54.989936, 73.377941), (57.933465, 59.997355), (56.822607, 60.651751), (59.930232, 30.253426), (55.858544, 37.685889)]\n",
      "results=[(61.166542, 75.967595), '68.486525,73.557826', (59.942462, 30.370567), (55.654198, 37.55602), 'nan', '66.024437,57.547413', 'nan', (55.074113, 61.327796), (51.764927, 55.10292), (63.790542, 74.541717), (56.728178, 61.359434), (64.480468, 40.731196), 'nan', (59.598925, 60.544088), (56.558869, 84.922927), (61.037321, 76.083226), (57.164744, 65.84978), '63.203882,75.439467', 'nan', 'nan', (50.79968, 40.624943), (55.074113, 61.327796), (58.054203, 63.664233), 'nan', (55.274857, 61.401458), (55.708577, 37.806156), (55.086425, 73.233007), (57.141984, 65.598692), (57.148424, 65.558933), (61.004008, 69.03756), (56.112312, 69.501171), (59.932703, 30.29818), (57.569672, 39.805213), (59.961219, 30.368617), (53.213526, 34.182738), (64.751575, 77.354073), (46.446839, 41.612749), (55.858544, 37.685889), (55.166248, 61.410396), (57.158052, 65.509759), (57.569363, 39.935801), (71.179568, 66.8644), (57.018884, 40.990046), (55.643896, 37.796939), (56.052572, 92.922937), (64.480468, 40.731196), (57.926741, 59.990923), (59.92878, 30.440411), (58.519737, 68.721865), (61.276375, 73.44456), 'nan', (65.930333, 78.177415), (67.47286, 78.701384), '67.474185,78.724820', (59.644145, 30.856798), (56.48464, 84.947649), 'nan', (62.549286, 65.648198), (61.00318, 69.018902), '67.470746,78.712259', (55.027325, 82.924768), (56.70335, 60.747843), (55.024585, 82.923583), (59.840216, 30.306256), (57.057866, 63.711044), (45.044635, 39.087162), (54.286471, 85.994276), (55.345022, 78.376895), (57.152384, 65.567152), (59.92901, 30.387823), (56.105636, 69.527546), (57.123842, 65.606319), (51.779841, 55.152184), (61.031282, 76.121521), (63.192228, 75.436763), (54.502878, 36.304801), (56.1726, 91.408171), (51.768099, 55.109541), '45.261029,39.013357', (54.989936, 73.377941), (57.933465, 59.997355), (56.822607, 60.651751), (59.930232, 30.253426), (55.858544, 37.685889), (68.989232, 33.156359)]\n",
      "results=[(61.166542, 75.967595), '68.486525,73.557826', (59.942462, 30.370567), (55.654198, 37.55602), 'nan', '66.024437,57.547413', 'nan', (55.074113, 61.327796), (51.764927, 55.10292), (63.790542, 74.541717), (56.728178, 61.359434), (64.480468, 40.731196), 'nan', (59.598925, 60.544088), (56.558869, 84.922927), (61.037321, 76.083226), (57.164744, 65.84978), '63.203882,75.439467', 'nan', 'nan', (50.79968, 40.624943), (55.074113, 61.327796), (58.054203, 63.664233), 'nan', (55.274857, 61.401458), (55.708577, 37.806156), (55.086425, 73.233007), (57.141984, 65.598692), (57.148424, 65.558933), (61.004008, 69.03756), (56.112312, 69.501171), (59.932703, 30.29818), (57.569672, 39.805213), (59.961219, 30.368617), (53.213526, 34.182738), (64.751575, 77.354073), (46.446839, 41.612749), (55.858544, 37.685889), (55.166248, 61.410396), (57.158052, 65.509759), (57.569363, 39.935801), (71.179568, 66.8644), (57.018884, 40.990046), (55.643896, 37.796939), (56.052572, 92.922937), (64.480468, 40.731196), (57.926741, 59.990923), (59.92878, 30.440411), (58.519737, 68.721865), (61.276375, 73.44456), 'nan', (65.930333, 78.177415), (67.47286, 78.701384), '67.474185,78.724820', (59.644145, 30.856798), (56.48464, 84.947649), 'nan', (62.549286, 65.648198), (61.00318, 69.018902), '67.470746,78.712259', (55.027325, 82.924768), (56.70335, 60.747843), (55.024585, 82.923583), (59.840216, 30.306256), (57.057866, 63.711044), (45.044635, 39.087162), (54.286471, 85.994276), (55.345022, 78.376895), (57.152384, 65.567152), (59.92901, 30.387823), (56.105636, 69.527546), (57.123842, 65.606319), (51.779841, 55.152184), (61.031282, 76.121521), (63.192228, 75.436763), (54.502878, 36.304801), (56.1726, 91.408171), (51.768099, 55.109541), '45.261029,39.013357', (54.989936, 73.377941), (57.933465, 59.997355), (56.822607, 60.651751), (59.930232, 30.253426), (55.858544, 37.685889), (68.989232, 33.156359), (46.446839, 41.612749)]\n",
      "results=[(61.166542, 75.967595), '68.486525,73.557826', (59.942462, 30.370567), (55.654198, 37.55602), 'nan', '66.024437,57.547413', 'nan', (55.074113, 61.327796), (51.764927, 55.10292), (63.790542, 74.541717), (56.728178, 61.359434), (64.480468, 40.731196), 'nan', (59.598925, 60.544088), (56.558869, 84.922927), (61.037321, 76.083226), (57.164744, 65.84978), '63.203882,75.439467', 'nan', 'nan', (50.79968, 40.624943), (55.074113, 61.327796), (58.054203, 63.664233), 'nan', (55.274857, 61.401458), (55.708577, 37.806156), (55.086425, 73.233007), (57.141984, 65.598692), (57.148424, 65.558933), (61.004008, 69.03756), (56.112312, 69.501171), (59.932703, 30.29818), (57.569672, 39.805213), (59.961219, 30.368617), (53.213526, 34.182738), (64.751575, 77.354073), (46.446839, 41.612749), (55.858544, 37.685889), (55.166248, 61.410396), (57.158052, 65.509759), (57.569363, 39.935801), (71.179568, 66.8644), (57.018884, 40.990046), (55.643896, 37.796939), (56.052572, 92.922937), (64.480468, 40.731196), (57.926741, 59.990923), (59.92878, 30.440411), (58.519737, 68.721865), (61.276375, 73.44456), 'nan', (65.930333, 78.177415), (67.47286, 78.701384), '67.474185,78.724820', (59.644145, 30.856798), (56.48464, 84.947649), 'nan', (62.549286, 65.648198), (61.00318, 69.018902), '67.470746,78.712259', (55.027325, 82.924768), (56.70335, 60.747843), (55.024585, 82.923583), (59.840216, 30.306256), (57.057866, 63.711044), (45.044635, 39.087162), (54.286471, 85.994276), (55.345022, 78.376895), (57.152384, 65.567152), (59.92901, 30.387823), (56.105636, 69.527546), (57.123842, 65.606319), (51.779841, 55.152184), (61.031282, 76.121521), (63.192228, 75.436763), (54.502878, 36.304801), (56.1726, 91.408171), (51.768099, 55.109541), '45.261029,39.013357', (54.989936, 73.377941), (57.933465, 59.997355), (56.822607, 60.651751), (59.930232, 30.253426), (55.858544, 37.685889), (68.989232, 33.156359), (46.446839, 41.612749), (55.061462, 73.250003)]\n",
      "results=[(61.166542, 75.967595), '68.486525,73.557826', (59.942462, 30.370567), (55.654198, 37.55602), 'nan', '66.024437,57.547413', 'nan', (55.074113, 61.327796), (51.764927, 55.10292), (63.790542, 74.541717), (56.728178, 61.359434), (64.480468, 40.731196), 'nan', (59.598925, 60.544088), (56.558869, 84.922927), (61.037321, 76.083226), (57.164744, 65.84978), '63.203882,75.439467', 'nan', 'nan', (50.79968, 40.624943), (55.074113, 61.327796), (58.054203, 63.664233), 'nan', (55.274857, 61.401458), (55.708577, 37.806156), (55.086425, 73.233007), (57.141984, 65.598692), (57.148424, 65.558933), (61.004008, 69.03756), (56.112312, 69.501171), (59.932703, 30.29818), (57.569672, 39.805213), (59.961219, 30.368617), (53.213526, 34.182738), (64.751575, 77.354073), (46.446839, 41.612749), (55.858544, 37.685889), (55.166248, 61.410396), (57.158052, 65.509759), (57.569363, 39.935801), (71.179568, 66.8644), (57.018884, 40.990046), (55.643896, 37.796939), (56.052572, 92.922937), (64.480468, 40.731196), (57.926741, 59.990923), (59.92878, 30.440411), (58.519737, 68.721865), (61.276375, 73.44456), 'nan', (65.930333, 78.177415), (67.47286, 78.701384), '67.474185,78.724820', (59.644145, 30.856798), (56.48464, 84.947649), 'nan', (62.549286, 65.648198), (61.00318, 69.018902), '67.470746,78.712259', (55.027325, 82.924768), (56.70335, 60.747843), (55.024585, 82.923583), (59.840216, 30.306256), (57.057866, 63.711044), (45.044635, 39.087162), (54.286471, 85.994276), (55.345022, 78.376895), (57.152384, 65.567152), (59.92901, 30.387823), (56.105636, 69.527546), (57.123842, 65.606319), (51.779841, 55.152184), (61.031282, 76.121521), (63.192228, 75.436763), (54.502878, 36.304801), (56.1726, 91.408171), (51.768099, 55.109541), '45.261029,39.013357', (54.989936, 73.377941), (57.933465, 59.997355), (56.822607, 60.651751), (59.930232, 30.253426), (55.858544, 37.685889), (68.989232, 33.156359), (46.446839, 41.612749), (55.061462, 73.250003), (53.366057, 83.799844)]\n",
      "results=[(61.166542, 75.967595), '68.486525,73.557826', (59.942462, 30.370567), (55.654198, 37.55602), 'nan', '66.024437,57.547413', 'nan', (55.074113, 61.327796), (51.764927, 55.10292), (63.790542, 74.541717), (56.728178, 61.359434), (64.480468, 40.731196), 'nan', (59.598925, 60.544088), (56.558869, 84.922927), (61.037321, 76.083226), (57.164744, 65.84978), '63.203882,75.439467', 'nan', 'nan', (50.79968, 40.624943), (55.074113, 61.327796), (58.054203, 63.664233), 'nan', (55.274857, 61.401458), (55.708577, 37.806156), (55.086425, 73.233007), (57.141984, 65.598692), (57.148424, 65.558933), (61.004008, 69.03756), (56.112312, 69.501171), (59.932703, 30.29818), (57.569672, 39.805213), (59.961219, 30.368617), (53.213526, 34.182738), (64.751575, 77.354073), (46.446839, 41.612749), (55.858544, 37.685889), (55.166248, 61.410396), (57.158052, 65.509759), (57.569363, 39.935801), (71.179568, 66.8644), (57.018884, 40.990046), (55.643896, 37.796939), (56.052572, 92.922937), (64.480468, 40.731196), (57.926741, 59.990923), (59.92878, 30.440411), (58.519737, 68.721865), (61.276375, 73.44456), 'nan', (65.930333, 78.177415), (67.47286, 78.701384), '67.474185,78.724820', (59.644145, 30.856798), (56.48464, 84.947649), 'nan', (62.549286, 65.648198), (61.00318, 69.018902), '67.470746,78.712259', (55.027325, 82.924768), (56.70335, 60.747843), (55.024585, 82.923583), (59.840216, 30.306256), (57.057866, 63.711044), (45.044635, 39.087162), (54.286471, 85.994276), (55.345022, 78.376895), (57.152384, 65.567152), (59.92901, 30.387823), (56.105636, 69.527546), (57.123842, 65.606319), (51.779841, 55.152184), (61.031282, 76.121521), (63.192228, 75.436763), (54.502878, 36.304801), (56.1726, 91.408171), (51.768099, 55.109541), '45.261029,39.013357', (54.989936, 73.377941), (57.933465, 59.997355), (56.822607, 60.651751), (59.930232, 30.253426), (55.858544, 37.685889), (68.989232, 33.156359), (46.446839, 41.612749), (55.061462, 73.250003), (53.366057, 83.799844), (56.807304, 60.409736)]\n",
      "results=[(61.166542, 75.967595), '68.486525,73.557826', (59.942462, 30.370567), (55.654198, 37.55602), 'nan', '66.024437,57.547413', 'nan', (55.074113, 61.327796), (51.764927, 55.10292), (63.790542, 74.541717), (56.728178, 61.359434), (64.480468, 40.731196), 'nan', (59.598925, 60.544088), (56.558869, 84.922927), (61.037321, 76.083226), (57.164744, 65.84978), '63.203882,75.439467', 'nan', 'nan', (50.79968, 40.624943), (55.074113, 61.327796), (58.054203, 63.664233), 'nan', (55.274857, 61.401458), (55.708577, 37.806156), (55.086425, 73.233007), (57.141984, 65.598692), (57.148424, 65.558933), (61.004008, 69.03756), (56.112312, 69.501171), (59.932703, 30.29818), (57.569672, 39.805213), (59.961219, 30.368617), (53.213526, 34.182738), (64.751575, 77.354073), (46.446839, 41.612749), (55.858544, 37.685889), (55.166248, 61.410396), (57.158052, 65.509759), (57.569363, 39.935801), (71.179568, 66.8644), (57.018884, 40.990046), (55.643896, 37.796939), (56.052572, 92.922937), (64.480468, 40.731196), (57.926741, 59.990923), (59.92878, 30.440411), (58.519737, 68.721865), (61.276375, 73.44456), 'nan', (65.930333, 78.177415), (67.47286, 78.701384), '67.474185,78.724820', (59.644145, 30.856798), (56.48464, 84.947649), 'nan', (62.549286, 65.648198), (61.00318, 69.018902), '67.470746,78.712259', (55.027325, 82.924768), (56.70335, 60.747843), (55.024585, 82.923583), (59.840216, 30.306256), (57.057866, 63.711044), (45.044635, 39.087162), (54.286471, 85.994276), (55.345022, 78.376895), (57.152384, 65.567152), (59.92901, 30.387823), (56.105636, 69.527546), (57.123842, 65.606319), (51.779841, 55.152184), (61.031282, 76.121521), (63.192228, 75.436763), (54.502878, 36.304801), (56.1726, 91.408171), (51.768099, 55.109541), '45.261029,39.013357', (54.989936, 73.377941), (57.933465, 59.997355), (56.822607, 60.651751), (59.930232, 30.253426), (55.858544, 37.685889), (68.989232, 33.156359), (46.446839, 41.612749), (55.061462, 73.250003), (53.366057, 83.799844), (56.807304, 60.409736), (56.479386, 44.074986)]\n",
      "results=[(61.166542, 75.967595), '68.486525,73.557826', (59.942462, 30.370567), (55.654198, 37.55602), 'nan', '66.024437,57.547413', 'nan', (55.074113, 61.327796), (51.764927, 55.10292), (63.790542, 74.541717), (56.728178, 61.359434), (64.480468, 40.731196), 'nan', (59.598925, 60.544088), (56.558869, 84.922927), (61.037321, 76.083226), (57.164744, 65.84978), '63.203882,75.439467', 'nan', 'nan', (50.79968, 40.624943), (55.074113, 61.327796), (58.054203, 63.664233), 'nan', (55.274857, 61.401458), (55.708577, 37.806156), (55.086425, 73.233007), (57.141984, 65.598692), (57.148424, 65.558933), (61.004008, 69.03756), (56.112312, 69.501171), (59.932703, 30.29818), (57.569672, 39.805213), (59.961219, 30.368617), (53.213526, 34.182738), (64.751575, 77.354073), (46.446839, 41.612749), (55.858544, 37.685889), (55.166248, 61.410396), (57.158052, 65.509759), (57.569363, 39.935801), (71.179568, 66.8644), (57.018884, 40.990046), (55.643896, 37.796939), (56.052572, 92.922937), (64.480468, 40.731196), (57.926741, 59.990923), (59.92878, 30.440411), (58.519737, 68.721865), (61.276375, 73.44456), 'nan', (65.930333, 78.177415), (67.47286, 78.701384), '67.474185,78.724820', (59.644145, 30.856798), (56.48464, 84.947649), 'nan', (62.549286, 65.648198), (61.00318, 69.018902), '67.470746,78.712259', (55.027325, 82.924768), (56.70335, 60.747843), (55.024585, 82.923583), (59.840216, 30.306256), (57.057866, 63.711044), (45.044635, 39.087162), (54.286471, 85.994276), (55.345022, 78.376895), (57.152384, 65.567152), (59.92901, 30.387823), (56.105636, 69.527546), (57.123842, 65.606319), (51.779841, 55.152184), (61.031282, 76.121521), (63.192228, 75.436763), (54.502878, 36.304801), (56.1726, 91.408171), (51.768099, 55.109541), '45.261029,39.013357', (54.989936, 73.377941), (57.933465, 59.997355), (56.822607, 60.651751), (59.930232, 30.253426), (55.858544, 37.685889), (68.989232, 33.156359), (46.446839, 41.612749), (55.061462, 73.250003), (53.366057, 83.799844), (56.807304, 60.409736), (56.479386, 44.074986), (56.645965, 60.551876)]\n",
      "results=[(61.166542, 75.967595), '68.486525,73.557826', (59.942462, 30.370567), (55.654198, 37.55602), 'nan', '66.024437,57.547413', 'nan', (55.074113, 61.327796), (51.764927, 55.10292), (63.790542, 74.541717), (56.728178, 61.359434), (64.480468, 40.731196), 'nan', (59.598925, 60.544088), (56.558869, 84.922927), (61.037321, 76.083226), (57.164744, 65.84978), '63.203882,75.439467', 'nan', 'nan', (50.79968, 40.624943), (55.074113, 61.327796), (58.054203, 63.664233), 'nan', (55.274857, 61.401458), (55.708577, 37.806156), (55.086425, 73.233007), (57.141984, 65.598692), (57.148424, 65.558933), (61.004008, 69.03756), (56.112312, 69.501171), (59.932703, 30.29818), (57.569672, 39.805213), (59.961219, 30.368617), (53.213526, 34.182738), (64.751575, 77.354073), (46.446839, 41.612749), (55.858544, 37.685889), (55.166248, 61.410396), (57.158052, 65.509759), (57.569363, 39.935801), (71.179568, 66.8644), (57.018884, 40.990046), (55.643896, 37.796939), (56.052572, 92.922937), (64.480468, 40.731196), (57.926741, 59.990923), (59.92878, 30.440411), (58.519737, 68.721865), (61.276375, 73.44456), 'nan', (65.930333, 78.177415), (67.47286, 78.701384), '67.474185,78.724820', (59.644145, 30.856798), (56.48464, 84.947649), 'nan', (62.549286, 65.648198), (61.00318, 69.018902), '67.470746,78.712259', (55.027325, 82.924768), (56.70335, 60.747843), (55.024585, 82.923583), (59.840216, 30.306256), (57.057866, 63.711044), (45.044635, 39.087162), (54.286471, 85.994276), (55.345022, 78.376895), (57.152384, 65.567152), (59.92901, 30.387823), (56.105636, 69.527546), (57.123842, 65.606319), (51.779841, 55.152184), (61.031282, 76.121521), (63.192228, 75.436763), (54.502878, 36.304801), (56.1726, 91.408171), (51.768099, 55.109541), '45.261029,39.013357', (54.989936, 73.377941), (57.933465, 59.997355), (56.822607, 60.651751), (59.930232, 30.253426), (55.858544, 37.685889), (68.989232, 33.156359), (46.446839, 41.612749), (55.061462, 73.250003), (53.366057, 83.799844), (56.807304, 60.409736), (56.479386, 44.074986), (56.645965, 60.551876), (56.817858, 60.516294)]\n",
      "results=[(61.166542, 75.967595), '68.486525,73.557826', (59.942462, 30.370567), (55.654198, 37.55602), 'nan', '66.024437,57.547413', 'nan', (55.074113, 61.327796), (51.764927, 55.10292), (63.790542, 74.541717), (56.728178, 61.359434), (64.480468, 40.731196), 'nan', (59.598925, 60.544088), (56.558869, 84.922927), (61.037321, 76.083226), (57.164744, 65.84978), '63.203882,75.439467', 'nan', 'nan', (50.79968, 40.624943), (55.074113, 61.327796), (58.054203, 63.664233), 'nan', (55.274857, 61.401458), (55.708577, 37.806156), (55.086425, 73.233007), (57.141984, 65.598692), (57.148424, 65.558933), (61.004008, 69.03756), (56.112312, 69.501171), (59.932703, 30.29818), (57.569672, 39.805213), (59.961219, 30.368617), (53.213526, 34.182738), (64.751575, 77.354073), (46.446839, 41.612749), (55.858544, 37.685889), (55.166248, 61.410396), (57.158052, 65.509759), (57.569363, 39.935801), (71.179568, 66.8644), (57.018884, 40.990046), (55.643896, 37.796939), (56.052572, 92.922937), (64.480468, 40.731196), (57.926741, 59.990923), (59.92878, 30.440411), (58.519737, 68.721865), (61.276375, 73.44456), 'nan', (65.930333, 78.177415), (67.47286, 78.701384), '67.474185,78.724820', (59.644145, 30.856798), (56.48464, 84.947649), 'nan', (62.549286, 65.648198), (61.00318, 69.018902), '67.470746,78.712259', (55.027325, 82.924768), (56.70335, 60.747843), (55.024585, 82.923583), (59.840216, 30.306256), (57.057866, 63.711044), (45.044635, 39.087162), (54.286471, 85.994276), (55.345022, 78.376895), (57.152384, 65.567152), (59.92901, 30.387823), (56.105636, 69.527546), (57.123842, 65.606319), (51.779841, 55.152184), (61.031282, 76.121521), (63.192228, 75.436763), (54.502878, 36.304801), (56.1726, 91.408171), (51.768099, 55.109541), '45.261029,39.013357', (54.989936, 73.377941), (57.933465, 59.997355), (56.822607, 60.651751), (59.930232, 30.253426), (55.858544, 37.685889), (68.989232, 33.156359), (46.446839, 41.612749), (55.061462, 73.250003), (53.366057, 83.799844), (56.807304, 60.409736), (56.479386, 44.074986), (56.645965, 60.551876), (56.817858, 60.516294), (55.969088, 37.472144)]\n",
      "results=[(61.166542, 75.967595), '68.486525,73.557826', (59.942462, 30.370567), (55.654198, 37.55602), 'nan', '66.024437,57.547413', 'nan', (55.074113, 61.327796), (51.764927, 55.10292), (63.790542, 74.541717), (56.728178, 61.359434), (64.480468, 40.731196), 'nan', (59.598925, 60.544088), (56.558869, 84.922927), (61.037321, 76.083226), (57.164744, 65.84978), '63.203882,75.439467', 'nan', 'nan', (50.79968, 40.624943), (55.074113, 61.327796), (58.054203, 63.664233), 'nan', (55.274857, 61.401458), (55.708577, 37.806156), (55.086425, 73.233007), (57.141984, 65.598692), (57.148424, 65.558933), (61.004008, 69.03756), (56.112312, 69.501171), (59.932703, 30.29818), (57.569672, 39.805213), (59.961219, 30.368617), (53.213526, 34.182738), (64.751575, 77.354073), (46.446839, 41.612749), (55.858544, 37.685889), (55.166248, 61.410396), (57.158052, 65.509759), (57.569363, 39.935801), (71.179568, 66.8644), (57.018884, 40.990046), (55.643896, 37.796939), (56.052572, 92.922937), (64.480468, 40.731196), (57.926741, 59.990923), (59.92878, 30.440411), (58.519737, 68.721865), (61.276375, 73.44456), 'nan', (65.930333, 78.177415), (67.47286, 78.701384), '67.474185,78.724820', (59.644145, 30.856798), (56.48464, 84.947649), 'nan', (62.549286, 65.648198), (61.00318, 69.018902), '67.470746,78.712259', (55.027325, 82.924768), (56.70335, 60.747843), (55.024585, 82.923583), (59.840216, 30.306256), (57.057866, 63.711044), (45.044635, 39.087162), (54.286471, 85.994276), (55.345022, 78.376895), (57.152384, 65.567152), (59.92901, 30.387823), (56.105636, 69.527546), (57.123842, 65.606319), (51.779841, 55.152184), (61.031282, 76.121521), (63.192228, 75.436763), (54.502878, 36.304801), (56.1726, 91.408171), (51.768099, 55.109541), '45.261029,39.013357', (54.989936, 73.377941), (57.933465, 59.997355), (56.822607, 60.651751), (59.930232, 30.253426), (55.858544, 37.685889), (68.989232, 33.156359), (46.446839, 41.612749), (55.061462, 73.250003), (53.366057, 83.799844), (56.807304, 60.409736), (56.479386, 44.074986), (56.645965, 60.551876), (56.817858, 60.516294), (55.969088, 37.472144), (53.734592, 87.158367)]\n",
      "results=[(61.166542, 75.967595), '68.486525,73.557826', (59.942462, 30.370567), (55.654198, 37.55602), 'nan', '66.024437,57.547413', 'nan', (55.074113, 61.327796), (51.764927, 55.10292), (63.790542, 74.541717), (56.728178, 61.359434), (64.480468, 40.731196), 'nan', (59.598925, 60.544088), (56.558869, 84.922927), (61.037321, 76.083226), (57.164744, 65.84978), '63.203882,75.439467', 'nan', 'nan', (50.79968, 40.624943), (55.074113, 61.327796), (58.054203, 63.664233), 'nan', (55.274857, 61.401458), (55.708577, 37.806156), (55.086425, 73.233007), (57.141984, 65.598692), (57.148424, 65.558933), (61.004008, 69.03756), (56.112312, 69.501171), (59.932703, 30.29818), (57.569672, 39.805213), (59.961219, 30.368617), (53.213526, 34.182738), (64.751575, 77.354073), (46.446839, 41.612749), (55.858544, 37.685889), (55.166248, 61.410396), (57.158052, 65.509759), (57.569363, 39.935801), (71.179568, 66.8644), (57.018884, 40.990046), (55.643896, 37.796939), (56.052572, 92.922937), (64.480468, 40.731196), (57.926741, 59.990923), (59.92878, 30.440411), (58.519737, 68.721865), (61.276375, 73.44456), 'nan', (65.930333, 78.177415), (67.47286, 78.701384), '67.474185,78.724820', (59.644145, 30.856798), (56.48464, 84.947649), 'nan', (62.549286, 65.648198), (61.00318, 69.018902), '67.470746,78.712259', (55.027325, 82.924768), (56.70335, 60.747843), (55.024585, 82.923583), (59.840216, 30.306256), (57.057866, 63.711044), (45.044635, 39.087162), (54.286471, 85.994276), (55.345022, 78.376895), (57.152384, 65.567152), (59.92901, 30.387823), (56.105636, 69.527546), (57.123842, 65.606319), (51.779841, 55.152184), (61.031282, 76.121521), (63.192228, 75.436763), (54.502878, 36.304801), (56.1726, 91.408171), (51.768099, 55.109541), '45.261029,39.013357', (54.989936, 73.377941), (57.933465, 59.997355), (56.822607, 60.651751), (59.930232, 30.253426), (55.858544, 37.685889), (68.989232, 33.156359), (46.446839, 41.612749), (55.061462, 73.250003), (53.366057, 83.799844), (56.807304, 60.409736), (56.479386, 44.074986), (56.645965, 60.551876), (56.817858, 60.516294), (55.969088, 37.472144), (53.734592, 87.158367), (55.324135, 85.966284)]\n",
      "results=[(61.166542, 75.967595), '68.486525,73.557826', (59.942462, 30.370567), (55.654198, 37.55602), 'nan', '66.024437,57.547413', 'nan', (55.074113, 61.327796), (51.764927, 55.10292), (63.790542, 74.541717), (56.728178, 61.359434), (64.480468, 40.731196), 'nan', (59.598925, 60.544088), (56.558869, 84.922927), (61.037321, 76.083226), (57.164744, 65.84978), '63.203882,75.439467', 'nan', 'nan', (50.79968, 40.624943), (55.074113, 61.327796), (58.054203, 63.664233), 'nan', (55.274857, 61.401458), (55.708577, 37.806156), (55.086425, 73.233007), (57.141984, 65.598692), (57.148424, 65.558933), (61.004008, 69.03756), (56.112312, 69.501171), (59.932703, 30.29818), (57.569672, 39.805213), (59.961219, 30.368617), (53.213526, 34.182738), (64.751575, 77.354073), (46.446839, 41.612749), (55.858544, 37.685889), (55.166248, 61.410396), (57.158052, 65.509759), (57.569363, 39.935801), (71.179568, 66.8644), (57.018884, 40.990046), (55.643896, 37.796939), (56.052572, 92.922937), (64.480468, 40.731196), (57.926741, 59.990923), (59.92878, 30.440411), (58.519737, 68.721865), (61.276375, 73.44456), 'nan', (65.930333, 78.177415), (67.47286, 78.701384), '67.474185,78.724820', (59.644145, 30.856798), (56.48464, 84.947649), 'nan', (62.549286, 65.648198), (61.00318, 69.018902), '67.470746,78.712259', (55.027325, 82.924768), (56.70335, 60.747843), (55.024585, 82.923583), (59.840216, 30.306256), (57.057866, 63.711044), (45.044635, 39.087162), (54.286471, 85.994276), (55.345022, 78.376895), (57.152384, 65.567152), (59.92901, 30.387823), (56.105636, 69.527546), (57.123842, 65.606319), (51.779841, 55.152184), (61.031282, 76.121521), (63.192228, 75.436763), (54.502878, 36.304801), (56.1726, 91.408171), (51.768099, 55.109541), '45.261029,39.013357', (54.989936, 73.377941), (57.933465, 59.997355), (56.822607, 60.651751), (59.930232, 30.253426), (55.858544, 37.685889), (68.989232, 33.156359), (46.446839, 41.612749), (55.061462, 73.250003), (53.366057, 83.799844), (56.807304, 60.409736), (56.479386, 44.074986), (56.645965, 60.551876), (56.817858, 60.516294), (55.969088, 37.472144), (53.734592, 87.158367), (55.324135, 85.966284), (57.018884, 40.990046)]\n",
      "results=[(61.166542, 75.967595), '68.486525,73.557826', (59.942462, 30.370567), (55.654198, 37.55602), 'nan', '66.024437,57.547413', 'nan', (55.074113, 61.327796), (51.764927, 55.10292), (63.790542, 74.541717), (56.728178, 61.359434), (64.480468, 40.731196), 'nan', (59.598925, 60.544088), (56.558869, 84.922927), (61.037321, 76.083226), (57.164744, 65.84978), '63.203882,75.439467', 'nan', 'nan', (50.79968, 40.624943), (55.074113, 61.327796), (58.054203, 63.664233), 'nan', (55.274857, 61.401458), (55.708577, 37.806156), (55.086425, 73.233007), (57.141984, 65.598692), (57.148424, 65.558933), (61.004008, 69.03756), (56.112312, 69.501171), (59.932703, 30.29818), (57.569672, 39.805213), (59.961219, 30.368617), (53.213526, 34.182738), (64.751575, 77.354073), (46.446839, 41.612749), (55.858544, 37.685889), (55.166248, 61.410396), (57.158052, 65.509759), (57.569363, 39.935801), (71.179568, 66.8644), (57.018884, 40.990046), (55.643896, 37.796939), (56.052572, 92.922937), (64.480468, 40.731196), (57.926741, 59.990923), (59.92878, 30.440411), (58.519737, 68.721865), (61.276375, 73.44456), 'nan', (65.930333, 78.177415), (67.47286, 78.701384), '67.474185,78.724820', (59.644145, 30.856798), (56.48464, 84.947649), 'nan', (62.549286, 65.648198), (61.00318, 69.018902), '67.470746,78.712259', (55.027325, 82.924768), (56.70335, 60.747843), (55.024585, 82.923583), (59.840216, 30.306256), (57.057866, 63.711044), (45.044635, 39.087162), (54.286471, 85.994276), (55.345022, 78.376895), (57.152384, 65.567152), (59.92901, 30.387823), (56.105636, 69.527546), (57.123842, 65.606319), (51.779841, 55.152184), (61.031282, 76.121521), (63.192228, 75.436763), (54.502878, 36.304801), (56.1726, 91.408171), (51.768099, 55.109541), '45.261029,39.013357', (54.989936, 73.377941), (57.933465, 59.997355), (56.822607, 60.651751), (59.930232, 30.253426), (55.858544, 37.685889), (68.989232, 33.156359), (46.446839, 41.612749), (55.061462, 73.250003), (53.366057, 83.799844), (56.807304, 60.409736), (56.479386, 44.074986), (56.645965, 60.551876), (56.817858, 60.516294), (55.969088, 37.472144), (53.734592, 87.158367), (55.324135, 85.966284), (57.018884, 40.990046), (45.044635, 39.087162)]\n",
      "results=[(61.166542, 75.967595), '68.486525,73.557826', (59.942462, 30.370567), (55.654198, 37.55602), 'nan', '66.024437,57.547413', 'nan', (55.074113, 61.327796), (51.764927, 55.10292), (63.790542, 74.541717), (56.728178, 61.359434), (64.480468, 40.731196), 'nan', (59.598925, 60.544088), (56.558869, 84.922927), (61.037321, 76.083226), (57.164744, 65.84978), '63.203882,75.439467', 'nan', 'nan', (50.79968, 40.624943), (55.074113, 61.327796), (58.054203, 63.664233), 'nan', (55.274857, 61.401458), (55.708577, 37.806156), (55.086425, 73.233007), (57.141984, 65.598692), (57.148424, 65.558933), (61.004008, 69.03756), (56.112312, 69.501171), (59.932703, 30.29818), (57.569672, 39.805213), (59.961219, 30.368617), (53.213526, 34.182738), (64.751575, 77.354073), (46.446839, 41.612749), (55.858544, 37.685889), (55.166248, 61.410396), (57.158052, 65.509759), (57.569363, 39.935801), (71.179568, 66.8644), (57.018884, 40.990046), (55.643896, 37.796939), (56.052572, 92.922937), (64.480468, 40.731196), (57.926741, 59.990923), (59.92878, 30.440411), (58.519737, 68.721865), (61.276375, 73.44456), 'nan', (65.930333, 78.177415), (67.47286, 78.701384), '67.474185,78.724820', (59.644145, 30.856798), (56.48464, 84.947649), 'nan', (62.549286, 65.648198), (61.00318, 69.018902), '67.470746,78.712259', (55.027325, 82.924768), (56.70335, 60.747843), (55.024585, 82.923583), (59.840216, 30.306256), (57.057866, 63.711044), (45.044635, 39.087162), (54.286471, 85.994276), (55.345022, 78.376895), (57.152384, 65.567152), (59.92901, 30.387823), (56.105636, 69.527546), (57.123842, 65.606319), (51.779841, 55.152184), (61.031282, 76.121521), (63.192228, 75.436763), (54.502878, 36.304801), (56.1726, 91.408171), (51.768099, 55.109541), '45.261029,39.013357', (54.989936, 73.377941), (57.933465, 59.997355), (56.822607, 60.651751), (59.930232, 30.253426), (55.858544, 37.685889), (68.989232, 33.156359), (46.446839, 41.612749), (55.061462, 73.250003), (53.366057, 83.799844), (56.807304, 60.409736), (56.479386, 44.074986), (56.645965, 60.551876), (56.817858, 60.516294), (55.969088, 37.472144), (53.734592, 87.158367), (55.324135, 85.966284), (57.018884, 40.990046), (45.044635, 39.087162), (59.80053, 30.326118)]\n",
      "results=[(61.166542, 75.967595), '68.486525,73.557826', (59.942462, 30.370567), (55.654198, 37.55602), 'nan', '66.024437,57.547413', 'nan', (55.074113, 61.327796), (51.764927, 55.10292), (63.790542, 74.541717), (56.728178, 61.359434), (64.480468, 40.731196), 'nan', (59.598925, 60.544088), (56.558869, 84.922927), (61.037321, 76.083226), (57.164744, 65.84978), '63.203882,75.439467', 'nan', 'nan', (50.79968, 40.624943), (55.074113, 61.327796), (58.054203, 63.664233), 'nan', (55.274857, 61.401458), (55.708577, 37.806156), (55.086425, 73.233007), (57.141984, 65.598692), (57.148424, 65.558933), (61.004008, 69.03756), (56.112312, 69.501171), (59.932703, 30.29818), (57.569672, 39.805213), (59.961219, 30.368617), (53.213526, 34.182738), (64.751575, 77.354073), (46.446839, 41.612749), (55.858544, 37.685889), (55.166248, 61.410396), (57.158052, 65.509759), (57.569363, 39.935801), (71.179568, 66.8644), (57.018884, 40.990046), (55.643896, 37.796939), (56.052572, 92.922937), (64.480468, 40.731196), (57.926741, 59.990923), (59.92878, 30.440411), (58.519737, 68.721865), (61.276375, 73.44456), 'nan', (65.930333, 78.177415), (67.47286, 78.701384), '67.474185,78.724820', (59.644145, 30.856798), (56.48464, 84.947649), 'nan', (62.549286, 65.648198), (61.00318, 69.018902), '67.470746,78.712259', (55.027325, 82.924768), (56.70335, 60.747843), (55.024585, 82.923583), (59.840216, 30.306256), (57.057866, 63.711044), (45.044635, 39.087162), (54.286471, 85.994276), (55.345022, 78.376895), (57.152384, 65.567152), (59.92901, 30.387823), (56.105636, 69.527546), (57.123842, 65.606319), (51.779841, 55.152184), (61.031282, 76.121521), (63.192228, 75.436763), (54.502878, 36.304801), (56.1726, 91.408171), (51.768099, 55.109541), '45.261029,39.013357', (54.989936, 73.377941), (57.933465, 59.997355), (56.822607, 60.651751), (59.930232, 30.253426), (55.858544, 37.685889), (68.989232, 33.156359), (46.446839, 41.612749), (55.061462, 73.250003), (53.366057, 83.799844), (56.807304, 60.409736), (56.479386, 44.074986), (56.645965, 60.551876), (56.817858, 60.516294), (55.969088, 37.472144), (53.734592, 87.158367), (55.324135, 85.966284), (57.018884, 40.990046), (45.044635, 39.087162), (59.80053, 30.326118), (57.057866, 63.711044)]\n",
      "results=[(61.166542, 75.967595), '68.486525,73.557826', (59.942462, 30.370567), (55.654198, 37.55602), 'nan', '66.024437,57.547413', 'nan', (55.074113, 61.327796), (51.764927, 55.10292), (63.790542, 74.541717), (56.728178, 61.359434), (64.480468, 40.731196), 'nan', (59.598925, 60.544088), (56.558869, 84.922927), (61.037321, 76.083226), (57.164744, 65.84978), '63.203882,75.439467', 'nan', 'nan', (50.79968, 40.624943), (55.074113, 61.327796), (58.054203, 63.664233), 'nan', (55.274857, 61.401458), (55.708577, 37.806156), (55.086425, 73.233007), (57.141984, 65.598692), (57.148424, 65.558933), (61.004008, 69.03756), (56.112312, 69.501171), (59.932703, 30.29818), (57.569672, 39.805213), (59.961219, 30.368617), (53.213526, 34.182738), (64.751575, 77.354073), (46.446839, 41.612749), (55.858544, 37.685889), (55.166248, 61.410396), (57.158052, 65.509759), (57.569363, 39.935801), (71.179568, 66.8644), (57.018884, 40.990046), (55.643896, 37.796939), (56.052572, 92.922937), (64.480468, 40.731196), (57.926741, 59.990923), (59.92878, 30.440411), (58.519737, 68.721865), (61.276375, 73.44456), 'nan', (65.930333, 78.177415), (67.47286, 78.701384), '67.474185,78.724820', (59.644145, 30.856798), (56.48464, 84.947649), 'nan', (62.549286, 65.648198), (61.00318, 69.018902), '67.470746,78.712259', (55.027325, 82.924768), (56.70335, 60.747843), (55.024585, 82.923583), (59.840216, 30.306256), (57.057866, 63.711044), (45.044635, 39.087162), (54.286471, 85.994276), (55.345022, 78.376895), (57.152384, 65.567152), (59.92901, 30.387823), (56.105636, 69.527546), (57.123842, 65.606319), (51.779841, 55.152184), (61.031282, 76.121521), (63.192228, 75.436763), (54.502878, 36.304801), (56.1726, 91.408171), (51.768099, 55.109541), '45.261029,39.013357', (54.989936, 73.377941), (57.933465, 59.997355), (56.822607, 60.651751), (59.930232, 30.253426), (55.858544, 37.685889), (68.989232, 33.156359), (46.446839, 41.612749), (55.061462, 73.250003), (53.366057, 83.799844), (56.807304, 60.409736), (56.479386, 44.074986), (56.645965, 60.551876), (56.817858, 60.516294), (55.969088, 37.472144), (53.734592, 87.158367), (55.324135, 85.966284), (57.018884, 40.990046), (45.044635, 39.087162), (59.80053, 30.326118), (57.057866, 63.711044), (56.90722, 74.349909)]\n",
      "Parsing v2 and nan\n",
      "Не кликнулось, addr='тер-ия Надымского и Тазовского р-нов ЯНАО, Северо-Ямбургский ЛУ '\n",
      "results=[(61.166542, 75.967595), '68.486525,73.557826', (59.942462, 30.370567), (55.654198, 37.55602), 'nan', '66.024437,57.547413', 'nan', (55.074113, 61.327796), (51.764927, 55.10292), (63.790542, 74.541717), (56.728178, 61.359434), (64.480468, 40.731196), 'nan', (59.598925, 60.544088), (56.558869, 84.922927), (61.037321, 76.083226), (57.164744, 65.84978), '63.203882,75.439467', 'nan', 'nan', (50.79968, 40.624943), (55.074113, 61.327796), (58.054203, 63.664233), 'nan', (55.274857, 61.401458), (55.708577, 37.806156), (55.086425, 73.233007), (57.141984, 65.598692), (57.148424, 65.558933), (61.004008, 69.03756), (56.112312, 69.501171), (59.932703, 30.29818), (57.569672, 39.805213), (59.961219, 30.368617), (53.213526, 34.182738), (64.751575, 77.354073), (46.446839, 41.612749), (55.858544, 37.685889), (55.166248, 61.410396), (57.158052, 65.509759), (57.569363, 39.935801), (71.179568, 66.8644), (57.018884, 40.990046), (55.643896, 37.796939), (56.052572, 92.922937), (64.480468, 40.731196), (57.926741, 59.990923), (59.92878, 30.440411), (58.519737, 68.721865), (61.276375, 73.44456), 'nan', (65.930333, 78.177415), (67.47286, 78.701384), '67.474185,78.724820', (59.644145, 30.856798), (56.48464, 84.947649), 'nan', (62.549286, 65.648198), (61.00318, 69.018902), '67.470746,78.712259', (55.027325, 82.924768), (56.70335, 60.747843), (55.024585, 82.923583), (59.840216, 30.306256), (57.057866, 63.711044), (45.044635, 39.087162), (54.286471, 85.994276), (55.345022, 78.376895), (57.152384, 65.567152), (59.92901, 30.387823), (56.105636, 69.527546), (57.123842, 65.606319), (51.779841, 55.152184), (61.031282, 76.121521), (63.192228, 75.436763), (54.502878, 36.304801), (56.1726, 91.408171), (51.768099, 55.109541), '45.261029,39.013357', (54.989936, 73.377941), (57.933465, 59.997355), (56.822607, 60.651751), (59.930232, 30.253426), (55.858544, 37.685889), (68.989232, 33.156359), (46.446839, 41.612749), (55.061462, 73.250003), (53.366057, 83.799844), (56.807304, 60.409736), (56.479386, 44.074986), (56.645965, 60.551876), (56.817858, 60.516294), (55.969088, 37.472144), (53.734592, 87.158367), (55.324135, 85.966284), (57.018884, 40.990046), (45.044635, 39.087162), (59.80053, 30.326118), (57.057866, 63.711044), (56.90722, 74.349909), 'nan']\n",
      "results=[(61.166542, 75.967595), '68.486525,73.557826', (59.942462, 30.370567), (55.654198, 37.55602), 'nan', '66.024437,57.547413', 'nan', (55.074113, 61.327796), (51.764927, 55.10292), (63.790542, 74.541717), (56.728178, 61.359434), (64.480468, 40.731196), 'nan', (59.598925, 60.544088), (56.558869, 84.922927), (61.037321, 76.083226), (57.164744, 65.84978), '63.203882,75.439467', 'nan', 'nan', (50.79968, 40.624943), (55.074113, 61.327796), (58.054203, 63.664233), 'nan', (55.274857, 61.401458), (55.708577, 37.806156), (55.086425, 73.233007), (57.141984, 65.598692), (57.148424, 65.558933), (61.004008, 69.03756), (56.112312, 69.501171), (59.932703, 30.29818), (57.569672, 39.805213), (59.961219, 30.368617), (53.213526, 34.182738), (64.751575, 77.354073), (46.446839, 41.612749), (55.858544, 37.685889), (55.166248, 61.410396), (57.158052, 65.509759), (57.569363, 39.935801), (71.179568, 66.8644), (57.018884, 40.990046), (55.643896, 37.796939), (56.052572, 92.922937), (64.480468, 40.731196), (57.926741, 59.990923), (59.92878, 30.440411), (58.519737, 68.721865), (61.276375, 73.44456), 'nan', (65.930333, 78.177415), (67.47286, 78.701384), '67.474185,78.724820', (59.644145, 30.856798), (56.48464, 84.947649), 'nan', (62.549286, 65.648198), (61.00318, 69.018902), '67.470746,78.712259', (55.027325, 82.924768), (56.70335, 60.747843), (55.024585, 82.923583), (59.840216, 30.306256), (57.057866, 63.711044), (45.044635, 39.087162), (54.286471, 85.994276), (55.345022, 78.376895), (57.152384, 65.567152), (59.92901, 30.387823), (56.105636, 69.527546), (57.123842, 65.606319), (51.779841, 55.152184), (61.031282, 76.121521), (63.192228, 75.436763), (54.502878, 36.304801), (56.1726, 91.408171), (51.768099, 55.109541), '45.261029,39.013357', (54.989936, 73.377941), (57.933465, 59.997355), (56.822607, 60.651751), (59.930232, 30.253426), (55.858544, 37.685889), (68.989232, 33.156359), (46.446839, 41.612749), (55.061462, 73.250003), (53.366057, 83.799844), (56.807304, 60.409736), (56.479386, 44.074986), (56.645965, 60.551876), (56.817858, 60.516294), (55.969088, 37.472144), (53.734592, 87.158367), (55.324135, 85.966284), (57.018884, 40.990046), (45.044635, 39.087162), (59.80053, 30.326118), (57.057866, 63.711044), (56.90722, 74.349909), 'nan', (59.930597, 30.306274)]\n",
      "Parsing v2 and nan\n",
      "results=[(61.166542, 75.967595), '68.486525,73.557826', (59.942462, 30.370567), (55.654198, 37.55602), 'nan', '66.024437,57.547413', 'nan', (55.074113, 61.327796), (51.764927, 55.10292), (63.790542, 74.541717), (56.728178, 61.359434), (64.480468, 40.731196), 'nan', (59.598925, 60.544088), (56.558869, 84.922927), (61.037321, 76.083226), (57.164744, 65.84978), '63.203882,75.439467', 'nan', 'nan', (50.79968, 40.624943), (55.074113, 61.327796), (58.054203, 63.664233), 'nan', (55.274857, 61.401458), (55.708577, 37.806156), (55.086425, 73.233007), (57.141984, 65.598692), (57.148424, 65.558933), (61.004008, 69.03756), (56.112312, 69.501171), (59.932703, 30.29818), (57.569672, 39.805213), (59.961219, 30.368617), (53.213526, 34.182738), (64.751575, 77.354073), (46.446839, 41.612749), (55.858544, 37.685889), (55.166248, 61.410396), (57.158052, 65.509759), (57.569363, 39.935801), (71.179568, 66.8644), (57.018884, 40.990046), (55.643896, 37.796939), (56.052572, 92.922937), (64.480468, 40.731196), (57.926741, 59.990923), (59.92878, 30.440411), (58.519737, 68.721865), (61.276375, 73.44456), 'nan', (65.930333, 78.177415), (67.47286, 78.701384), '67.474185,78.724820', (59.644145, 30.856798), (56.48464, 84.947649), 'nan', (62.549286, 65.648198), (61.00318, 69.018902), '67.470746,78.712259', (55.027325, 82.924768), (56.70335, 60.747843), (55.024585, 82.923583), (59.840216, 30.306256), (57.057866, 63.711044), (45.044635, 39.087162), (54.286471, 85.994276), (55.345022, 78.376895), (57.152384, 65.567152), (59.92901, 30.387823), (56.105636, 69.527546), (57.123842, 65.606319), (51.779841, 55.152184), (61.031282, 76.121521), (63.192228, 75.436763), (54.502878, 36.304801), (56.1726, 91.408171), (51.768099, 55.109541), '45.261029,39.013357', (54.989936, 73.377941), (57.933465, 59.997355), (56.822607, 60.651751), (59.930232, 30.253426), (55.858544, 37.685889), (68.989232, 33.156359), (46.446839, 41.612749), (55.061462, 73.250003), (53.366057, 83.799844), (56.807304, 60.409736), (56.479386, 44.074986), (56.645965, 60.551876), (56.817858, 60.516294), (55.969088, 37.472144), (53.734592, 87.158367), (55.324135, 85.966284), (57.018884, 40.990046), (45.044635, 39.087162), (59.80053, 30.326118), (57.057866, 63.711044), (56.90722, 74.349909), 'nan', (59.930597, 30.306274)]\n",
      "Parsing v2 and nan\n",
      "results=[(61.166542, 75.967595), '68.486525,73.557826', (59.942462, 30.370567), (55.654198, 37.55602), 'nan', '66.024437,57.547413', 'nan', (55.074113, 61.327796), (51.764927, 55.10292), (63.790542, 74.541717), (56.728178, 61.359434), (64.480468, 40.731196), 'nan', (59.598925, 60.544088), (56.558869, 84.922927), (61.037321, 76.083226), (57.164744, 65.84978), '63.203882,75.439467', 'nan', 'nan', (50.79968, 40.624943), (55.074113, 61.327796), (58.054203, 63.664233), 'nan', (55.274857, 61.401458), (55.708577, 37.806156), (55.086425, 73.233007), (57.141984, 65.598692), (57.148424, 65.558933), (61.004008, 69.03756), (56.112312, 69.501171), (59.932703, 30.29818), (57.569672, 39.805213), (59.961219, 30.368617), (53.213526, 34.182738), (64.751575, 77.354073), (46.446839, 41.612749), (55.858544, 37.685889), (55.166248, 61.410396), (57.158052, 65.509759), (57.569363, 39.935801), (71.179568, 66.8644), (57.018884, 40.990046), (55.643896, 37.796939), (56.052572, 92.922937), (64.480468, 40.731196), (57.926741, 59.990923), (59.92878, 30.440411), (58.519737, 68.721865), (61.276375, 73.44456), 'nan', (65.930333, 78.177415), (67.47286, 78.701384), '67.474185,78.724820', (59.644145, 30.856798), (56.48464, 84.947649), 'nan', (62.549286, 65.648198), (61.00318, 69.018902), '67.470746,78.712259', (55.027325, 82.924768), (56.70335, 60.747843), (55.024585, 82.923583), (59.840216, 30.306256), (57.057866, 63.711044), (45.044635, 39.087162), (54.286471, 85.994276), (55.345022, 78.376895), (57.152384, 65.567152), (59.92901, 30.387823), (56.105636, 69.527546), (57.123842, 65.606319), (51.779841, 55.152184), (61.031282, 76.121521), (63.192228, 75.436763), (54.502878, 36.304801), (56.1726, 91.408171), (51.768099, 55.109541), '45.261029,39.013357', (54.989936, 73.377941), (57.933465, 59.997355), (56.822607, 60.651751), (59.930232, 30.253426), (55.858544, 37.685889), (68.989232, 33.156359), (46.446839, 41.612749), (55.061462, 73.250003), (53.366057, 83.799844), (56.807304, 60.409736), (56.479386, 44.074986), (56.645965, 60.551876), (56.817858, 60.516294), (55.969088, 37.472144), (53.734592, 87.158367), (55.324135, 85.966284), (57.018884, 40.990046), (45.044635, 39.087162), (59.80053, 30.326118), (57.057866, 63.711044), (56.90722, 74.349909), 'nan', (59.930597, 30.306274)]\n",
      "Parsing v2 and nan\n",
      "Не кликнулось, addr='454901, Челябинская обл., п. Федоровка, ул. Асфальтная, д. 7 '\n",
      "results=[(61.166542, 75.967595), '68.486525,73.557826', (59.942462, 30.370567), (55.654198, 37.55602), 'nan', '66.024437,57.547413', 'nan', (55.074113, 61.327796), (51.764927, 55.10292), (63.790542, 74.541717), (56.728178, 61.359434), (64.480468, 40.731196), 'nan', (59.598925, 60.544088), (56.558869, 84.922927), (61.037321, 76.083226), (57.164744, 65.84978), '63.203882,75.439467', 'nan', 'nan', (50.79968, 40.624943), (55.074113, 61.327796), (58.054203, 63.664233), 'nan', (55.274857, 61.401458), (55.708577, 37.806156), (55.086425, 73.233007), (57.141984, 65.598692), (57.148424, 65.558933), (61.004008, 69.03756), (56.112312, 69.501171), (59.932703, 30.29818), (57.569672, 39.805213), (59.961219, 30.368617), (53.213526, 34.182738), (64.751575, 77.354073), (46.446839, 41.612749), (55.858544, 37.685889), (55.166248, 61.410396), (57.158052, 65.509759), (57.569363, 39.935801), (71.179568, 66.8644), (57.018884, 40.990046), (55.643896, 37.796939), (56.052572, 92.922937), (64.480468, 40.731196), (57.926741, 59.990923), (59.92878, 30.440411), (58.519737, 68.721865), (61.276375, 73.44456), 'nan', (65.930333, 78.177415), (67.47286, 78.701384), '67.474185,78.724820', (59.644145, 30.856798), (56.48464, 84.947649), 'nan', (62.549286, 65.648198), (61.00318, 69.018902), '67.470746,78.712259', (55.027325, 82.924768), (56.70335, 60.747843), (55.024585, 82.923583), (59.840216, 30.306256), (57.057866, 63.711044), (45.044635, 39.087162), (54.286471, 85.994276), (55.345022, 78.376895), (57.152384, 65.567152), (59.92901, 30.387823), (56.105636, 69.527546), (57.123842, 65.606319), (51.779841, 55.152184), (61.031282, 76.121521), (63.192228, 75.436763), (54.502878, 36.304801), (56.1726, 91.408171), (51.768099, 55.109541), '45.261029,39.013357', (54.989936, 73.377941), (57.933465, 59.997355), (56.822607, 60.651751), (59.930232, 30.253426), (55.858544, 37.685889), (68.989232, 33.156359), (46.446839, 41.612749), (55.061462, 73.250003), (53.366057, 83.799844), (56.807304, 60.409736), (56.479386, 44.074986), (56.645965, 60.551876), (56.817858, 60.516294), (55.969088, 37.472144), (53.734592, 87.158367), (55.324135, 85.966284), (57.018884, 40.990046), (45.044635, 39.087162), (59.80053, 30.326118), (57.057866, 63.711044), (56.90722, 74.349909), 'nan', (59.930597, 30.306274), 'nan']\n",
      "Parsing v2 and nan\n",
      "Не кликнулось, addr='184355, Мурманская обл., Кольский р-н, пгт.Мурмаши, аэропорт'\n",
      "results=[(61.166542, 75.967595), '68.486525,73.557826', (59.942462, 30.370567), (55.654198, 37.55602), 'nan', '66.024437,57.547413', 'nan', (55.074113, 61.327796), (51.764927, 55.10292), (63.790542, 74.541717), (56.728178, 61.359434), (64.480468, 40.731196), 'nan', (59.598925, 60.544088), (56.558869, 84.922927), (61.037321, 76.083226), (57.164744, 65.84978), '63.203882,75.439467', 'nan', 'nan', (50.79968, 40.624943), (55.074113, 61.327796), (58.054203, 63.664233), 'nan', (55.274857, 61.401458), (55.708577, 37.806156), (55.086425, 73.233007), (57.141984, 65.598692), (57.148424, 65.558933), (61.004008, 69.03756), (56.112312, 69.501171), (59.932703, 30.29818), (57.569672, 39.805213), (59.961219, 30.368617), (53.213526, 34.182738), (64.751575, 77.354073), (46.446839, 41.612749), (55.858544, 37.685889), (55.166248, 61.410396), (57.158052, 65.509759), (57.569363, 39.935801), (71.179568, 66.8644), (57.018884, 40.990046), (55.643896, 37.796939), (56.052572, 92.922937), (64.480468, 40.731196), (57.926741, 59.990923), (59.92878, 30.440411), (58.519737, 68.721865), (61.276375, 73.44456), 'nan', (65.930333, 78.177415), (67.47286, 78.701384), '67.474185,78.724820', (59.644145, 30.856798), (56.48464, 84.947649), 'nan', (62.549286, 65.648198), (61.00318, 69.018902), '67.470746,78.712259', (55.027325, 82.924768), (56.70335, 60.747843), (55.024585, 82.923583), (59.840216, 30.306256), (57.057866, 63.711044), (45.044635, 39.087162), (54.286471, 85.994276), (55.345022, 78.376895), (57.152384, 65.567152), (59.92901, 30.387823), (56.105636, 69.527546), (57.123842, 65.606319), (51.779841, 55.152184), (61.031282, 76.121521), (63.192228, 75.436763), (54.502878, 36.304801), (56.1726, 91.408171), (51.768099, 55.109541), '45.261029,39.013357', (54.989936, 73.377941), (57.933465, 59.997355), (56.822607, 60.651751), (59.930232, 30.253426), (55.858544, 37.685889), (68.989232, 33.156359), (46.446839, 41.612749), (55.061462, 73.250003), (53.366057, 83.799844), (56.807304, 60.409736), (56.479386, 44.074986), (56.645965, 60.551876), (56.817858, 60.516294), (55.969088, 37.472144), (53.734592, 87.158367), (55.324135, 85.966284), (57.018884, 40.990046), (45.044635, 39.087162), (59.80053, 30.326118), (57.057866, 63.711044), (56.90722, 74.349909), 'nan', (59.930597, 30.306274), 'nan', 'nan']\n",
      "results=[(61.166542, 75.967595), '68.486525,73.557826', (59.942462, 30.370567), (55.654198, 37.55602), 'nan', '66.024437,57.547413', 'nan', (55.074113, 61.327796), (51.764927, 55.10292), (63.790542, 74.541717), (56.728178, 61.359434), (64.480468, 40.731196), 'nan', (59.598925, 60.544088), (56.558869, 84.922927), (61.037321, 76.083226), (57.164744, 65.84978), '63.203882,75.439467', 'nan', 'nan', (50.79968, 40.624943), (55.074113, 61.327796), (58.054203, 63.664233), 'nan', (55.274857, 61.401458), (55.708577, 37.806156), (55.086425, 73.233007), (57.141984, 65.598692), (57.148424, 65.558933), (61.004008, 69.03756), (56.112312, 69.501171), (59.932703, 30.29818), (57.569672, 39.805213), (59.961219, 30.368617), (53.213526, 34.182738), (64.751575, 77.354073), (46.446839, 41.612749), (55.858544, 37.685889), (55.166248, 61.410396), (57.158052, 65.509759), (57.569363, 39.935801), (71.179568, 66.8644), (57.018884, 40.990046), (55.643896, 37.796939), (56.052572, 92.922937), (64.480468, 40.731196), (57.926741, 59.990923), (59.92878, 30.440411), (58.519737, 68.721865), (61.276375, 73.44456), 'nan', (65.930333, 78.177415), (67.47286, 78.701384), '67.474185,78.724820', (59.644145, 30.856798), (56.48464, 84.947649), 'nan', (62.549286, 65.648198), (61.00318, 69.018902), '67.470746,78.712259', (55.027325, 82.924768), (56.70335, 60.747843), (55.024585, 82.923583), (59.840216, 30.306256), (57.057866, 63.711044), (45.044635, 39.087162), (54.286471, 85.994276), (55.345022, 78.376895), (57.152384, 65.567152), (59.92901, 30.387823), (56.105636, 69.527546), (57.123842, 65.606319), (51.779841, 55.152184), (61.031282, 76.121521), (63.192228, 75.436763), (54.502878, 36.304801), (56.1726, 91.408171), (51.768099, 55.109541), '45.261029,39.013357', (54.989936, 73.377941), (57.933465, 59.997355), (56.822607, 60.651751), (59.930232, 30.253426), (55.858544, 37.685889), (68.989232, 33.156359), (46.446839, 41.612749), (55.061462, 73.250003), (53.366057, 83.799844), (56.807304, 60.409736), (56.479386, 44.074986), (56.645965, 60.551876), (56.817858, 60.516294), (55.969088, 37.472144), (53.734592, 87.158367), (55.324135, 85.966284), (57.018884, 40.990046), (45.044635, 39.087162), (59.80053, 30.326118), (57.057866, 63.711044), (56.90722, 74.349909), 'nan', (59.930597, 30.306274), 'nan', 'nan', (50.735738, 86.935225)]\n",
      "results=[(61.166542, 75.967595), '68.486525,73.557826', (59.942462, 30.370567), (55.654198, 37.55602), 'nan', '66.024437,57.547413', 'nan', (55.074113, 61.327796), (51.764927, 55.10292), (63.790542, 74.541717), (56.728178, 61.359434), (64.480468, 40.731196), 'nan', (59.598925, 60.544088), (56.558869, 84.922927), (61.037321, 76.083226), (57.164744, 65.84978), '63.203882,75.439467', 'nan', 'nan', (50.79968, 40.624943), (55.074113, 61.327796), (58.054203, 63.664233), 'nan', (55.274857, 61.401458), (55.708577, 37.806156), (55.086425, 73.233007), (57.141984, 65.598692), (57.148424, 65.558933), (61.004008, 69.03756), (56.112312, 69.501171), (59.932703, 30.29818), (57.569672, 39.805213), (59.961219, 30.368617), (53.213526, 34.182738), (64.751575, 77.354073), (46.446839, 41.612749), (55.858544, 37.685889), (55.166248, 61.410396), (57.158052, 65.509759), (57.569363, 39.935801), (71.179568, 66.8644), (57.018884, 40.990046), (55.643896, 37.796939), (56.052572, 92.922937), (64.480468, 40.731196), (57.926741, 59.990923), (59.92878, 30.440411), (58.519737, 68.721865), (61.276375, 73.44456), 'nan', (65.930333, 78.177415), (67.47286, 78.701384), '67.474185,78.724820', (59.644145, 30.856798), (56.48464, 84.947649), 'nan', (62.549286, 65.648198), (61.00318, 69.018902), '67.470746,78.712259', (55.027325, 82.924768), (56.70335, 60.747843), (55.024585, 82.923583), (59.840216, 30.306256), (57.057866, 63.711044), (45.044635, 39.087162), (54.286471, 85.994276), (55.345022, 78.376895), (57.152384, 65.567152), (59.92901, 30.387823), (56.105636, 69.527546), (57.123842, 65.606319), (51.779841, 55.152184), (61.031282, 76.121521), (63.192228, 75.436763), (54.502878, 36.304801), (56.1726, 91.408171), (51.768099, 55.109541), '45.261029,39.013357', (54.989936, 73.377941), (57.933465, 59.997355), (56.822607, 60.651751), (59.930232, 30.253426), (55.858544, 37.685889), (68.989232, 33.156359), (46.446839, 41.612749), (55.061462, 73.250003), (53.366057, 83.799844), (56.807304, 60.409736), (56.479386, 44.074986), (56.645965, 60.551876), (56.817858, 60.516294), (55.969088, 37.472144), (53.734592, 87.158367), (55.324135, 85.966284), (57.018884, 40.990046), (45.044635, 39.087162), (59.80053, 30.326118), (57.057866, 63.711044), (56.90722, 74.349909), 'nan', (59.930597, 30.306274), 'nan', 'nan', (50.735738, 86.935225), (52.708819, 41.391161)]\n",
      "Parsing v2 and nan\n",
      "go back\n",
      "results=[(61.166542, 75.967595), '68.486525,73.557826', (59.942462, 30.370567), (55.654198, 37.55602), 'nan', '66.024437,57.547413', 'nan', (55.074113, 61.327796), (51.764927, 55.10292), (63.790542, 74.541717), (56.728178, 61.359434), (64.480468, 40.731196), 'nan', (59.598925, 60.544088), (56.558869, 84.922927), (61.037321, 76.083226), (57.164744, 65.84978), '63.203882,75.439467', 'nan', 'nan', (50.79968, 40.624943), (55.074113, 61.327796), (58.054203, 63.664233), 'nan', (55.274857, 61.401458), (55.708577, 37.806156), (55.086425, 73.233007), (57.141984, 65.598692), (57.148424, 65.558933), (61.004008, 69.03756), (56.112312, 69.501171), (59.932703, 30.29818), (57.569672, 39.805213), (59.961219, 30.368617), (53.213526, 34.182738), (64.751575, 77.354073), (46.446839, 41.612749), (55.858544, 37.685889), (55.166248, 61.410396), (57.158052, 65.509759), (57.569363, 39.935801), (71.179568, 66.8644), (57.018884, 40.990046), (55.643896, 37.796939), (56.052572, 92.922937), (64.480468, 40.731196), (57.926741, 59.990923), (59.92878, 30.440411), (58.519737, 68.721865), (61.276375, 73.44456), 'nan', (65.930333, 78.177415), (67.47286, 78.701384), '67.474185,78.724820', (59.644145, 30.856798), (56.48464, 84.947649), 'nan', (62.549286, 65.648198), (61.00318, 69.018902), '67.470746,78.712259', (55.027325, 82.924768), (56.70335, 60.747843), (55.024585, 82.923583), (59.840216, 30.306256), (57.057866, 63.711044), (45.044635, 39.087162), (54.286471, 85.994276), (55.345022, 78.376895), (57.152384, 65.567152), (59.92901, 30.387823), (56.105636, 69.527546), (57.123842, 65.606319), (51.779841, 55.152184), (61.031282, 76.121521), (63.192228, 75.436763), (54.502878, 36.304801), (56.1726, 91.408171), (51.768099, 55.109541), '45.261029,39.013357', (54.989936, 73.377941), (57.933465, 59.997355), (56.822607, 60.651751), (59.930232, 30.253426), (55.858544, 37.685889), (68.989232, 33.156359), (46.446839, 41.612749), (55.061462, 73.250003), (53.366057, 83.799844), (56.807304, 60.409736), (56.479386, 44.074986), (56.645965, 60.551876), (56.817858, 60.516294), (55.969088, 37.472144), (53.734592, 87.158367), (55.324135, 85.966284), (57.018884, 40.990046), (45.044635, 39.087162), (59.80053, 30.326118), (57.057866, 63.711044), (56.90722, 74.349909), 'nan', (59.930597, 30.306274), 'nan', 'nan', (50.735738, 86.935225), (52.708819, 41.391161), '55.061524,73.250209']\n",
      "Parsing v2 and nan\n",
      "Не кликнулось, addr='ст. Нартовая, Свердловской ж/д код 799313, п/п \"ГазНефтеХолдинг\" '\n",
      "results=[(61.166542, 75.967595), '68.486525,73.557826', (59.942462, 30.370567), (55.654198, 37.55602), 'nan', '66.024437,57.547413', 'nan', (55.074113, 61.327796), (51.764927, 55.10292), (63.790542, 74.541717), (56.728178, 61.359434), (64.480468, 40.731196), 'nan', (59.598925, 60.544088), (56.558869, 84.922927), (61.037321, 76.083226), (57.164744, 65.84978), '63.203882,75.439467', 'nan', 'nan', (50.79968, 40.624943), (55.074113, 61.327796), (58.054203, 63.664233), 'nan', (55.274857, 61.401458), (55.708577, 37.806156), (55.086425, 73.233007), (57.141984, 65.598692), (57.148424, 65.558933), (61.004008, 69.03756), (56.112312, 69.501171), (59.932703, 30.29818), (57.569672, 39.805213), (59.961219, 30.368617), (53.213526, 34.182738), (64.751575, 77.354073), (46.446839, 41.612749), (55.858544, 37.685889), (55.166248, 61.410396), (57.158052, 65.509759), (57.569363, 39.935801), (71.179568, 66.8644), (57.018884, 40.990046), (55.643896, 37.796939), (56.052572, 92.922937), (64.480468, 40.731196), (57.926741, 59.990923), (59.92878, 30.440411), (58.519737, 68.721865), (61.276375, 73.44456), 'nan', (65.930333, 78.177415), (67.47286, 78.701384), '67.474185,78.724820', (59.644145, 30.856798), (56.48464, 84.947649), 'nan', (62.549286, 65.648198), (61.00318, 69.018902), '67.470746,78.712259', (55.027325, 82.924768), (56.70335, 60.747843), (55.024585, 82.923583), (59.840216, 30.306256), (57.057866, 63.711044), (45.044635, 39.087162), (54.286471, 85.994276), (55.345022, 78.376895), (57.152384, 65.567152), (59.92901, 30.387823), (56.105636, 69.527546), (57.123842, 65.606319), (51.779841, 55.152184), (61.031282, 76.121521), (63.192228, 75.436763), (54.502878, 36.304801), (56.1726, 91.408171), (51.768099, 55.109541), '45.261029,39.013357', (54.989936, 73.377941), (57.933465, 59.997355), (56.822607, 60.651751), (59.930232, 30.253426), (55.858544, 37.685889), (68.989232, 33.156359), (46.446839, 41.612749), (55.061462, 73.250003), (53.366057, 83.799844), (56.807304, 60.409736), (56.479386, 44.074986), (56.645965, 60.551876), (56.817858, 60.516294), (55.969088, 37.472144), (53.734592, 87.158367), (55.324135, 85.966284), (57.018884, 40.990046), (45.044635, 39.087162), (59.80053, 30.326118), (57.057866, 63.711044), (56.90722, 74.349909), 'nan', (59.930597, 30.306274), 'nan', 'nan', (50.735738, 86.935225), (52.708819, 41.391161), '55.061524,73.250209', 'nan']\n",
      "Parsing v2 and nan\n",
      "Не кликнулось, addr='184355, Мурманская обл., Кольский р-н, пгт. Мурмаши, Аэоропорт '\n",
      "results=[(61.166542, 75.967595), '68.486525,73.557826', (59.942462, 30.370567), (55.654198, 37.55602), 'nan', '66.024437,57.547413', 'nan', (55.074113, 61.327796), (51.764927, 55.10292), (63.790542, 74.541717), (56.728178, 61.359434), (64.480468, 40.731196), 'nan', (59.598925, 60.544088), (56.558869, 84.922927), (61.037321, 76.083226), (57.164744, 65.84978), '63.203882,75.439467', 'nan', 'nan', (50.79968, 40.624943), (55.074113, 61.327796), (58.054203, 63.664233), 'nan', (55.274857, 61.401458), (55.708577, 37.806156), (55.086425, 73.233007), (57.141984, 65.598692), (57.148424, 65.558933), (61.004008, 69.03756), (56.112312, 69.501171), (59.932703, 30.29818), (57.569672, 39.805213), (59.961219, 30.368617), (53.213526, 34.182738), (64.751575, 77.354073), (46.446839, 41.612749), (55.858544, 37.685889), (55.166248, 61.410396), (57.158052, 65.509759), (57.569363, 39.935801), (71.179568, 66.8644), (57.018884, 40.990046), (55.643896, 37.796939), (56.052572, 92.922937), (64.480468, 40.731196), (57.926741, 59.990923), (59.92878, 30.440411), (58.519737, 68.721865), (61.276375, 73.44456), 'nan', (65.930333, 78.177415), (67.47286, 78.701384), '67.474185,78.724820', (59.644145, 30.856798), (56.48464, 84.947649), 'nan', (62.549286, 65.648198), (61.00318, 69.018902), '67.470746,78.712259', (55.027325, 82.924768), (56.70335, 60.747843), (55.024585, 82.923583), (59.840216, 30.306256), (57.057866, 63.711044), (45.044635, 39.087162), (54.286471, 85.994276), (55.345022, 78.376895), (57.152384, 65.567152), (59.92901, 30.387823), (56.105636, 69.527546), (57.123842, 65.606319), (51.779841, 55.152184), (61.031282, 76.121521), (63.192228, 75.436763), (54.502878, 36.304801), (56.1726, 91.408171), (51.768099, 55.109541), '45.261029,39.013357', (54.989936, 73.377941), (57.933465, 59.997355), (56.822607, 60.651751), (59.930232, 30.253426), (55.858544, 37.685889), (68.989232, 33.156359), (46.446839, 41.612749), (55.061462, 73.250003), (53.366057, 83.799844), (56.807304, 60.409736), (56.479386, 44.074986), (56.645965, 60.551876), (56.817858, 60.516294), (55.969088, 37.472144), (53.734592, 87.158367), (55.324135, 85.966284), (57.018884, 40.990046), (45.044635, 39.087162), (59.80053, 30.326118), (57.057866, 63.711044), (56.90722, 74.349909), 'nan', (59.930597, 30.306274), 'nan', 'nan', (50.735738, 86.935225), (52.708819, 41.391161), '55.061524,73.250209', 'nan', 'nan']\n",
      "results=[(61.166542, 75.967595), '68.486525,73.557826', (59.942462, 30.370567), (55.654198, 37.55602), 'nan', '66.024437,57.547413', 'nan', (55.074113, 61.327796), (51.764927, 55.10292), (63.790542, 74.541717), (56.728178, 61.359434), (64.480468, 40.731196), 'nan', (59.598925, 60.544088), (56.558869, 84.922927), (61.037321, 76.083226), (57.164744, 65.84978), '63.203882,75.439467', 'nan', 'nan', (50.79968, 40.624943), (55.074113, 61.327796), (58.054203, 63.664233), 'nan', (55.274857, 61.401458), (55.708577, 37.806156), (55.086425, 73.233007), (57.141984, 65.598692), (57.148424, 65.558933), (61.004008, 69.03756), (56.112312, 69.501171), (59.932703, 30.29818), (57.569672, 39.805213), (59.961219, 30.368617), (53.213526, 34.182738), (64.751575, 77.354073), (46.446839, 41.612749), (55.858544, 37.685889), (55.166248, 61.410396), (57.158052, 65.509759), (57.569363, 39.935801), (71.179568, 66.8644), (57.018884, 40.990046), (55.643896, 37.796939), (56.052572, 92.922937), (64.480468, 40.731196), (57.926741, 59.990923), (59.92878, 30.440411), (58.519737, 68.721865), (61.276375, 73.44456), 'nan', (65.930333, 78.177415), (67.47286, 78.701384), '67.474185,78.724820', (59.644145, 30.856798), (56.48464, 84.947649), 'nan', (62.549286, 65.648198), (61.00318, 69.018902), '67.470746,78.712259', (55.027325, 82.924768), (56.70335, 60.747843), (55.024585, 82.923583), (59.840216, 30.306256), (57.057866, 63.711044), (45.044635, 39.087162), (54.286471, 85.994276), (55.345022, 78.376895), (57.152384, 65.567152), (59.92901, 30.387823), (56.105636, 69.527546), (57.123842, 65.606319), (51.779841, 55.152184), (61.031282, 76.121521), (63.192228, 75.436763), (54.502878, 36.304801), (56.1726, 91.408171), (51.768099, 55.109541), '45.261029,39.013357', (54.989936, 73.377941), (57.933465, 59.997355), (56.822607, 60.651751), (59.930232, 30.253426), (55.858544, 37.685889), (68.989232, 33.156359), (46.446839, 41.612749), (55.061462, 73.250003), (53.366057, 83.799844), (56.807304, 60.409736), (56.479386, 44.074986), (56.645965, 60.551876), (56.817858, 60.516294), (55.969088, 37.472144), (53.734592, 87.158367), (55.324135, 85.966284), (57.018884, 40.990046), (45.044635, 39.087162), (59.80053, 30.326118), (57.057866, 63.711044), (56.90722, 74.349909), 'nan', (59.930597, 30.306274), 'nan', 'nan', (50.735738, 86.935225), (52.708819, 41.391161), '55.061524,73.250209', 'nan', 'nan', (67.84192, 166.14643)]\n",
      "results=[(61.166542, 75.967595), '68.486525,73.557826', (59.942462, 30.370567), (55.654198, 37.55602), 'nan', '66.024437,57.547413', 'nan', (55.074113, 61.327796), (51.764927, 55.10292), (63.790542, 74.541717), (56.728178, 61.359434), (64.480468, 40.731196), 'nan', (59.598925, 60.544088), (56.558869, 84.922927), (61.037321, 76.083226), (57.164744, 65.84978), '63.203882,75.439467', 'nan', 'nan', (50.79968, 40.624943), (55.074113, 61.327796), (58.054203, 63.664233), 'nan', (55.274857, 61.401458), (55.708577, 37.806156), (55.086425, 73.233007), (57.141984, 65.598692), (57.148424, 65.558933), (61.004008, 69.03756), (56.112312, 69.501171), (59.932703, 30.29818), (57.569672, 39.805213), (59.961219, 30.368617), (53.213526, 34.182738), (64.751575, 77.354073), (46.446839, 41.612749), (55.858544, 37.685889), (55.166248, 61.410396), (57.158052, 65.509759), (57.569363, 39.935801), (71.179568, 66.8644), (57.018884, 40.990046), (55.643896, 37.796939), (56.052572, 92.922937), (64.480468, 40.731196), (57.926741, 59.990923), (59.92878, 30.440411), (58.519737, 68.721865), (61.276375, 73.44456), 'nan', (65.930333, 78.177415), (67.47286, 78.701384), '67.474185,78.724820', (59.644145, 30.856798), (56.48464, 84.947649), 'nan', (62.549286, 65.648198), (61.00318, 69.018902), '67.470746,78.712259', (55.027325, 82.924768), (56.70335, 60.747843), (55.024585, 82.923583), (59.840216, 30.306256), (57.057866, 63.711044), (45.044635, 39.087162), (54.286471, 85.994276), (55.345022, 78.376895), (57.152384, 65.567152), (59.92901, 30.387823), (56.105636, 69.527546), (57.123842, 65.606319), (51.779841, 55.152184), (61.031282, 76.121521), (63.192228, 75.436763), (54.502878, 36.304801), (56.1726, 91.408171), (51.768099, 55.109541), '45.261029,39.013357', (54.989936, 73.377941), (57.933465, 59.997355), (56.822607, 60.651751), (59.930232, 30.253426), (55.858544, 37.685889), (68.989232, 33.156359), (46.446839, 41.612749), (55.061462, 73.250003), (53.366057, 83.799844), (56.807304, 60.409736), (56.479386, 44.074986), (56.645965, 60.551876), (56.817858, 60.516294), (55.969088, 37.472144), (53.734592, 87.158367), (55.324135, 85.966284), (57.018884, 40.990046), (45.044635, 39.087162), (59.80053, 30.326118), (57.057866, 63.711044), (56.90722, 74.349909), 'nan', (59.930597, 30.306274), 'nan', 'nan', (50.735738, 86.935225), (52.708819, 41.391161), '55.061524,73.250209', 'nan', 'nan', (67.84192, 166.14643), (56.016552, 92.872919)]\n",
      "Parsing v2 and nan\n",
      "go back\n",
      "results=[(61.166542, 75.967595), '68.486525,73.557826', (59.942462, 30.370567), (55.654198, 37.55602), 'nan', '66.024437,57.547413', 'nan', (55.074113, 61.327796), (51.764927, 55.10292), (63.790542, 74.541717), (56.728178, 61.359434), (64.480468, 40.731196), 'nan', (59.598925, 60.544088), (56.558869, 84.922927), (61.037321, 76.083226), (57.164744, 65.84978), '63.203882,75.439467', 'nan', 'nan', (50.79968, 40.624943), (55.074113, 61.327796), (58.054203, 63.664233), 'nan', (55.274857, 61.401458), (55.708577, 37.806156), (55.086425, 73.233007), (57.141984, 65.598692), (57.148424, 65.558933), (61.004008, 69.03756), (56.112312, 69.501171), (59.932703, 30.29818), (57.569672, 39.805213), (59.961219, 30.368617), (53.213526, 34.182738), (64.751575, 77.354073), (46.446839, 41.612749), (55.858544, 37.685889), (55.166248, 61.410396), (57.158052, 65.509759), (57.569363, 39.935801), (71.179568, 66.8644), (57.018884, 40.990046), (55.643896, 37.796939), (56.052572, 92.922937), (64.480468, 40.731196), (57.926741, 59.990923), (59.92878, 30.440411), (58.519737, 68.721865), (61.276375, 73.44456), 'nan', (65.930333, 78.177415), (67.47286, 78.701384), '67.474185,78.724820', (59.644145, 30.856798), (56.48464, 84.947649), 'nan', (62.549286, 65.648198), (61.00318, 69.018902), '67.470746,78.712259', (55.027325, 82.924768), (56.70335, 60.747843), (55.024585, 82.923583), (59.840216, 30.306256), (57.057866, 63.711044), (45.044635, 39.087162), (54.286471, 85.994276), (55.345022, 78.376895), (57.152384, 65.567152), (59.92901, 30.387823), (56.105636, 69.527546), (57.123842, 65.606319), (51.779841, 55.152184), (61.031282, 76.121521), (63.192228, 75.436763), (54.502878, 36.304801), (56.1726, 91.408171), (51.768099, 55.109541), '45.261029,39.013357', (54.989936, 73.377941), (57.933465, 59.997355), (56.822607, 60.651751), (59.930232, 30.253426), (55.858544, 37.685889), (68.989232, 33.156359), (46.446839, 41.612749), (55.061462, 73.250003), (53.366057, 83.799844), (56.807304, 60.409736), (56.479386, 44.074986), (56.645965, 60.551876), (56.817858, 60.516294), (55.969088, 37.472144), (53.734592, 87.158367), (55.324135, 85.966284), (57.018884, 40.990046), (45.044635, 39.087162), (59.80053, 30.326118), (57.057866, 63.711044), (56.90722, 74.349909), 'nan', (59.930597, 30.306274), 'nan', 'nan', (50.735738, 86.935225), (52.708819, 41.391161), '55.061524,73.250209', 'nan', 'nan', (67.84192, 166.14643), (56.016552, 92.872919), '63.197238,75.472805']\n",
      "results=[(61.166542, 75.967595), '68.486525,73.557826', (59.942462, 30.370567), (55.654198, 37.55602), 'nan', '66.024437,57.547413', 'nan', (55.074113, 61.327796), (51.764927, 55.10292), (63.790542, 74.541717), (56.728178, 61.359434), (64.480468, 40.731196), 'nan', (59.598925, 60.544088), (56.558869, 84.922927), (61.037321, 76.083226), (57.164744, 65.84978), '63.203882,75.439467', 'nan', 'nan', (50.79968, 40.624943), (55.074113, 61.327796), (58.054203, 63.664233), 'nan', (55.274857, 61.401458), (55.708577, 37.806156), (55.086425, 73.233007), (57.141984, 65.598692), (57.148424, 65.558933), (61.004008, 69.03756), (56.112312, 69.501171), (59.932703, 30.29818), (57.569672, 39.805213), (59.961219, 30.368617), (53.213526, 34.182738), (64.751575, 77.354073), (46.446839, 41.612749), (55.858544, 37.685889), (55.166248, 61.410396), (57.158052, 65.509759), (57.569363, 39.935801), (71.179568, 66.8644), (57.018884, 40.990046), (55.643896, 37.796939), (56.052572, 92.922937), (64.480468, 40.731196), (57.926741, 59.990923), (59.92878, 30.440411), (58.519737, 68.721865), (61.276375, 73.44456), 'nan', (65.930333, 78.177415), (67.47286, 78.701384), '67.474185,78.724820', (59.644145, 30.856798), (56.48464, 84.947649), 'nan', (62.549286, 65.648198), (61.00318, 69.018902), '67.470746,78.712259', (55.027325, 82.924768), (56.70335, 60.747843), (55.024585, 82.923583), (59.840216, 30.306256), (57.057866, 63.711044), (45.044635, 39.087162), (54.286471, 85.994276), (55.345022, 78.376895), (57.152384, 65.567152), (59.92901, 30.387823), (56.105636, 69.527546), (57.123842, 65.606319), (51.779841, 55.152184), (61.031282, 76.121521), (63.192228, 75.436763), (54.502878, 36.304801), (56.1726, 91.408171), (51.768099, 55.109541), '45.261029,39.013357', (54.989936, 73.377941), (57.933465, 59.997355), (56.822607, 60.651751), (59.930232, 30.253426), (55.858544, 37.685889), (68.989232, 33.156359), (46.446839, 41.612749), (55.061462, 73.250003), (53.366057, 83.799844), (56.807304, 60.409736), (56.479386, 44.074986), (56.645965, 60.551876), (56.817858, 60.516294), (55.969088, 37.472144), (53.734592, 87.158367), (55.324135, 85.966284), (57.018884, 40.990046), (45.044635, 39.087162), (59.80053, 30.326118), (57.057866, 63.711044), (56.90722, 74.349909), 'nan', (59.930597, 30.306274), 'nan', 'nan', (50.735738, 86.935225), (52.708819, 41.391161), '55.061524,73.250209', 'nan', 'nan', (67.84192, 166.14643), (56.016552, 92.872919), '63.197238,75.472805', (55.750586, 37.757153)]\n",
      "results=[(61.166542, 75.967595), '68.486525,73.557826', (59.942462, 30.370567), (55.654198, 37.55602), 'nan', '66.024437,57.547413', 'nan', (55.074113, 61.327796), (51.764927, 55.10292), (63.790542, 74.541717), (56.728178, 61.359434), (64.480468, 40.731196), 'nan', (59.598925, 60.544088), (56.558869, 84.922927), (61.037321, 76.083226), (57.164744, 65.84978), '63.203882,75.439467', 'nan', 'nan', (50.79968, 40.624943), (55.074113, 61.327796), (58.054203, 63.664233), 'nan', (55.274857, 61.401458), (55.708577, 37.806156), (55.086425, 73.233007), (57.141984, 65.598692), (57.148424, 65.558933), (61.004008, 69.03756), (56.112312, 69.501171), (59.932703, 30.29818), (57.569672, 39.805213), (59.961219, 30.368617), (53.213526, 34.182738), (64.751575, 77.354073), (46.446839, 41.612749), (55.858544, 37.685889), (55.166248, 61.410396), (57.158052, 65.509759), (57.569363, 39.935801), (71.179568, 66.8644), (57.018884, 40.990046), (55.643896, 37.796939), (56.052572, 92.922937), (64.480468, 40.731196), (57.926741, 59.990923), (59.92878, 30.440411), (58.519737, 68.721865), (61.276375, 73.44456), 'nan', (65.930333, 78.177415), (67.47286, 78.701384), '67.474185,78.724820', (59.644145, 30.856798), (56.48464, 84.947649), 'nan', (62.549286, 65.648198), (61.00318, 69.018902), '67.470746,78.712259', (55.027325, 82.924768), (56.70335, 60.747843), (55.024585, 82.923583), (59.840216, 30.306256), (57.057866, 63.711044), (45.044635, 39.087162), (54.286471, 85.994276), (55.345022, 78.376895), (57.152384, 65.567152), (59.92901, 30.387823), (56.105636, 69.527546), (57.123842, 65.606319), (51.779841, 55.152184), (61.031282, 76.121521), (63.192228, 75.436763), (54.502878, 36.304801), (56.1726, 91.408171), (51.768099, 55.109541), '45.261029,39.013357', (54.989936, 73.377941), (57.933465, 59.997355), (56.822607, 60.651751), (59.930232, 30.253426), (55.858544, 37.685889), (68.989232, 33.156359), (46.446839, 41.612749), (55.061462, 73.250003), (53.366057, 83.799844), (56.807304, 60.409736), (56.479386, 44.074986), (56.645965, 60.551876), (56.817858, 60.516294), (55.969088, 37.472144), (53.734592, 87.158367), (55.324135, 85.966284), (57.018884, 40.990046), (45.044635, 39.087162), (59.80053, 30.326118), (57.057866, 63.711044), (56.90722, 74.349909), 'nan', (59.930597, 30.306274), 'nan', 'nan', (50.735738, 86.935225), (52.708819, 41.391161), '55.061524,73.250209', 'nan', 'nan', (67.84192, 166.14643), (56.016552, 92.872919), '63.197238,75.472805', (55.750586, 37.757153), (69.79008, 170.605973)]\n",
      "results=[(61.166542, 75.967595), '68.486525,73.557826', (59.942462, 30.370567), (55.654198, 37.55602), 'nan', '66.024437,57.547413', 'nan', (55.074113, 61.327796), (51.764927, 55.10292), (63.790542, 74.541717), (56.728178, 61.359434), (64.480468, 40.731196), 'nan', (59.598925, 60.544088), (56.558869, 84.922927), (61.037321, 76.083226), (57.164744, 65.84978), '63.203882,75.439467', 'nan', 'nan', (50.79968, 40.624943), (55.074113, 61.327796), (58.054203, 63.664233), 'nan', (55.274857, 61.401458), (55.708577, 37.806156), (55.086425, 73.233007), (57.141984, 65.598692), (57.148424, 65.558933), (61.004008, 69.03756), (56.112312, 69.501171), (59.932703, 30.29818), (57.569672, 39.805213), (59.961219, 30.368617), (53.213526, 34.182738), (64.751575, 77.354073), (46.446839, 41.612749), (55.858544, 37.685889), (55.166248, 61.410396), (57.158052, 65.509759), (57.569363, 39.935801), (71.179568, 66.8644), (57.018884, 40.990046), (55.643896, 37.796939), (56.052572, 92.922937), (64.480468, 40.731196), (57.926741, 59.990923), (59.92878, 30.440411), (58.519737, 68.721865), (61.276375, 73.44456), 'nan', (65.930333, 78.177415), (67.47286, 78.701384), '67.474185,78.724820', (59.644145, 30.856798), (56.48464, 84.947649), 'nan', (62.549286, 65.648198), (61.00318, 69.018902), '67.470746,78.712259', (55.027325, 82.924768), (56.70335, 60.747843), (55.024585, 82.923583), (59.840216, 30.306256), (57.057866, 63.711044), (45.044635, 39.087162), (54.286471, 85.994276), (55.345022, 78.376895), (57.152384, 65.567152), (59.92901, 30.387823), (56.105636, 69.527546), (57.123842, 65.606319), (51.779841, 55.152184), (61.031282, 76.121521), (63.192228, 75.436763), (54.502878, 36.304801), (56.1726, 91.408171), (51.768099, 55.109541), '45.261029,39.013357', (54.989936, 73.377941), (57.933465, 59.997355), (56.822607, 60.651751), (59.930232, 30.253426), (55.858544, 37.685889), (68.989232, 33.156359), (46.446839, 41.612749), (55.061462, 73.250003), (53.366057, 83.799844), (56.807304, 60.409736), (56.479386, 44.074986), (56.645965, 60.551876), (56.817858, 60.516294), (55.969088, 37.472144), (53.734592, 87.158367), (55.324135, 85.966284), (57.018884, 40.990046), (45.044635, 39.087162), (59.80053, 30.326118), (57.057866, 63.711044), (56.90722, 74.349909), 'nan', (59.930597, 30.306274), 'nan', 'nan', (50.735738, 86.935225), (52.708819, 41.391161), '55.061524,73.250209', 'nan', 'nan', (67.84192, 166.14643), (56.016552, 92.872919), '63.197238,75.472805', (55.750586, 37.757153), (69.79008, 170.605973), (55.345022, 78.376895)]\n",
      "results=[(61.166542, 75.967595), '68.486525,73.557826', (59.942462, 30.370567), (55.654198, 37.55602), 'nan', '66.024437,57.547413', 'nan', (55.074113, 61.327796), (51.764927, 55.10292), (63.790542, 74.541717), (56.728178, 61.359434), (64.480468, 40.731196), 'nan', (59.598925, 60.544088), (56.558869, 84.922927), (61.037321, 76.083226), (57.164744, 65.84978), '63.203882,75.439467', 'nan', 'nan', (50.79968, 40.624943), (55.074113, 61.327796), (58.054203, 63.664233), 'nan', (55.274857, 61.401458), (55.708577, 37.806156), (55.086425, 73.233007), (57.141984, 65.598692), (57.148424, 65.558933), (61.004008, 69.03756), (56.112312, 69.501171), (59.932703, 30.29818), (57.569672, 39.805213), (59.961219, 30.368617), (53.213526, 34.182738), (64.751575, 77.354073), (46.446839, 41.612749), (55.858544, 37.685889), (55.166248, 61.410396), (57.158052, 65.509759), (57.569363, 39.935801), (71.179568, 66.8644), (57.018884, 40.990046), (55.643896, 37.796939), (56.052572, 92.922937), (64.480468, 40.731196), (57.926741, 59.990923), (59.92878, 30.440411), (58.519737, 68.721865), (61.276375, 73.44456), 'nan', (65.930333, 78.177415), (67.47286, 78.701384), '67.474185,78.724820', (59.644145, 30.856798), (56.48464, 84.947649), 'nan', (62.549286, 65.648198), (61.00318, 69.018902), '67.470746,78.712259', (55.027325, 82.924768), (56.70335, 60.747843), (55.024585, 82.923583), (59.840216, 30.306256), (57.057866, 63.711044), (45.044635, 39.087162), (54.286471, 85.994276), (55.345022, 78.376895), (57.152384, 65.567152), (59.92901, 30.387823), (56.105636, 69.527546), (57.123842, 65.606319), (51.779841, 55.152184), (61.031282, 76.121521), (63.192228, 75.436763), (54.502878, 36.304801), (56.1726, 91.408171), (51.768099, 55.109541), '45.261029,39.013357', (54.989936, 73.377941), (57.933465, 59.997355), (56.822607, 60.651751), (59.930232, 30.253426), (55.858544, 37.685889), (68.989232, 33.156359), (46.446839, 41.612749), (55.061462, 73.250003), (53.366057, 83.799844), (56.807304, 60.409736), (56.479386, 44.074986), (56.645965, 60.551876), (56.817858, 60.516294), (55.969088, 37.472144), (53.734592, 87.158367), (55.324135, 85.966284), (57.018884, 40.990046), (45.044635, 39.087162), (59.80053, 30.326118), (57.057866, 63.711044), (56.90722, 74.349909), 'nan', (59.930597, 30.306274), 'nan', 'nan', (50.735738, 86.935225), (52.708819, 41.391161), '55.061524,73.250209', 'nan', 'nan', (67.84192, 166.14643), (56.016552, 92.872919), '63.197238,75.472805', (55.750586, 37.757153), (69.79008, 170.605973), (55.345022, 78.376895), (64.716652, 177.73962)]\n"
     ]
    }
   ],
   "source": [
    "results = geopc.process_v2(buyer_address_iter)"
   ]
  },
  {
   "cell_type": "code",
   "execution_count": 138,
   "metadata": {},
   "outputs": [
    {
     "data": {
      "text/plain": [
       "(13, 116, 0.8879310344827587)"
      ]
     },
     "execution_count": 138,
     "metadata": {},
     "output_type": "execute_result"
    }
   ],
   "source": [
    "sum([i == 'nan' for i in results]), len(results), (len(results) - sum([i == 'nan' for i in results]))/len(results)"
   ]
  },
  {
   "cell_type": "code",
   "execution_count": 132,
   "metadata": {},
   "outputs": [
    {
     "data": {
      "text/plain": [
       "('5.83 секунды на адрес; ', '2.59 часа на датасет')"
      ]
     },
     "execution_count": 132,
     "metadata": {},
     "output_type": "execute_result"
    }
   ],
   "source": [
    "l = [(59.942462, 30.370567), 'nan', '51.131434,61.861566', (56.77668, 105.708721), (56.107614, 38.845192), (56.592407, 57.769856), (56.842551, 35.759937), 'nan', '60.952959,76.608819', (56.319479, 43.916523), (48.653916, 44.446368), (55.252347, 61.290138), 'nan', 'nan', 'nan', (69.028365, 33.075304), '66.522781,66.586467', (57.153214, 65.564511), (59.8165, 30.294057), (57.152384, 65.567152), 'nan', 'nan', (55.643896, 37.796939), (57.151652, 65.53342)]\n",
    "dt = 140 / len(l)\n",
    "f\"{dt:.2f} секунды на адрес; \", f\"{dt*1600/3600:.2f} часа на датасет; \", f\"{dt*120} секунд для валидации алгоритма\""
   ]
  },
  {
   "cell_type": "code",
   "execution_count": 109,
   "metadata": {},
   "outputs": [
    {
     "name": "stdout",
     "output_type": "stream",
     "text": [
      "63.794844,74.542409\n"
     ]
    }
   ],
   "source": [
    "s = BeautifulSoup('<li class=\"search-snippet-view\"><div class=\"search-snippet-view__body _type_toponym\" data-coordinates=\"74.542409,63.794844\" data-id=\"1639169560\" data-log-id=\"dHlwZT1nZW9jb2RlcjthZGRyZXNzPWdlb2NvZGVyMQ==\" data-object=\"search-list-item\"><div aria-hidden=\"false\" role=\"button\" tabindex=\"0\"><div class=\"search-snippet-view__content\"><div class=\"search-snippet-view__head\"><div class=\"search-snippet-view__title\">Панель 11</div></div><div class=\"search-snippet-view__description\">Ямало-Ненецкий автономный округ, Муравленко, Панель 11</div></div></div></div></li>', parser='html.parser')\n",
    "divs = s.findAll('div')\n",
    "for div in divs:\n",
    "    if div.has_attr('data-coordinates'):\n",
    "        print(','.join(div['data-coordinates'].split(',')[::-1]))\n",
    "    break"
   ]
  },
  {
   "cell_type": "markdown",
   "metadata": {},
   "source": [
    "# Processing data"
   ]
  },
  {
   "cell_type": "code",
   "execution_count": 13,
   "metadata": {},
   "outputs": [
    {
     "data": {
      "text/plain": [
       "'193/1856 duplicates. Percentage of duplicates: 10.40%. Number of unique companies: 1663'"
      ]
     },
     "execution_count": 13,
     "metadata": {},
     "output_type": "execute_result"
    }
   ],
   "source": [
    "# 193 дубликата адреса\n",
    "buyer_address = pd.DataFrame(buyer.address.value_counts()).reset_index()\n",
    "buyer_address_iter = iter(buyer_address.address.values)\n",
    "\"{}/{} duplicates. Percentage of duplicates: {}. Number of unique companies: {}\".format(dup:=buyer_address['count'].apply(lambda x: x - 1 if x > 1 else 0).sum(), buyer.shape[0], f'{dup/buyer.shape[0]*100:.2f}%', buyer_address.shape[0])"
   ]
  },
  {
   "cell_type": "markdown",
   "metadata": {},
   "source": [
    "result:\n",
    "```\n",
    "((lat, lon),\n",
    " {'yandex.ru': 0, '2gis.ru': 0, 'alta.ru': 1, 'freicon.ru': 1},\n",
    " 'alta.ru')\n",
    "```\n",
    " or\n",
    "\n",
    " 'nan'"
   ]
  },
  {
   "cell_type": "code",
   "execution_count": 14,
   "metadata": {},
   "outputs": [],
   "source": [
    "def prepare_result(result):\n",
    "    if isinstance(result, tuple):\n",
    "        return list(result[0]) + list(result[1].values()) + [result[2]]\n",
    "    else:\n",
    "        return [result]*7"
   ]
  },
  {
   "cell_type": "code",
   "execution_count": 16,
   "metadata": {},
   "outputs": [
    {
     "name": "stderr",
     "output_type": "stream",
     "text": [
      "  0%|          | 0/1494 [00:00<?, ?it/s]"
     ]
    },
    {
     "name": "stdout",
     "output_type": "stream",
     "text": [
      "cur_banned_timeout=1/80\n"
     ]
    },
    {
     "name": "stderr",
     "output_type": "stream",
     "text": [
      "  0%|          | 1/1494 [00:13<5:40:31, 13.68s/it]"
     ]
    },
    {
     "name": "stdout",
     "output_type": "stream",
     "text": [
      "cur_banned_timeout=2/80\n"
     ]
    },
    {
     "name": "stderr",
     "output_type": "stream",
     "text": [
      "  0%|          | 2/1494 [00:29<6:07:51, 14.79s/it]"
     ]
    },
    {
     "name": "stdout",
     "output_type": "stream",
     "text": [
      "cur_banned_timeout=3/80\n"
     ]
    },
    {
     "name": "stderr",
     "output_type": "stream",
     "text": [
      "  0%|          | 3/1494 [00:42<5:46:29, 13.94s/it]"
     ]
    },
    {
     "name": "stdout",
     "output_type": "stream",
     "text": [
      "cur_banned_timeout=4/80\n"
     ]
    },
    {
     "name": "stderr",
     "output_type": "stream",
     "text": [
      "  0%|          | 4/1494 [00:55<5:36:17, 13.54s/it]"
     ]
    },
    {
     "name": "stdout",
     "output_type": "stream",
     "text": [
      "cur_banned_timeout=5/80\n"
     ]
    },
    {
     "name": "stderr",
     "output_type": "stream",
     "text": [
      "  0%|          | 5/1494 [01:08<5:35:22, 13.51s/it]"
     ]
    },
    {
     "name": "stdout",
     "output_type": "stream",
     "text": [
      "cur_banned_timeout=6/80\n"
     ]
    },
    {
     "name": "stderr",
     "output_type": "stream",
     "text": [
      "  0%|          | 6/1494 [01:24<5:52:09, 14.20s/it]"
     ]
    },
    {
     "name": "stdout",
     "output_type": "stream",
     "text": [
      "cur_banned_timeout=7/80\n"
     ]
    },
    {
     "name": "stderr",
     "output_type": "stream",
     "text": [
      "  0%|          | 7/1494 [01:36<5:41:15, 13.77s/it]"
     ]
    },
    {
     "name": "stdout",
     "output_type": "stream",
     "text": [
      "cur_banned_timeout=8/80\n"
     ]
    },
    {
     "name": "stderr",
     "output_type": "stream",
     "text": [
      "  1%|          | 8/1494 [01:49<5:32:30, 13.43s/it]"
     ]
    },
    {
     "name": "stdout",
     "output_type": "stream",
     "text": [
      "cur_banned_timeout=9/80\n"
     ]
    },
    {
     "name": "stderr",
     "output_type": "stream",
     "text": [
      "  1%|          | 9/1494 [02:02<5:27:01, 13.21s/it]"
     ]
    },
    {
     "name": "stdout",
     "output_type": "stream",
     "text": [
      "cur_banned_timeout=10/80\n"
     ]
    },
    {
     "name": "stderr",
     "output_type": "stream",
     "text": [
      "  1%|          | 10/1494 [02:17<5:42:32, 13.85s/it]"
     ]
    },
    {
     "name": "stdout",
     "output_type": "stream",
     "text": [
      "cur_banned_timeout=11/80\n"
     ]
    },
    {
     "name": "stderr",
     "output_type": "stream",
     "text": [
      "  1%|          | 11/1494 [02:30<5:31:04, 13.39s/it]"
     ]
    },
    {
     "name": "stdout",
     "output_type": "stream",
     "text": [
      "cur_banned_timeout=12/80\n"
     ]
    },
    {
     "name": "stderr",
     "output_type": "stream",
     "text": [
      "  1%|          | 12/1494 [02:43<5:34:25, 13.54s/it]"
     ]
    },
    {
     "name": "stdout",
     "output_type": "stream",
     "text": [
      "cur_banned_timeout=13/80\n"
     ]
    },
    {
     "name": "stderr",
     "output_type": "stream",
     "text": [
      "  1%|          | 13/1494 [03:00<5:55:54, 14.42s/it]"
     ]
    },
    {
     "name": "stdout",
     "output_type": "stream",
     "text": [
      "cur_banned_timeout=14/80\n"
     ]
    },
    {
     "name": "stderr",
     "output_type": "stream",
     "text": [
      "  1%|          | 14/1494 [03:12<5:41:27, 13.84s/it]"
     ]
    },
    {
     "name": "stdout",
     "output_type": "stream",
     "text": [
      "cur_banned_timeout=15/80\n"
     ]
    },
    {
     "name": "stderr",
     "output_type": "stream",
     "text": [
      "  1%|          | 15/1494 [03:25<5:35:29, 13.61s/it]"
     ]
    },
    {
     "name": "stdout",
     "output_type": "stream",
     "text": [
      "cur_banned_timeout=16/80\n"
     ]
    },
    {
     "name": "stderr",
     "output_type": "stream",
     "text": [
      "  1%|          | 16/1494 [03:38<5:29:53, 13.39s/it]"
     ]
    },
    {
     "name": "stdout",
     "output_type": "stream",
     "text": [
      "cur_banned_timeout=17/80\n"
     ]
    },
    {
     "name": "stderr",
     "output_type": "stream",
     "text": [
      "  1%|          | 17/1494 [03:51<5:23:56, 13.16s/it]"
     ]
    },
    {
     "name": "stdout",
     "output_type": "stream",
     "text": [
      "cur_banned_timeout=18/80\n"
     ]
    },
    {
     "name": "stderr",
     "output_type": "stream",
     "text": [
      "  1%|          | 18/1494 [04:04<5:22:14, 13.10s/it]"
     ]
    },
    {
     "name": "stdout",
     "output_type": "stream",
     "text": [
      "cur_banned_timeout=19/80\n"
     ]
    },
    {
     "name": "stderr",
     "output_type": "stream",
     "text": [
      "  1%|▏         | 19/1494 [04:17<5:22:36, 13.12s/it]"
     ]
    },
    {
     "name": "stdout",
     "output_type": "stream",
     "text": [
      "cur_banned_timeout=20/80\n"
     ]
    },
    {
     "name": "stderr",
     "output_type": "stream",
     "text": [
      "  1%|▏         | 20/1494 [04:30<5:19:15, 13.00s/it]"
     ]
    },
    {
     "name": "stdout",
     "output_type": "stream",
     "text": [
      "cur_banned_timeout=21/80\n"
     ]
    },
    {
     "name": "stderr",
     "output_type": "stream",
     "text": [
      "  1%|▏         | 21/1494 [04:44<5:25:24, 13.25s/it]"
     ]
    },
    {
     "name": "stdout",
     "output_type": "stream",
     "text": [
      "cur_banned_timeout=22/80\n"
     ]
    },
    {
     "name": "stderr",
     "output_type": "stream",
     "text": [
      "  1%|▏         | 22/1494 [04:57<5:22:33, 13.15s/it]"
     ]
    },
    {
     "name": "stdout",
     "output_type": "stream",
     "text": [
      "cur_banned_timeout=23/80\n"
     ]
    },
    {
     "name": "stderr",
     "output_type": "stream",
     "text": [
      "  2%|▏         | 23/1494 [05:17<6:18:23, 15.43s/it]"
     ]
    },
    {
     "name": "stdout",
     "output_type": "stream",
     "text": [
      "cur_banned_timeout=24/80\n"
     ]
    },
    {
     "name": "stderr",
     "output_type": "stream",
     "text": [
      "  2%|▏         | 24/1494 [05:30<6:00:02, 14.70s/it]"
     ]
    },
    {
     "name": "stdout",
     "output_type": "stream",
     "text": [
      "cur_banned_timeout=25/80\n"
     ]
    },
    {
     "name": "stderr",
     "output_type": "stream",
     "text": [
      "  2%|▏         | 25/1494 [05:44<5:50:37, 14.32s/it]"
     ]
    },
    {
     "name": "stdout",
     "output_type": "stream",
     "text": [
      "cur_banned_timeout=26/80\n"
     ]
    },
    {
     "name": "stderr",
     "output_type": "stream",
     "text": [
      "  2%|▏         | 26/1494 [05:57<5:42:13, 13.99s/it]"
     ]
    },
    {
     "name": "stdout",
     "output_type": "stream",
     "text": [
      "cur_banned_timeout=27/80\n"
     ]
    },
    {
     "name": "stderr",
     "output_type": "stream",
     "text": [
      "  2%|▏         | 27/1494 [06:13<5:58:15, 14.65s/it]"
     ]
    },
    {
     "name": "stdout",
     "output_type": "stream",
     "text": [
      "cur_banned_timeout=28/80\n"
     ]
    },
    {
     "name": "stderr",
     "output_type": "stream",
     "text": [
      "  2%|▏         | 28/1494 [06:26<5:47:47, 14.23s/it]"
     ]
    },
    {
     "name": "stdout",
     "output_type": "stream",
     "text": [
      "cur_banned_timeout=29/80\n"
     ]
    },
    {
     "name": "stderr",
     "output_type": "stream",
     "text": [
      "  2%|▏         | 29/1494 [06:40<5:44:54, 14.13s/it]"
     ]
    },
    {
     "name": "stdout",
     "output_type": "stream",
     "text": [
      "cur_banned_timeout=30/80\n"
     ]
    },
    {
     "name": "stderr",
     "output_type": "stream",
     "text": [
      "  2%|▏         | 30/1494 [07:01<6:36:28, 16.25s/it]"
     ]
    },
    {
     "name": "stdout",
     "output_type": "stream",
     "text": [
      "cur_banned_timeout=31/80\n"
     ]
    },
    {
     "name": "stderr",
     "output_type": "stream",
     "text": [
      "  2%|▏         | 31/1494 [07:15<6:13:06, 15.30s/it]"
     ]
    },
    {
     "name": "stdout",
     "output_type": "stream",
     "text": [
      "cur_banned_timeout=32/80\n"
     ]
    },
    {
     "name": "stderr",
     "output_type": "stream",
     "text": [
      "  2%|▏         | 32/1494 [07:36<6:53:53, 16.99s/it]"
     ]
    },
    {
     "name": "stdout",
     "output_type": "stream",
     "text": [
      "cur_banned_timeout=33/80\n"
     ]
    },
    {
     "name": "stderr",
     "output_type": "stream",
     "text": [
      "  2%|▏         | 33/1494 [07:49<6:25:38, 15.84s/it]"
     ]
    },
    {
     "name": "stdout",
     "output_type": "stream",
     "text": [
      "cur_banned_timeout=34/80\n"
     ]
    },
    {
     "name": "stderr",
     "output_type": "stream",
     "text": [
      "  2%|▏         | 34/1494 [08:03<6:10:58, 15.25s/it]"
     ]
    },
    {
     "name": "stdout",
     "output_type": "stream",
     "text": [
      "cur_banned_timeout=35/80\n"
     ]
    },
    {
     "name": "stderr",
     "output_type": "stream",
     "text": [
      "  2%|▏         | 35/1494 [08:16<5:54:43, 14.59s/it]"
     ]
    },
    {
     "name": "stdout",
     "output_type": "stream",
     "text": [
      "cur_banned_timeout=36/80\n"
     ]
    },
    {
     "name": "stderr",
     "output_type": "stream",
     "text": [
      "  2%|▏         | 36/1494 [08:29<5:43:47, 14.15s/it]"
     ]
    },
    {
     "name": "stdout",
     "output_type": "stream",
     "text": [
      "cur_banned_timeout=37/80\n"
     ]
    },
    {
     "name": "stderr",
     "output_type": "stream",
     "text": [
      "  2%|▏         | 37/1494 [08:42<5:34:26, 13.77s/it]"
     ]
    },
    {
     "name": "stdout",
     "output_type": "stream",
     "text": [
      "cur_banned_timeout=38/80\n"
     ]
    },
    {
     "name": "stderr",
     "output_type": "stream",
     "text": [
      "  3%|▎         | 38/1494 [08:54<5:27:08, 13.48s/it]"
     ]
    },
    {
     "name": "stdout",
     "output_type": "stream",
     "text": [
      "cur_banned_timeout=39/80\n"
     ]
    },
    {
     "name": "stderr",
     "output_type": "stream",
     "text": [
      "  3%|▎         | 39/1494 [09:07<5:22:41, 13.31s/it]"
     ]
    },
    {
     "name": "stdout",
     "output_type": "stream",
     "text": [
      "cur_banned_timeout=40/80\n"
     ]
    },
    {
     "name": "stderr",
     "output_type": "stream",
     "text": [
      "  3%|▎         | 40/1494 [09:20<5:16:47, 13.07s/it]"
     ]
    },
    {
     "name": "stdout",
     "output_type": "stream",
     "text": [
      "cur_banned_timeout=41/80\n"
     ]
    },
    {
     "name": "stderr",
     "output_type": "stream",
     "text": [
      "  3%|▎         | 41/1494 [09:32<5:11:52, 12.88s/it]"
     ]
    },
    {
     "name": "stdout",
     "output_type": "stream",
     "text": [
      "cur_banned_timeout=42/80\n"
     ]
    },
    {
     "name": "stderr",
     "output_type": "stream",
     "text": [
      "  3%|▎         | 42/1494 [09:46<5:16:19, 13.07s/it]"
     ]
    },
    {
     "name": "stdout",
     "output_type": "stream",
     "text": [
      "cur_banned_timeout=43/80\n"
     ]
    },
    {
     "name": "stderr",
     "output_type": "stream",
     "text": [
      "  3%|▎         | 43/1494 [09:58<5:11:59, 12.90s/it]"
     ]
    },
    {
     "name": "stdout",
     "output_type": "stream",
     "text": [
      "cur_banned_timeout=44/80\n"
     ]
    },
    {
     "name": "stderr",
     "output_type": "stream",
     "text": [
      "  3%|▎         | 44/1494 [10:11<5:09:45, 12.82s/it]"
     ]
    },
    {
     "name": "stdout",
     "output_type": "stream",
     "text": [
      "cur_banned_timeout=45/80\n"
     ]
    },
    {
     "name": "stderr",
     "output_type": "stream",
     "text": [
      "  3%|▎         | 45/1494 [10:23<5:06:07, 12.68s/it]"
     ]
    },
    {
     "name": "stdout",
     "output_type": "stream",
     "text": [
      "cur_banned_timeout=46/80\n"
     ]
    },
    {
     "name": "stderr",
     "output_type": "stream",
     "text": [
      "  3%|▎         | 46/1494 [10:36<5:05:06, 12.64s/it]"
     ]
    },
    {
     "name": "stdout",
     "output_type": "stream",
     "text": [
      "cur_banned_timeout=47/80\n"
     ]
    },
    {
     "name": "stderr",
     "output_type": "stream",
     "text": [
      "  3%|▎         | 47/1494 [10:48<5:03:54, 12.60s/it]"
     ]
    },
    {
     "name": "stdout",
     "output_type": "stream",
     "text": [
      "cur_banned_timeout=48/80\n"
     ]
    },
    {
     "name": "stderr",
     "output_type": "stream",
     "text": [
      "  3%|▎         | 48/1494 [11:01<5:06:52, 12.73s/it]"
     ]
    },
    {
     "name": "stdout",
     "output_type": "stream",
     "text": [
      "cur_banned_timeout=49/80\n"
     ]
    },
    {
     "name": "stderr",
     "output_type": "stream",
     "text": [
      "  3%|▎         | 49/1494 [11:15<5:11:22, 12.93s/it]"
     ]
    },
    {
     "name": "stdout",
     "output_type": "stream",
     "text": [
      "cur_banned_timeout=50/80\n"
     ]
    },
    {
     "name": "stderr",
     "output_type": "stream",
     "text": [
      "  3%|▎         | 50/1494 [11:29<5:19:08, 13.26s/it]"
     ]
    },
    {
     "name": "stdout",
     "output_type": "stream",
     "text": [
      "cur_banned_timeout=51/80\n"
     ]
    },
    {
     "name": "stderr",
     "output_type": "stream",
     "text": [
      "  3%|▎         | 51/1494 [11:48<6:01:49, 15.04s/it]"
     ]
    },
    {
     "name": "stdout",
     "output_type": "stream",
     "text": [
      "cur_banned_timeout=52/80\n"
     ]
    },
    {
     "name": "stderr",
     "output_type": "stream",
     "text": [
      "  3%|▎         | 52/1494 [12:01<5:48:08, 14.49s/it]"
     ]
    },
    {
     "name": "stdout",
     "output_type": "stream",
     "text": [
      "cur_banned_timeout=53/80\n"
     ]
    },
    {
     "name": "stderr",
     "output_type": "stream",
     "text": [
      "  4%|▎         | 53/1494 [12:14<5:36:52, 14.03s/it]"
     ]
    },
    {
     "name": "stdout",
     "output_type": "stream",
     "text": [
      "cur_banned_timeout=54/80\n"
     ]
    },
    {
     "name": "stderr",
     "output_type": "stream",
     "text": [
      "  4%|▎         | 54/1494 [12:26<5:24:25, 13.52s/it]"
     ]
    },
    {
     "name": "stdout",
     "output_type": "stream",
     "text": [
      "cur_banned_timeout=55/80\n"
     ]
    },
    {
     "name": "stderr",
     "output_type": "stream",
     "text": [
      "  4%|▎         | 55/1494 [12:39<5:17:30, 13.24s/it]"
     ]
    },
    {
     "name": "stdout",
     "output_type": "stream",
     "text": [
      "cur_banned_timeout=56/80\n"
     ]
    },
    {
     "name": "stderr",
     "output_type": "stream",
     "text": [
      "  4%|▎         | 56/1494 [12:52<5:15:06, 13.15s/it]"
     ]
    },
    {
     "name": "stdout",
     "output_type": "stream",
     "text": [
      "cur_banned_timeout=57/80\n"
     ]
    },
    {
     "name": "stderr",
     "output_type": "stream",
     "text": [
      "  4%|▍         | 57/1494 [13:05<5:12:20, 13.04s/it]"
     ]
    },
    {
     "name": "stdout",
     "output_type": "stream",
     "text": [
      "cur_banned_timeout=58/80\n"
     ]
    },
    {
     "name": "stderr",
     "output_type": "stream",
     "text": [
      "  4%|▍         | 58/1494 [13:18<5:13:23, 13.09s/it]"
     ]
    },
    {
     "name": "stdout",
     "output_type": "stream",
     "text": [
      "cur_banned_timeout=59/80\n"
     ]
    },
    {
     "name": "stderr",
     "output_type": "stream",
     "text": [
      "  4%|▍         | 59/1494 [13:30<5:08:02, 12.88s/it]"
     ]
    },
    {
     "name": "stdout",
     "output_type": "stream",
     "text": [
      "cur_banned_timeout=60/80\n"
     ]
    },
    {
     "name": "stderr",
     "output_type": "stream",
     "text": [
      "  4%|▍         | 60/1494 [13:43<5:09:01, 12.93s/it]"
     ]
    },
    {
     "name": "stdout",
     "output_type": "stream",
     "text": [
      "cur_banned_timeout=61/80\n"
     ]
    },
    {
     "name": "stderr",
     "output_type": "stream",
     "text": [
      "  4%|▍         | 61/1494 [13:59<5:25:22, 13.62s/it]"
     ]
    },
    {
     "name": "stdout",
     "output_type": "stream",
     "text": [
      "cur_banned_timeout=62/80\n"
     ]
    },
    {
     "name": "stderr",
     "output_type": "stream",
     "text": [
      "  4%|▍         | 62/1494 [14:12<5:24:43, 13.61s/it]"
     ]
    },
    {
     "name": "stdout",
     "output_type": "stream",
     "text": [
      "cur_banned_timeout=63/80\n"
     ]
    },
    {
     "name": "stderr",
     "output_type": "stream",
     "text": [
      "  4%|▍         | 63/1494 [14:26<5:24:47, 13.62s/it]"
     ]
    },
    {
     "name": "stdout",
     "output_type": "stream",
     "text": [
      "cur_banned_timeout=64/80\n"
     ]
    },
    {
     "name": "stderr",
     "output_type": "stream",
     "text": [
      "  4%|▍         | 64/1494 [14:39<5:20:16, 13.44s/it]"
     ]
    },
    {
     "name": "stdout",
     "output_type": "stream",
     "text": [
      "cur_banned_timeout=65/80\n"
     ]
    },
    {
     "name": "stderr",
     "output_type": "stream",
     "text": [
      "  4%|▍         | 65/1494 [14:59<6:04:32, 15.31s/it]"
     ]
    },
    {
     "name": "stdout",
     "output_type": "stream",
     "text": [
      "cur_banned_timeout=66/80\n"
     ]
    },
    {
     "name": "stderr",
     "output_type": "stream",
     "text": [
      "  4%|▍         | 66/1494 [15:18<6:30:45, 16.42s/it]"
     ]
    },
    {
     "name": "stdout",
     "output_type": "stream",
     "text": [
      "cur_banned_timeout=67/80\n"
     ]
    },
    {
     "name": "stderr",
     "output_type": "stream",
     "text": [
      "  4%|▍         | 67/1494 [15:30<6:04:42, 15.33s/it]"
     ]
    },
    {
     "name": "stdout",
     "output_type": "stream",
     "text": [
      "cur_banned_timeout=68/80\n"
     ]
    },
    {
     "name": "stderr",
     "output_type": "stream",
     "text": [
      "  5%|▍         | 68/1494 [15:45<5:57:25, 15.04s/it]"
     ]
    },
    {
     "name": "stdout",
     "output_type": "stream",
     "text": [
      "cur_banned_timeout=69/80\n"
     ]
    },
    {
     "name": "stderr",
     "output_type": "stream",
     "text": [
      "  5%|▍         | 69/1494 [16:01<6:03:03, 15.29s/it]"
     ]
    },
    {
     "name": "stdout",
     "output_type": "stream",
     "text": [
      "cur_banned_timeout=70/80\n"
     ]
    },
    {
     "name": "stderr",
     "output_type": "stream",
     "text": [
      "  5%|▍         | 70/1494 [16:15<5:53:33, 14.90s/it]"
     ]
    },
    {
     "name": "stdout",
     "output_type": "stream",
     "text": [
      "cur_banned_timeout=71/80\n"
     ]
    },
    {
     "name": "stderr",
     "output_type": "stream",
     "text": [
      "  5%|▍         | 71/1494 [16:27<5:38:19, 14.27s/it]"
     ]
    },
    {
     "name": "stdout",
     "output_type": "stream",
     "text": [
      "cur_banned_timeout=72/80\n"
     ]
    },
    {
     "name": "stderr",
     "output_type": "stream",
     "text": [
      "  5%|▍         | 72/1494 [16:40<5:25:35, 13.74s/it]"
     ]
    },
    {
     "name": "stdout",
     "output_type": "stream",
     "text": [
      "cur_banned_timeout=73/80\n"
     ]
    },
    {
     "name": "stderr",
     "output_type": "stream",
     "text": [
      "  5%|▍         | 73/1494 [16:55<5:34:01, 14.10s/it]"
     ]
    },
    {
     "name": "stdout",
     "output_type": "stream",
     "text": [
      "cur_banned_timeout=74/80\n"
     ]
    },
    {
     "name": "stderr",
     "output_type": "stream",
     "text": [
      "  5%|▍         | 74/1494 [17:09<5:34:44, 14.14s/it]"
     ]
    },
    {
     "name": "stdout",
     "output_type": "stream",
     "text": [
      "cur_banned_timeout=75/80\n"
     ]
    },
    {
     "name": "stderr",
     "output_type": "stream",
     "text": [
      "  5%|▌         | 75/1494 [17:23<5:32:30, 14.06s/it]"
     ]
    },
    {
     "name": "stdout",
     "output_type": "stream",
     "text": [
      "cur_banned_timeout=76/80\n"
     ]
    },
    {
     "name": "stderr",
     "output_type": "stream",
     "text": [
      "  5%|▌         | 76/1494 [17:36<5:26:22, 13.81s/it]"
     ]
    },
    {
     "name": "stdout",
     "output_type": "stream",
     "text": [
      "cur_banned_timeout=77/80\n"
     ]
    },
    {
     "name": "stderr",
     "output_type": "stream",
     "text": [
      "  5%|▌         | 77/1494 [18:04<7:02:50, 17.90s/it]"
     ]
    },
    {
     "name": "stdout",
     "output_type": "stream",
     "text": [
      "cur_banned_timeout=78/80\n"
     ]
    },
    {
     "name": "stderr",
     "output_type": "stream",
     "text": [
      "  5%|▌         | 78/1494 [18:31<8:08:32, 20.70s/it]"
     ]
    },
    {
     "name": "stdout",
     "output_type": "stream",
     "text": [
      "cur_banned_timeout=79/80\n"
     ]
    },
    {
     "name": "stderr",
     "output_type": "stream",
     "text": [
      "  5%|▌         | 79/1494 [18:58<8:52:56, 22.60s/it]"
     ]
    },
    {
     "name": "stdout",
     "output_type": "stream",
     "text": [
      "cur_banned_timeout=80/80\n"
     ]
    },
    {
     "name": "stderr",
     "output_type": "stream",
     "text": [
      "  5%|▌         | 80/1494 [19:25<9:23:30, 23.91s/it]"
     ]
    },
    {
     "name": "stdout",
     "output_type": "stream",
     "text": [
      "cur_banned_timeout=81/80\n"
     ]
    },
    {
     "name": "stderr",
     "output_type": "stream",
     "text": [
      "  7%|▋         | 108/1494 [25:19<4:50:24, 12.57s/it]"
     ]
    },
    {
     "name": "stdout",
     "output_type": "stream",
     "text": [
      "Probably, banned! 429 Client Error: Too Many Requests for url: https://www.google.com/sorry/index?continue=https://www.google.com/search%3Fq%3D184512%252C%2B%25D0%259C%25D1%2583%25D1%2580%25D0%25BC%25D0%25B0%25D0%25BD%25D1%2581%25D0%25BA%25D0%25B0%25D1%258F%2B%25D0%25BE%25D0%25B1%25D0%25BB.%252C%2B%25D1%2581%25D1%2582%25D0%25B0%25D0%25BD%25D1%2586%25D0%25B8%25D1%258F%26num%3D12%26hl%3Den%26start%3D0%26safe%3Dactive&hl=en&q=EgRdrw1rGLTdmrgGIjAh3HzCkFYRWwnA7hMk61260YT_xUv3aK_JMcbv7L3KNM9AoEFDStp3wo2sl8qmeGEyAXJaAUM\n",
      "cur_banned_timeout=1/80\n"
     ]
    },
    {
     "name": "stderr",
     "output_type": "stream",
     "text": [
      "  7%|▋         | 109/1494 [25:49<6:50:01, 17.76s/it]"
     ]
    },
    {
     "name": "stdout",
     "output_type": "stream",
     "text": [
      "cur_banned_timeout=2/80\n"
     ]
    },
    {
     "name": "stderr",
     "output_type": "stream",
     "text": [
      "  7%|▋         | 110/1494 [26:16<7:56:09, 20.64s/it]"
     ]
    },
    {
     "name": "stdout",
     "output_type": "stream",
     "text": [
      "cur_banned_timeout=3/80\n"
     ]
    },
    {
     "name": "stderr",
     "output_type": "stream",
     "text": [
      "  7%|▋         | 111/1494 [26:43<8:39:57, 22.56s/it]"
     ]
    },
    {
     "name": "stdout",
     "output_type": "stream",
     "text": [
      "cur_banned_timeout=4/80\n"
     ]
    },
    {
     "name": "stderr",
     "output_type": "stream",
     "text": [
      "  7%|▋         | 112/1494 [27:11<9:13:24, 24.03s/it]"
     ]
    },
    {
     "name": "stdout",
     "output_type": "stream",
     "text": [
      "cur_banned_timeout=5/80\n"
     ]
    },
    {
     "name": "stderr",
     "output_type": "stream",
     "text": [
      "  8%|▊         | 113/1494 [27:37<9:29:15, 24.73s/it]"
     ]
    },
    {
     "name": "stdout",
     "output_type": "stream",
     "text": [
      "cur_banned_timeout=6/80\n"
     ]
    },
    {
     "name": "stderr",
     "output_type": "stream",
     "text": [
      "  8%|▊         | 114/1494 [28:05<9:48:15, 25.58s/it]"
     ]
    },
    {
     "name": "stdout",
     "output_type": "stream",
     "text": [
      "cur_banned_timeout=7/80\n"
     ]
    },
    {
     "name": "stderr",
     "output_type": "stream",
     "text": [
      "  8%|▊         | 115/1494 [28:32<10:01:32, 26.17s/it]"
     ]
    },
    {
     "name": "stdout",
     "output_type": "stream",
     "text": [
      "cur_banned_timeout=8/80\n"
     ]
    },
    {
     "name": "stderr",
     "output_type": "stream",
     "text": [
      "  8%|▊         | 116/1494 [29:00<10:13:21, 26.71s/it]"
     ]
    },
    {
     "name": "stdout",
     "output_type": "stream",
     "text": [
      "cur_banned_timeout=9/80\n"
     ]
    },
    {
     "name": "stderr",
     "output_type": "stream",
     "text": [
      "  8%|▊         | 117/1494 [29:27<10:17:01, 26.89s/it]"
     ]
    },
    {
     "name": "stdout",
     "output_type": "stream",
     "text": [
      "cur_banned_timeout=10/80\n"
     ]
    },
    {
     "name": "stderr",
     "output_type": "stream",
     "text": [
      "  8%|▊         | 118/1494 [29:55<10:18:45, 26.98s/it]"
     ]
    },
    {
     "name": "stdout",
     "output_type": "stream",
     "text": [
      "cur_banned_timeout=11/80\n"
     ]
    },
    {
     "name": "stderr",
     "output_type": "stream",
     "text": [
      "  8%|▊         | 119/1494 [30:22<10:19:44, 27.04s/it]"
     ]
    },
    {
     "name": "stdout",
     "output_type": "stream",
     "text": [
      "cur_banned_timeout=12/80\n"
     ]
    },
    {
     "name": "stderr",
     "output_type": "stream",
     "text": [
      "  8%|▊         | 120/1494 [30:50<10:24:38, 27.28s/it]"
     ]
    },
    {
     "name": "stdout",
     "output_type": "stream",
     "text": [
      "cur_banned_timeout=13/80\n"
     ]
    },
    {
     "name": "stderr",
     "output_type": "stream",
     "text": [
      "  8%|▊         | 121/1494 [31:17<10:25:14, 27.32s/it]"
     ]
    },
    {
     "name": "stdout",
     "output_type": "stream",
     "text": [
      "cur_banned_timeout=14/80\n"
     ]
    },
    {
     "name": "stderr",
     "output_type": "stream",
     "text": [
      "  8%|▊         | 122/1494 [31:44<10:21:35, 27.18s/it]"
     ]
    },
    {
     "name": "stdout",
     "output_type": "stream",
     "text": [
      "cur_banned_timeout=15/80\n"
     ]
    },
    {
     "name": "stderr",
     "output_type": "stream",
     "text": [
      "  8%|▊         | 123/1494 [32:11<10:23:23, 27.28s/it]"
     ]
    },
    {
     "name": "stdout",
     "output_type": "stream",
     "text": [
      "cur_banned_timeout=16/80\n"
     ]
    },
    {
     "name": "stderr",
     "output_type": "stream",
     "text": [
      "  8%|▊         | 124/1494 [32:39<10:23:24, 27.30s/it]"
     ]
    },
    {
     "name": "stdout",
     "output_type": "stream",
     "text": [
      "cur_banned_timeout=17/80\n"
     ]
    },
    {
     "name": "stderr",
     "output_type": "stream",
     "text": [
      "  8%|▊         | 125/1494 [33:07<10:26:46, 27.47s/it]"
     ]
    },
    {
     "name": "stdout",
     "output_type": "stream",
     "text": [
      "cur_banned_timeout=18/80\n"
     ]
    },
    {
     "name": "stderr",
     "output_type": "stream",
     "text": [
      "  8%|▊         | 126/1494 [33:32<10:11:34, 26.82s/it]"
     ]
    },
    {
     "name": "stdout",
     "output_type": "stream",
     "text": [
      "cur_banned_timeout=19/80\n"
     ]
    },
    {
     "name": "stderr",
     "output_type": "stream",
     "text": [
      "  9%|▊         | 127/1494 [33:59<10:11:06, 26.82s/it]"
     ]
    },
    {
     "name": "stdout",
     "output_type": "stream",
     "text": [
      "cur_banned_timeout=20/80\n"
     ]
    },
    {
     "name": "stderr",
     "output_type": "stream",
     "text": [
      "  9%|▊         | 128/1494 [34:26<10:10:41, 26.82s/it]"
     ]
    },
    {
     "name": "stdout",
     "output_type": "stream",
     "text": [
      "cur_banned_timeout=21/80\n"
     ]
    },
    {
     "name": "stderr",
     "output_type": "stream",
     "text": [
      "  9%|▊         | 129/1494 [34:52<10:09:11, 26.78s/it]"
     ]
    },
    {
     "name": "stdout",
     "output_type": "stream",
     "text": [
      "cur_banned_timeout=22/80\n"
     ]
    },
    {
     "name": "stderr",
     "output_type": "stream",
     "text": [
      "  9%|▊         | 130/1494 [35:19<10:09:54, 26.83s/it]"
     ]
    },
    {
     "name": "stdout",
     "output_type": "stream",
     "text": [
      "cur_banned_timeout=23/80\n"
     ]
    },
    {
     "name": "stderr",
     "output_type": "stream",
     "text": [
      "  9%|▉         | 131/1494 [35:46<10:09:12, 26.82s/it]"
     ]
    },
    {
     "name": "stdout",
     "output_type": "stream",
     "text": [
      "cur_banned_timeout=24/80\n"
     ]
    },
    {
     "name": "stderr",
     "output_type": "stream",
     "text": [
      "  9%|▉         | 132/1494 [36:13<10:06:47, 26.73s/it]"
     ]
    },
    {
     "name": "stdout",
     "output_type": "stream",
     "text": [
      "cur_banned_timeout=25/80\n"
     ]
    },
    {
     "name": "stderr",
     "output_type": "stream",
     "text": [
      "  9%|▉         | 133/1494 [36:40<10:10:48, 26.93s/it]"
     ]
    },
    {
     "name": "stdout",
     "output_type": "stream",
     "text": [
      "cur_banned_timeout=26/80\n"
     ]
    },
    {
     "name": "stderr",
     "output_type": "stream",
     "text": [
      "  9%|▉         | 134/1494 [37:07<10:11:21, 26.97s/it]"
     ]
    },
    {
     "name": "stdout",
     "output_type": "stream",
     "text": [
      "cur_banned_timeout=27/80\n"
     ]
    },
    {
     "name": "stderr",
     "output_type": "stream",
     "text": [
      "  9%|▉         | 135/1494 [37:34<10:11:05, 26.98s/it]"
     ]
    },
    {
     "name": "stdout",
     "output_type": "stream",
     "text": [
      "cur_banned_timeout=28/80\n"
     ]
    },
    {
     "name": "stderr",
     "output_type": "stream",
     "text": [
      "  9%|▉         | 136/1494 [38:01<10:09:19, 26.92s/it]"
     ]
    },
    {
     "name": "stdout",
     "output_type": "stream",
     "text": [
      "cur_banned_timeout=29/80\n"
     ]
    },
    {
     "name": "stderr",
     "output_type": "stream",
     "text": [
      "  9%|▉         | 137/1494 [38:28<10:11:18, 27.03s/it]"
     ]
    },
    {
     "name": "stdout",
     "output_type": "stream",
     "text": [
      "cur_banned_timeout=30/80\n"
     ]
    },
    {
     "name": "stderr",
     "output_type": "stream",
     "text": [
      "  9%|▉         | 138/1494 [38:54<10:06:11, 26.82s/it]"
     ]
    },
    {
     "name": "stdout",
     "output_type": "stream",
     "text": [
      "cur_banned_timeout=31/80\n"
     ]
    },
    {
     "name": "stderr",
     "output_type": "stream",
     "text": [
      "  9%|▉         | 139/1494 [39:22<10:07:52, 26.92s/it]"
     ]
    },
    {
     "name": "stdout",
     "output_type": "stream",
     "text": [
      "cur_banned_timeout=32/80\n"
     ]
    },
    {
     "name": "stderr",
     "output_type": "stream",
     "text": [
      "  9%|▉         | 140/1494 [39:49<10:14:03, 27.21s/it]"
     ]
    },
    {
     "name": "stdout",
     "output_type": "stream",
     "text": [
      "cur_banned_timeout=33/80\n"
     ]
    },
    {
     "name": "stderr",
     "output_type": "stream",
     "text": [
      "  9%|▉         | 141/1494 [40:16<10:10:05, 27.05s/it]"
     ]
    },
    {
     "name": "stdout",
     "output_type": "stream",
     "text": [
      "cur_banned_timeout=34/80\n"
     ]
    },
    {
     "name": "stderr",
     "output_type": "stream",
     "text": [
      " 10%|▉         | 142/1494 [40:43<10:09:09, 27.03s/it]"
     ]
    },
    {
     "name": "stdout",
     "output_type": "stream",
     "text": [
      "cur_banned_timeout=35/80\n"
     ]
    },
    {
     "name": "stderr",
     "output_type": "stream",
     "text": [
      " 10%|▉         | 143/1494 [41:09<9:58:39, 26.59s/it] "
     ]
    },
    {
     "name": "stdout",
     "output_type": "stream",
     "text": [
      "cur_banned_timeout=36/80\n"
     ]
    },
    {
     "name": "stderr",
     "output_type": "stream",
     "text": [
      " 10%|▉         | 144/1494 [41:36<10:02:08, 26.76s/it]"
     ]
    },
    {
     "name": "stdout",
     "output_type": "stream",
     "text": [
      "cur_banned_timeout=37/80\n"
     ]
    },
    {
     "name": "stderr",
     "output_type": "stream",
     "text": [
      " 10%|▉         | 145/1494 [42:03<10:01:10, 26.74s/it]"
     ]
    },
    {
     "name": "stdout",
     "output_type": "stream",
     "text": [
      "cur_banned_timeout=38/80\n"
     ]
    },
    {
     "name": "stderr",
     "output_type": "stream",
     "text": [
      " 10%|▉         | 146/1494 [42:59<6:36:59, 17.67s/it] \n"
     ]
    },
    {
     "ename": "KeyboardInterrupt",
     "evalue": "",
     "output_type": "error",
     "traceback": [
      "\u001b[0;31m---------------------------------------------------------------------------\u001b[0m",
      "\u001b[0;31mKeyboardInterrupt\u001b[0m                         Traceback (most recent call last)",
      "Cell \u001b[0;32mIn[16], line 25\u001b[0m\n\u001b[1;32m     23\u001b[0m \u001b[38;5;28;01mif\u001b[39;00m requests_banned_flag:\n\u001b[1;32m     24\u001b[0m     captcha_sleep \u001b[38;5;241m=\u001b[39m \u001b[38;5;241m2\u001b[39m \u001b[38;5;28;01mif\u001b[39;00m num_captcha \u001b[38;5;241m<\u001b[39m captcha_timeout \u001b[38;5;241m-\u001b[39m \u001b[38;5;241m2\u001b[39m \u001b[38;5;28;01melse\u001b[39;00m \u001b[38;5;241m45\u001b[39m\n\u001b[0;32m---> 25\u001b[0m     result \u001b[38;5;241m=\u001b[39m prepare_result(geopc\u001b[38;5;241m.\u001b[39mprocess(address, google_delay\u001b[38;5;241m=\u001b[39m\u001b[38;5;241m2\u001b[39m, stage_delay\u001b[38;5;241m=\u001b[39m\u001b[38;5;241m2\u001b[39m, proxy\u001b[38;5;241m=\u001b[39mproxy, banned\u001b[38;5;241m=\u001b[39m\u001b[38;5;28;01mTrue\u001b[39;00m, captcha_sleep\u001b[38;5;241m=\u001b[39mcaptcha_sleep))\n\u001b[1;32m     26\u001b[0m     cur_banned_timeout \u001b[38;5;241m+\u001b[39m\u001b[38;5;241m=\u001b[39m \u001b[38;5;241m1\u001b[39m\n\u001b[1;32m     27\u001b[0m     \u001b[38;5;28mprint\u001b[39m(\u001b[38;5;124mf\u001b[39m\u001b[38;5;124m'\u001b[39m\u001b[38;5;132;01m{\u001b[39;00mcur_banned_timeout\u001b[38;5;132;01m=}\u001b[39;00m\u001b[38;5;124m/\u001b[39m\u001b[38;5;132;01m{\u001b[39;00mbanned_timeout_iterations\u001b[38;5;132;01m}\u001b[39;00m\u001b[38;5;124m'\u001b[39m)\n",
      "Cell \u001b[0;32mIn[6], line 221\u001b[0m, in \u001b[0;36mGeoProcessor.process\u001b[0;34m(self, addr, num_results, google_delay, stage_delay, proxy, banned, captcha_sleep)\u001b[0m\n\u001b[1;32m    219\u001b[0m time\u001b[38;5;241m.\u001b[39msleep(google_delay)\n\u001b[1;32m    220\u001b[0m sp \u001b[38;5;241m=\u001b[39m addr\u001b[38;5;241m.\u001b[39msplit()\n\u001b[0;32m--> 221\u001b[0m urls \u001b[38;5;241m=\u001b[39m \u001b[38;5;28mself\u001b[39m\u001b[38;5;241m.\u001b[39mgoogle_address(addr\u001b[38;5;241m=\u001b[39m\u001b[38;5;124m'\u001b[39m\u001b[38;5;124m \u001b[39m\u001b[38;5;124m'\u001b[39m\u001b[38;5;241m.\u001b[39mjoin(sp[\u001b[38;5;241m2\u001b[39m:\u001b[38;5;28mlen\u001b[39m(sp)\u001b[38;5;241m-\u001b[39m\u001b[38;5;241m1\u001b[39m]), num_results\u001b[38;5;241m=\u001b[39mnum_results, proxy\u001b[38;5;241m=\u001b[39mproxy, banned\u001b[38;5;241m=\u001b[39mbanned, captcha_sleep\u001b[38;5;241m=\u001b[39mcaptcha_sleep)\n\u001b[1;32m    222\u001b[0m matrix \u001b[38;5;241m=\u001b[39m np\u001b[38;5;241m.\u001b[39marray([[pattern \u001b[38;5;129;01min\u001b[39;00m url\u001b[38;5;241m.\u001b[39mlower() \u001b[38;5;28;01mfor\u001b[39;00m url \u001b[38;5;129;01min\u001b[39;00m urls] \u001b[38;5;28;01mfor\u001b[39;00m pattern \u001b[38;5;129;01min\u001b[39;00m \u001b[38;5;28mself\u001b[39m\u001b[38;5;241m.\u001b[39mpatterns])\n\u001b[1;32m    223\u001b[0m \u001b[38;5;28;01mif\u001b[39;00m (matrix\u001b[38;5;241m.\u001b[39msum() \u001b[38;5;241m<\u001b[39m \u001b[38;5;241m1\u001b[39m):\n",
      "Cell \u001b[0;32mIn[6], line 43\u001b[0m, in \u001b[0;36mGeoProcessor.google_address\u001b[0;34m(self, addr, num_results, proxy, banned, captcha_sleep)\u001b[0m\n\u001b[1;32m     41\u001b[0m \u001b[38;5;28;01mdef\u001b[39;00m \u001b[38;5;21mgoogle_address\u001b[39m(\u001b[38;5;28mself\u001b[39m, addr: \u001b[38;5;28mstr\u001b[39m, num_results\u001b[38;5;241m=\u001b[39m\u001b[38;5;241m5\u001b[39m, proxy\u001b[38;5;241m=\u001b[39m\u001b[38;5;28;01mNone\u001b[39;00m, banned\u001b[38;5;241m=\u001b[39m\u001b[38;5;28;01mFalse\u001b[39;00m, captcha_sleep\u001b[38;5;241m=\u001b[39m\u001b[38;5;241m2\u001b[39m):\n\u001b[1;32m     42\u001b[0m     \u001b[38;5;28;01mif\u001b[39;00m banned:\n\u001b[0;32m---> 43\u001b[0m         res \u001b[38;5;241m=\u001b[39m \u001b[38;5;28mlist\u001b[39m(\u001b[38;5;28mself\u001b[39m\u001b[38;5;241m.\u001b[39msearch_selenium(addr, num_results\u001b[38;5;241m=\u001b[39mnum_results, captcha_sleep\u001b[38;5;241m=\u001b[39mcaptcha_sleep))\n\u001b[1;32m     44\u001b[0m     \u001b[38;5;28;01melse\u001b[39;00m:\n\u001b[1;32m     45\u001b[0m         res \u001b[38;5;241m=\u001b[39m \u001b[38;5;28mlist\u001b[39m(search(addr, sleep_interval\u001b[38;5;241m=\u001b[39m\u001b[38;5;241m1\u001b[39m, num_results\u001b[38;5;241m=\u001b[39mnum_results, proxy\u001b[38;5;241m=\u001b[39mproxy))\n",
      "Cell \u001b[0;32mIn[6], line 58\u001b[0m, in \u001b[0;36mGeoProcessor.search_selenium\u001b[0;34m(self, address, num_results, captcha_sleep)\u001b[0m\n\u001b[1;32m     56\u001b[0m textarea\u001b[38;5;241m.\u001b[39msend_keys(address)\n\u001b[1;32m     57\u001b[0m textarea\u001b[38;5;241m.\u001b[39msend_keys(Keys\u001b[38;5;241m.\u001b[39mENTER)\n\u001b[0;32m---> 58\u001b[0m time\u001b[38;5;241m.\u001b[39msleep(captcha_sleep)\n\u001b[1;32m     59\u001b[0m html \u001b[38;5;241m=\u001b[39m browser\u001b[38;5;241m.\u001b[39mpage_source\n\u001b[1;32m     60\u001b[0m soup \u001b[38;5;241m=\u001b[39m BeautifulSoup(html, \u001b[38;5;124m\"\u001b[39m\u001b[38;5;124mhtml.parser\u001b[39m\u001b[38;5;124m\"\u001b[39m)\n",
      "\u001b[0;31mKeyboardInterrupt\u001b[0m: "
     ]
    }
   ],
   "source": [
    "import sys\n",
    "save_name = '../table_coords.csv'\n",
    "table = None\n",
    "proxy = None\n",
    "\n",
    "if Path(save_name).exists():\n",
    "    table = pd.read_csv(save_name)\n",
    "    need_addr = np.array(sorted(set(buyer_address.address.values.tolist()) - set(table.addr.values.tolist())))\n",
    "else:\n",
    "    need_addr = buyer_address.address.values\n",
    "\n",
    "banned_timeout_iterations = 80\n",
    "\n",
    "requests_banned_flag = True\n",
    "num_captcha = 0\n",
    "captcha_timeout = 150\n",
    "for cur_idx, address in tqdm(enumerate(iter(need_addr)), total=need_addr.shape[0]):\n",
    "    if (not requests_banned_flag) or (cur_banned_timeout > banned_timeout_iterations):\n",
    "        result = prepare_result(geopc.process(address, google_delay=2, stage_delay=2))\n",
    "        requests_banned_flag = 'banned' in result\n",
    "        cur_banned_timeout = 0\n",
    "    \n",
    "    if requests_banned_flag:\n",
    "        captcha_sleep = 2 if num_captcha < captcha_timeout - 2 else 45\n",
    "        result = prepare_result(geopc.process(address, google_delay=2, stage_delay=2, proxy=proxy, banned=True, captcha_sleep=captcha_sleep))\n",
    "        cur_banned_timeout += 1\n",
    "        print(f'{cur_banned_timeout=}/{banned_timeout_iterations}')\n",
    "        if 'banned' in result:\n",
    "            sys.exit()\n",
    "        num_captcha += 1\n",
    "        if num_captcha > captcha_timeout + 1:\n",
    "            num_captcha = 0\n",
    "    # time.sleep(20)\n",
    "    if table is None:\n",
    "        table = pd.DataFrame({'addr': address, 'lat': [result[0]], 'lon': [result[1]], 'yandex': [result[2]], '2gis': [result[3]], 'alta': [result[4]], 'freicon': [result[5]], 'executed': [result[6]]})\n",
    "    else:\n",
    "        tmp = pd.DataFrame({'addr': address, 'lat': [result[0]], 'lon': [result[1]], 'yandex': [result[2]], '2gis': [result[3]], 'alta': [result[4]], 'freicon': [result[5]], 'executed': [result[6]]})\n",
    "        table = pd.concat([table, tmp]).reset_index(drop=True)\n",
    "    table.to_csv(save_name, index=False, encoding='UTF-8')\n",
    "    time.sleep(3)"
   ]
  },
  {
   "cell_type": "code",
   "execution_count": 127,
   "metadata": {},
   "outputs": [
    {
     "data": {
      "text/plain": [
       "'109429, г. Москва, р-н Капотня, д. 38, стр. 1 '"
      ]
     },
     "execution_count": 127,
     "metadata": {},
     "output_type": "execute_result"
    }
   ],
   "source": [
    "address"
   ]
  },
  {
   "cell_type": "code",
   "execution_count": 128,
   "metadata": {},
   "outputs": [
    {
     "data": {
      "text/plain": [
       "((55.639613, 37.810018),\n",
       " {'yandex.ru': 2, '2gis.ru': 1, 'alta.ru': 0, 'freicon.ru': 0},\n",
       " 'yandex.ru')"
      ]
     },
     "execution_count": 128,
     "metadata": {},
     "output_type": "execute_result"
    }
   ],
   "source": [
    "geopc.process(address, google_delay=2, stage_delay=2, proxy=proxy, banned=True)"
   ]
  },
  {
   "cell_type": "code",
   "execution_count": 29,
   "metadata": {},
   "outputs": [
    {
     "data": {
      "text/plain": [
       "'nan'"
      ]
     },
     "execution_count": 29,
     "metadata": {},
     "output_type": "execute_result"
    }
   ],
   "source": [
    "geopc.process(address)"
   ]
  },
  {
   "cell_type": "code",
   "execution_count": 30,
   "metadata": {},
   "outputs": [
    {
     "data": {
      "text/plain": [
       "[]"
      ]
     },
     "execution_count": 30,
     "metadata": {},
     "output_type": "execute_result"
    }
   ],
   "source": [
    "geopc.urls"
   ]
  },
  {
   "cell_type": "code",
   "execution_count": 15,
   "metadata": {},
   "outputs": [
    {
     "ename": "HTTPError",
     "evalue": "429 Client Error: Too Many Requests for url: https://www.google.com/sorry/index?continue=https://www.google.com/search%3Fq%3D%25D1%2581%25D1%2582.%2B%25D0%259F%25D1%2580%25D0%25B8%25D0%25BE%25D0%25B1%25D1%258C%25D0%25B5%2B%25D0%25A1%25D0%25B2%25D0%25B5%25D1%2580%25D0%25B4%25D0%25BB%25D0%25BE%25D0%25B2%25D1%2581%25D0%25BA%25D0%25BE%25D0%25B9%2B%25D0%25B6%252F%25D0%25B4%252C%2B%25D0%25BA%25D0%25BE%25D0%25B4%2B779409%252C%2B%25D0%25BA%25D0%25BE%25D0%25B4%2B%25D0%25BF%25D0%25BE%25D0%25BB%25D1%2583%25D1%2587%25D0%25B0%25D1%2582%25D0%25B5%25D0%25BB%25D1%258F%2B6162%2B%26num%3D7%26hl%3Den%26start%3D0%26safe%3Dactive&hl=en&q=EgRdrw1rGOXllrgGIjAZcID5KfPfBJgguDMlQepjKhzx2OF38kHRZIoQB_kQ3myuKfc_M-jTo1CJN46oATkyAXJaAUM",
     "output_type": "error",
     "traceback": [
      "\u001b[0;31m---------------------------------------------------------------------------\u001b[0m",
      "\u001b[0;31mHTTPError\u001b[0m                                 Traceback (most recent call last)",
      "Cell \u001b[0;32mIn[15], line 1\u001b[0m\n\u001b[0;32m----> 1\u001b[0m geopc\u001b[38;5;241m.\u001b[39mgoogle_address(address)\n",
      "Cell \u001b[0;32mIn[5], line 40\u001b[0m, in \u001b[0;36mGeoProcessor.google_address\u001b[0;34m(self, addr, num_results)\u001b[0m\n\u001b[1;32m     39\u001b[0m \u001b[38;5;28;01mdef\u001b[39;00m \u001b[38;5;21mgoogle_address\u001b[39m(\u001b[38;5;28mself\u001b[39m, addr: \u001b[38;5;28mstr\u001b[39m, num_results\u001b[38;5;241m=\u001b[39m\u001b[38;5;241m5\u001b[39m):\n\u001b[0;32m---> 40\u001b[0m     res \u001b[38;5;241m=\u001b[39m \u001b[38;5;28mlist\u001b[39m(search(addr, sleep_interval\u001b[38;5;241m=\u001b[39m\u001b[38;5;241m1\u001b[39m, num_results\u001b[38;5;241m=\u001b[39mnum_results))\n\u001b[1;32m     41\u001b[0m     \u001b[38;5;28;01mreturn\u001b[39;00m res\n",
      "File \u001b[0;32m~/anaconda3/lib/python3.11/site-packages/googlesearch/__init__.py:50\u001b[0m, in \u001b[0;36msearch\u001b[0;34m(term, num_results, lang, proxy, advanced, sleep_interval, timeout, safe, ssl_verify, region)\u001b[0m\n\u001b[1;32m     46\u001b[0m fetched_results \u001b[38;5;241m=\u001b[39m \u001b[38;5;241m0\u001b[39m  \u001b[38;5;66;03m# Keep track of the total fetched results\u001b[39;00m\n\u001b[1;32m     48\u001b[0m \u001b[38;5;28;01mwhile\u001b[39;00m fetched_results \u001b[38;5;241m<\u001b[39m num_results:\n\u001b[1;32m     49\u001b[0m     \u001b[38;5;66;03m# Send request\u001b[39;00m\n\u001b[0;32m---> 50\u001b[0m     resp \u001b[38;5;241m=\u001b[39m _req(term, num_results \u001b[38;5;241m-\u001b[39m start,\n\u001b[1;32m     51\u001b[0m                 lang, start, proxies, timeout, safe, ssl_verify, region)\n\u001b[1;32m     53\u001b[0m     \u001b[38;5;66;03m# Parse\u001b[39;00m\n\u001b[1;32m     54\u001b[0m     soup \u001b[38;5;241m=\u001b[39m BeautifulSoup(resp\u001b[38;5;241m.\u001b[39mtext, \u001b[38;5;124m\"\u001b[39m\u001b[38;5;124mhtml.parser\u001b[39m\u001b[38;5;124m\"\u001b[39m)\n",
      "File \u001b[0;32m~/anaconda3/lib/python3.11/site-packages/googlesearch/__init__.py:26\u001b[0m, in \u001b[0;36m_req\u001b[0;34m(term, results, lang, start, proxies, timeout, safe, ssl_verify, region)\u001b[0m\n\u001b[1;32m      8\u001b[0m \u001b[38;5;28;01mdef\u001b[39;00m \u001b[38;5;21m_req\u001b[39m(term, results, lang, start, proxies, timeout, safe, ssl_verify, region):\n\u001b[1;32m      9\u001b[0m     resp \u001b[38;5;241m=\u001b[39m get(\n\u001b[1;32m     10\u001b[0m         url\u001b[38;5;241m=\u001b[39m\u001b[38;5;124m\"\u001b[39m\u001b[38;5;124mhttps://www.google.com/search\u001b[39m\u001b[38;5;124m\"\u001b[39m,\n\u001b[1;32m     11\u001b[0m         headers\u001b[38;5;241m=\u001b[39m{\n\u001b[0;32m   (...)\u001b[0m\n\u001b[1;32m     24\u001b[0m         verify\u001b[38;5;241m=\u001b[39mssl_verify,\n\u001b[1;32m     25\u001b[0m     )\n\u001b[0;32m---> 26\u001b[0m     resp\u001b[38;5;241m.\u001b[39mraise_for_status()\n\u001b[1;32m     27\u001b[0m     \u001b[38;5;28;01mreturn\u001b[39;00m resp\n",
      "File \u001b[0;32m~/anaconda3/lib/python3.11/site-packages/requests/models.py:1024\u001b[0m, in \u001b[0;36mResponse.raise_for_status\u001b[0;34m(self)\u001b[0m\n\u001b[1;32m   1019\u001b[0m     http_error_msg \u001b[38;5;241m=\u001b[39m (\n\u001b[1;32m   1020\u001b[0m         \u001b[38;5;124mf\u001b[39m\u001b[38;5;124m\"\u001b[39m\u001b[38;5;132;01m{\u001b[39;00m\u001b[38;5;28mself\u001b[39m\u001b[38;5;241m.\u001b[39mstatus_code\u001b[38;5;132;01m}\u001b[39;00m\u001b[38;5;124m Server Error: \u001b[39m\u001b[38;5;132;01m{\u001b[39;00mreason\u001b[38;5;132;01m}\u001b[39;00m\u001b[38;5;124m for url: \u001b[39m\u001b[38;5;132;01m{\u001b[39;00m\u001b[38;5;28mself\u001b[39m\u001b[38;5;241m.\u001b[39murl\u001b[38;5;132;01m}\u001b[39;00m\u001b[38;5;124m\"\u001b[39m\n\u001b[1;32m   1021\u001b[0m     )\n\u001b[1;32m   1023\u001b[0m \u001b[38;5;28;01mif\u001b[39;00m http_error_msg:\n\u001b[0;32m-> 1024\u001b[0m     \u001b[38;5;28;01mraise\u001b[39;00m HTTPError(http_error_msg, response\u001b[38;5;241m=\u001b[39m\u001b[38;5;28mself\u001b[39m)\n",
      "\u001b[0;31mHTTPError\u001b[0m: 429 Client Error: Too Many Requests for url: https://www.google.com/sorry/index?continue=https://www.google.com/search%3Fq%3D%25D1%2581%25D1%2582.%2B%25D0%259F%25D1%2580%25D0%25B8%25D0%25BE%25D0%25B1%25D1%258C%25D0%25B5%2B%25D0%25A1%25D0%25B2%25D0%25B5%25D1%2580%25D0%25B4%25D0%25BB%25D0%25BE%25D0%25B2%25D1%2581%25D0%25BA%25D0%25BE%25D0%25B9%2B%25D0%25B6%252F%25D0%25B4%252C%2B%25D0%25BA%25D0%25BE%25D0%25B4%2B779409%252C%2B%25D0%25BA%25D0%25BE%25D0%25B4%2B%25D0%25BF%25D0%25BE%25D0%25BB%25D1%2583%25D1%2587%25D0%25B0%25D1%2582%25D0%25B5%25D0%25BB%25D1%258F%2B6162%2B%26num%3D7%26hl%3Den%26start%3D0%26safe%3Dactive&hl=en&q=EgRdrw1rGOXllrgGIjAZcID5KfPfBJgguDMlQepjKhzx2OF38kHRZIoQB_kQ3myuKfc_M-jTo1CJN46oATkyAXJaAUM"
     ]
    }
   ],
   "source": [
    "geopc.google_address(address)"
   ]
  },
  {
   "cell_type": "code",
   "execution_count": 1,
   "metadata": {},
   "outputs": [],
   "source": [
    "import pandas as pd"
   ]
  },
  {
   "cell_type": "code",
   "execution_count": 3,
   "metadata": {},
   "outputs": [
    {
     "data": {
      "text/plain": [
       "'109429, г. Москва, р-н Капотня, кварт. 2, д. 20а '"
      ]
     },
     "execution_count": 3,
     "metadata": {},
     "output_type": "execute_result"
    }
   ],
   "source": [
    "pd.read_csv('/home/yaroslav/progs/digitdep_hack/table_coords.csv').addr.values[-1]"
   ]
  },
  {
   "cell_type": "code",
   "execution_count": 9,
   "metadata": {},
   "outputs": [],
   "source": [
    "class SearchResult:\n",
    "    def __init__(self, url, title, description):\n",
    "        self.url = url\n",
    "        self.title = title\n",
    "        self.description = description\n",
    "\n",
    "    def __repr__(self):\n",
    "        return f\"SearchResult(url={self.url}, title={self.title}, description={self.description})\""
   ]
  },
  {
   "cell_type": "code",
   "execution_count": 16,
   "metadata": {},
   "outputs": [],
   "source": [
    "address = '109429, г. Москва, р-н Капотня, кв-л 2, д.1, корп.3 '"
   ]
  },
  {
   "cell_type": "code",
   "execution_count": 23,
   "metadata": {},
   "outputs": [],
   "source": [
    "from copy import deepcopy\n",
    "options = deepcopy(geopc.options)\n",
    "options.page_load_strategy = 'eager'\n",
    "\n",
    "browser = wd.Chrome(options=options)\n",
    "browser.get('https://www.google.com/search')\n",
    "textarea = browser.find_element(By.XPATH, \"/html/body/div[1]/div[3]/form/div[1]/div[1]/div[1]/div/div[2]/textarea\")\n",
    "textarea.send_keys(address)\n",
    "textarea.send_keys(Keys.ENTER)\n",
    "time.sleep(1)\n",
    "html = browser.page_source"
   ]
  },
  {
   "cell_type": "code",
   "execution_count": 116,
   "metadata": {},
   "outputs": [],
   "source": [
    "soup = BeautifulSoup(html, \"html.parser\")"
   ]
  },
  {
   "cell_type": "code",
   "execution_count": 117,
   "metadata": {},
   "outputs": [
    {
     "data": {
      "text/plain": [
       "['https://yandex.ru/maps/213/moscow/house/2_y_kvartal_1k3/Z04YcQ5mQEYOQFtvfXp1cnRqYg==/',\n",
       " 'https://2gis.ru/moscow/geo/4504235282869830',\n",
       " 'https://yandex.ru/maps/213/moscow/house/1_y_kvartal_3/Z04YcQ5gS00FQFtvfXp1cHprYg==/',\n",
       " 'http://mosopen.ru/street/9443',\n",
       " 'https://www.pochta.ru/indexes/4efb6d0a-abfd-443a-9c56-743f77959abe']"
      ]
     },
     "execution_count": 117,
     "metadata": {},
     "output_type": "execute_result"
    }
   ],
   "source": [
    "list(parse_soup(soup))"
   ]
  }
 ],
 "metadata": {
  "kernelspec": {
   "display_name": "base",
   "language": "python",
   "name": "python3"
  },
  "language_info": {
   "codemirror_mode": {
    "name": "ipython",
    "version": 3
   },
   "file_extension": ".py",
   "mimetype": "text/x-python",
   "name": "python",
   "nbconvert_exporter": "python",
   "pygments_lexer": "ipython3",
   "version": "3.11.7"
  }
 },
 "nbformat": 4,
 "nbformat_minor": 2
}
